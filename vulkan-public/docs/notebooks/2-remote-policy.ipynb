{
 "cells": [
  {
   "cell_type": "markdown",
   "id": "0",
   "metadata": {},
   "source": [
    "# Running remotely in Vulkan Engine\n",
    "\n",
    "Now that we've tested and run our policy locally, we can use Vulkan Engine to scale and serve it. \\\n",
    "The same code will run in the remote server, and it'll have the added benefits of scalability, monitoring and governance. \n",
    "\n",
    "This notebook will show you how to upload this policy to the server and run a backtest!"
   ]
  },
  {
   "cell_type": "code",
   "execution_count": null,
   "id": "1",
   "metadata": {},
   "outputs": [],
   "source": [
    "import os\n",
    "\n",
    "import pandas as pd\n",
    "\n",
    "from vulkan_public.cli import client as vulkan\n",
    "from vulkan_public.cli.context import Context"
   ]
  },
  {
   "cell_type": "code",
   "execution_count": null,
   "id": "2",
   "metadata": {},
   "outputs": [],
   "source": [
    "ctx = Context()"
   ]
  },
  {
   "cell_type": "markdown",
   "id": "3",
   "metadata": {},
   "source": [
    "## Creating the Data Source\n",
    "\n",
    "As we're using a file to get the scores, we need to upload it. \\\n",
    "Then we'll let the platform know where to find the data by creating a remote data source with it."
   ]
  },
  {
   "cell_type": "code",
   "execution_count": null,
   "id": "4",
   "metadata": {},
   "outputs": [],
   "source": [
    "file_info = vulkan.backtest.upload_backtest_file(\n",
    "    ctx,\n",
    "    file_name=\"Data Source Reference\",\n",
    "    file_path=\"file_data_source.parquet\",\n",
    "    file_format=\"PARQUET\",\n",
    "    schema={\"tax_id\": \"str\", \"score\": \"int\"},\n",
    ")\n",
    "file_id = file_info[\"uploaded_file_id\"]"
   ]
  },
  {
   "cell_type": "code",
   "execution_count": null,
   "id": "5",
   "metadata": {},
   "outputs": [],
   "source": [
    "remote_file_source_schema = {\n",
    "    # The name of our Data Source. This is the same name we used when creating the Policy.\n",
    "    \"name\": \"file-input:my-api-name:v0.0.1\",\n",
    "    # Keys are used to know how to \"look up\" information. In this case, we know we should send the Tax Id column.\n",
    "    \"keys\": [\"tax_id\"],\n",
    "    # Where the magic happens: here, we're telling Vulkan to use our file as the information source.\n",
    "    \"source\": {\"file_id\": file_id},\n",
    "}\n",
    "\n",
    "file_data_source_id = vulkan.data.create_data_source(\n",
    "    ctx,\n",
    "    config=remote_file_source_schema,\n",
    ")"
   ]
  },
  {
   "cell_type": "markdown",
   "id": "6",
   "metadata": {},
   "source": [
    "## Creating the Policy"
   ]
  },
  {
   "cell_type": "code",
   "execution_count": null,
   "id": "7",
   "metadata": {},
   "outputs": [],
   "source": [
    "policy_path = os.path.abspath(\"..\")\n",
    "\n",
    "policy_id = vulkan.policy.create_policy(ctx, \"Test Beam Policy\")\n",
    "policy_version_id = vulkan.policy.create_policy_version(\n",
    "    ctx,\n",
    "    policy_id=policy_id,\n",
    "    version_name=\"My First Version\",\n",
    "    repository_path=policy_path,\n",
    ")"
   ]
  },
  {
   "cell_type": "code",
   "execution_count": null,
   "id": "8",
   "metadata": {},
   "outputs": [],
   "source": [
    "vulkan.policy_version.create_backtest_workspace(ctx, policy_version_id)"
   ]
  },
  {
   "cell_type": "markdown",
   "id": "9",
   "metadata": {},
   "source": [
    "## Running a Backtest\n",
    "\n",
    "Now we can create full-scale backtests using Vulkan. \\\n",
    "This is very similar to doing a batch run, except we use scalable infrastructure and keep track of performance for you. \\\n",
    "You can also specify some additional information on your \"target\" variable to get automatically generated metrics."
   ]
  },
  {
   "cell_type": "code",
   "execution_count": null,
   "id": "10",
   "metadata": {},
   "outputs": [],
   "source": [
    "backtest_info = vulkan.backtest.create_backtest(\n",
    "    ctx,\n",
    "    policy_version_id=policy_version_id,\n",
    "    input_file_id=file_id,\n",
    "    config_variables=[\n",
    "        {\"SCORE_CUTOFF\": 500},\n",
    "        {\"SCORE_CUTOFF\": 700},\n",
    "    ],\n",
    "    metrics_config={\n",
    "        \"target_column\": \"default\",\n",
    "    },\n",
    ")\n",
    "\n",
    "backtest_id = backtest_info[\"backtest_id\"]"
   ]
  },
  {
   "cell_type": "code",
   "execution_count": null,
   "id": "11",
   "metadata": {},
   "outputs": [],
   "source": [
    "vulkan.backtest.poll_backtest_status(ctx, backtest_id, timeout=360)"
   ]
  },
  {
   "cell_type": "code",
   "execution_count": null,
   "id": "12",
   "metadata": {},
   "outputs": [],
   "source": [
    "output = vulkan.backtest.get_results(ctx, backtest_id)\n",
    "output_data = pd.DataFrame(output)\n",
    "output_data.head(10)"
   ]
  },
  {
   "cell_type": "code",
   "execution_count": null,
   "id": "13",
   "metadata": {},
   "outputs": [],
   "source": []
  }
 ],
 "metadata": {
  "kernelspec": {
   "display_name": "Python 3 (ipykernel)",
   "language": "python",
   "name": "python3"
  },
  "language_info": {
   "codemirror_mode": {
    "name": "ipython",
    "version": 3
   },
   "file_extension": ".py",
   "mimetype": "text/x-python",
   "name": "python",
   "nbconvert_exporter": "python",
   "pygments_lexer": "ipython3",
   "version": "3.11.0"
  }
 },
 "nbformat": 4,
 "nbformat_minor": 5
}
