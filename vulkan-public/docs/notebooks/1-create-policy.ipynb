{
 "cells": [
  {
   "cell_type": "markdown",
   "id": "deb5ce13-acc9-44c3-bd0d-592308c84320",
   "metadata": {},
   "source": [
    "# Using Vulkan\n",
    "\n",
    "This notebook will take you through all the steps in using Vulkan to write policies.\\\n",
    "By the end, you will have:\n",
    "\n",
    "1. Created a new policy, which can be used for online and batch evaluation,\n",
    "2. Launched a run of your new policy,\n",
    "3. Checked its results.\n",
    "\n",
    "Let's dive in!"
   ]
  },
  {
   "cell_type": "code",
   "execution_count": 1,
   "id": "2862be97-3629-440e-928e-195966c466bc",
   "metadata": {},
   "outputs": [],
   "source": [
    "# Used to make our results easier to read\n",
    "from pprint import pprint\n",
    "\n",
    "# The actual Vulkan assets used\n",
    "import vulkan_public.cli.client as vulkan\n",
    "from vulkan_public.cli.context import Context"
   ]
  },
  {
   "cell_type": "code",
   "execution_count": 2,
   "id": "cead0aee-75c4-414e-9384-b820fa01fcde",
   "metadata": {},
   "outputs": [],
   "source": [
    "ctx = Context()"
   ]
  },
  {
   "cell_type": "markdown",
   "id": "e6bf22ac-e732-4448-b32c-68352a704da3",
   "metadata": {},
   "source": [
    "## Our First Policy\n",
    "\n",
    "Let's start by creating a simple policy.\\\n",
    "It takes in a person's (fictional) credit score, and tells us whether that person would be approved or denied.\n",
    "\n",
    "Later on, we'll see how to get data from an external data source and how to reuse parts of a policy.\n",
    "\n"
   ]
  },
  {
   "cell_type": "markdown",
   "id": "7a614e26-90fe-46d0-9292-b12ca07cd518",
   "metadata": {},
   "source": [
    "### Policy and Policy Versions\n",
    "\n",
    "In Vulkan, a `Policy` is an umbrella. It has a name, a description and an owner, and can have multiple versions.\\\n",
    "Each `Policy Version` can be used to make decisions separately, and you can have any number of them, making it easy to test and experiment.\\\n",
    "You can think of a Policy as how you make a decision on something, and a Version as each of the ways you'll want to try over time."
   ]
  },
  {
   "cell_type": "code",
   "execution_count": 3,
   "id": "a94b643c-8e6d-437d-9849-aa2bad9c196c",
   "metadata": {},
   "outputs": [
    {
     "name": "stderr",
     "output_type": "stream",
     "text": [
      "2024-11-28 15:35:36 DESKTOP-GLELM79 urllib3.connectionpool[82859] DEBUG Starting new HTTP connection (1): localhost:6001\n",
      "2024-11-28 15:35:36 DESKTOP-GLELM79 urllib3.connectionpool[82859] DEBUG http://localhost:6001 \"POST /policies HTTP/1.1\" 307 0\n",
      "2024-11-28 15:35:37 DESKTOP-GLELM79 urllib3.connectionpool[82859] DEBUG http://localhost:6001 \"POST /policies/ HTTP/1.1\" 200 77\n",
      "2024-11-28 15:35:37 DESKTOP-GLELM79 vulkan_public.cli.context[82859] INFO Created policy My First Policy with id 5bc7f9c1-26ef-47b3-9685-f1554cb96ffa\n"
     ]
    }
   ],
   "source": [
    "policy_id = vulkan.policy.create_policy(\n",
    "    ctx,\n",
    "    name=\"My First Policy\",\n",
    "    description=\"A nice policy description, which can be long.\",\n",
    ")"
   ]
  },
  {
   "cell_type": "markdown",
   "id": "f548d0a4-7912-4776-b2d3-c83920b07fcd",
   "metadata": {},
   "source": [
    "Each `Policy Version` is defined by its code, the `repository_path` used to create it.\\\n",
    "It is totally independent of others versions, and can have its own definitions and dependencies."
   ]
  },
  {
   "cell_type": "code",
   "execution_count": 4,
   "id": "72a5a98c-554f-4ef4-99cf-881bac99d737",
   "metadata": {},
   "outputs": [
    {
     "name": "stderr",
     "output_type": "stream",
     "text": [
      "2024-11-28 15:35:39 DESKTOP-GLELM79 vulkan_public.cli.context[82859] WARNING Failed to import module from entrypoint.\n",
      "2024-11-28 15:35:39 DESKTOP-GLELM79 vulkan_public.cli.context[82859] WARNING Import-related issue from user code: No module named 'test_policy'\n",
      "2024-11-28 15:35:39 DESKTOP-GLELM79 vulkan_public.cli.context[82859] INFO Creating workspace v0.0.1. This may take a while...\n",
      "2024-11-28 15:36:44 DESKTOP-GLELM79 urllib3.connectionpool[82859] DEBUG http://localhost:6001 \"POST /policies/5bc7f9c1-26ef-47b3-9685-f1554cb96ffa/versions HTTP/1.1\" 200 145\n",
      "2024-11-28 15:36:44 DESKTOP-GLELM79 vulkan_public.cli.context[82859] INFO Created workspace v0.0.1 with policy version 990c9c5b-9d9b-47d1-b469-8a3ddbb9c777\n"
     ]
    }
   ],
   "source": [
    "policy_version_id = vulkan.policy.create_policy_version(\n",
    "    ctx,\n",
    "    policy_id=policy_id,\n",
    "    version_name=\"v0.0.1\",\n",
    "    repository_path=\"../examples/policies/simple/\",\n",
    ")"
   ]
  },
  {
   "cell_type": "markdown",
   "id": "4dbf7afb-201b-41e6-b5a8-2067c45cface",
   "metadata": {},
   "source": [
    "### Runs: How we make decisions\n",
    "\n",
    "Now that we've created a policy version, **we're ready to make our first decision**.\n",
    "\n",
    "For that, we'll run our policy directly, giving it some input data.\\\n",
    "In this example, we want to return `APPROVED` if the score is greater than 400, and `DENIED` if not.\n",
    "\n",
    "The user's data is passed to the `input_data` field. In our example, it's just a \"score\" value.\\\n",
    "We configure our threshold with the `config_variable` \"SCORE_CUTOFF\"."
   ]
  },
  {
   "cell_type": "code",
   "execution_count": 5,
   "id": "6088f63e-33fd-4d43-a20e-cfac61037807",
   "metadata": {},
   "outputs": [
    {
     "name": "stderr",
     "output_type": "stream",
     "text": [
      "2024-11-28 15:36:44 DESKTOP-GLELM79 vulkan_public.cli.context[82859] INFO Lanching run with input data: {'tax_id': '1', 'score': 600}\n",
      "2024-11-28 15:36:46 DESKTOP-GLELM79 urllib3.connectionpool[82859] DEBUG http://localhost:6001 \"POST /policy-versions/990c9c5b-9d9b-47d1-b469-8a3ddbb9c777/runs HTTP/1.1\" 200 108\n",
      "2024-11-28 15:36:47 DESKTOP-GLELM79 urllib3.connectionpool[82859] DEBUG http://localhost:6001 \"GET /runs/39939483-7cca-476d-bcc7-5c7a57d28558 HTTP/1.1\" 200 284\n",
      "2024-11-28 15:36:48 DESKTOP-GLELM79 urllib3.connectionpool[82859] DEBUG http://localhost:6001 \"GET /runs/39939483-7cca-476d-bcc7-5c7a57d28558 HTTP/1.1\" 200 284\n",
      "2024-11-28 15:36:53 DESKTOP-GLELM79 urllib3.connectionpool[82859] DEBUG Resetting dropped connection: localhost\n",
      "2024-11-28 15:36:53 DESKTOP-GLELM79 urllib3.connectionpool[82859] DEBUG http://localhost:6001 \"GET /runs/39939483-7cca-476d-bcc7-5c7a57d28558 HTTP/1.1\" 200 290\n",
      "2024-11-28 15:36:54 DESKTOP-GLELM79 urllib3.connectionpool[82859] DEBUG http://localhost:6001 \"GET /runs/39939483-7cca-476d-bcc7-5c7a57d28558/data HTTP/1.1\" 200 513\n"
     ]
    },
    {
     "name": "stdout",
     "output_type": "stream",
     "text": [
      "'Output: approved'\n"
     ]
    }
   ],
   "source": [
    "run_id, status = vulkan.run.trigger_run_by_policy_version_id(\n",
    "    ctx,\n",
    "    policy_version_id=policy_version_id,\n",
    "    input_data={\"tax_id\": \"1\", \"score\": 600},\n",
    "    config_variables={\"SCORE_CUTOFF\": 400},\n",
    ")\n",
    "\n",
    "run_data = vulkan.run.get_run_data(ctx, run_id)\n",
    "\n",
    "# Retrieve the output of our decision.\n",
    "# In the next section, we'll look into more details for the run data.\n",
    "pprint(f'Output: {run_data[\"steps\"][\"branch_1\"][\"output\"]}')"
   ]
  },
  {
   "cell_type": "markdown",
   "id": "862474af-43c3-4106-b243-634d010bddfa",
   "metadata": {},
   "source": [
    "#### What happened?\n",
    "\n",
    "When you trigger a Run using Vulkan, your code will be executed.\\\n",
    "The *actual* execution is happening remotely, on Vulkan's servers.\\\n",
    "It uses the code you uploaded for the `Policy Version`. \\\n",
    "This way, we can handle the infrastructure for you, allowing simple code to scale.\n",
    "\n",
    "The engine will receive your inputs, the configuration you want to use, and run your code, producing a detailed log of each step.\\\n",
    "Let's take a look at the entire run data object returned.\n",
    "\n",
    "You'll see that it has a couple of important parts:\n",
    "\n",
    "1. Run Metadata:\n",
    "    1.  Run ID: An unique identifier for this run in Vulkan. You can use this to see logs, outputs, or to visualize the decision on the web app.\n",
    "    2.  Status: Whether or not the run finished successfully.\n",
    "    3.  Last Updated At: A timestamp for when the run finished.\n",
    "2. Run Steps:\n",
    "    1. Each step is identified by the name we gave it, in this case \"approved\" and \"branch\";\n",
    "    2. For each step, we have (1) `output`, which contains the actual output of the step, and (2) `metadata`, which brings information on what kind of step this was, how long it took, etc."
   ]
  },
  {
   "cell_type": "code",
   "execution_count": 6,
   "id": "af0b0589-2904-4d88-abe9-01d03044386b",
   "metadata": {},
   "outputs": [
    {
     "name": "stdout",
     "output_type": "stream",
     "text": [
      "{'last_updated_at': '2024-11-28T18:36:50.228568Z',\n",
      " 'run_id': '39939483-7cca-476d-bcc7-5c7a57d28558',\n",
      " 'status': 'SUCCESS',\n",
      " 'steps': {'approved': {'metadata': {'end_time': 1732819010.2492735,\n",
      "                                     'error': None,\n",
      "                                     'extra': None,\n",
      "                                     'node_type': 'TERMINATE',\n",
      "                                     'start_time': 1732819010.214999,\n",
      "                                     'step_name': 'approved'},\n",
      "                        'output': 'APPROVED'},\n",
      "           'branch_1': {'metadata': {'end_time': 1732819009.1410248,\n",
      "                                     'error': None,\n",
      "                                     'extra': {'choices': ['approved',\n",
      "                                                           'denied']},\n",
      "                                     'node_type': 'BRANCH',\n",
      "                                     'start_time': 1732819009.1188374,\n",
      "                                     'step_name': 'branch_1'},\n",
      "                        'output': 'approved'}}}\n"
     ]
    }
   ],
   "source": [
    "pprint(run_data)"
   ]
  },
  {
   "cell_type": "markdown",
   "id": "7851c954-ec0b-46f0-84cd-545d1be86244",
   "metadata": {},
   "source": [
    "## Convenience features for Policies"
   ]
  },
  {
   "cell_type": "markdown",
   "id": "b5cd1547-60d6-4135-80fc-3459a0620952",
   "metadata": {},
   "source": [
    "### Setting default values for config variables\n",
    "\n",
    "You can specify default values for your Config Variables in each version.\\\n",
    "These are useful when you've already decided on the values and want to have them for all runs."
   ]
  },
  {
   "cell_type": "code",
   "execution_count": 7,
   "id": "8e8c8ea5-3b05-4071-9128-38685e05ab62",
   "metadata": {},
   "outputs": [
    {
     "name": "stderr",
     "output_type": "stream",
     "text": [
      "2024-11-28 15:37:57 DESKTOP-GLELM79 vulkan_public.cli.context[82859] INFO Setting variables: [{'name': 'SCORE_CUTOFF', 'value': '500'}]\n",
      "2024-11-28 15:37:57 DESKTOP-GLELM79 urllib3.connectionpool[82859] DEBUG Resetting dropped connection: localhost\n",
      "2024-11-28 15:37:57 DESKTOP-GLELM79 urllib3.connectionpool[82859] DEBUG http://localhost:6001 \"PUT /policy-versions/990c9c5b-9d9b-47d1-b469-8a3ddbb9c777/variables HTTP/1.1\" 200 112\n"
     ]
    },
    {
     "data": {
      "text/plain": [
       "{'policy_version_id': '990c9c5b-9d9b-47d1-b469-8a3ddbb9c777',\n",
       " 'variables': [{'name': 'SCORE_CUTOFF', 'value': '500'}]}"
      ]
     },
     "execution_count": 7,
     "metadata": {},
     "output_type": "execute_result"
    }
   ],
   "source": [
    "vulkan.policy_version.set_variables(\n",
    "    ctx,\n",
    "    policy_version_id=policy_version_id,\n",
    "    variables=[{\"name\": \"SCORE_CUTOFF\", \"value\": \"500\"}],\n",
    ")"
   ]
  },
  {
   "cell_type": "markdown",
   "id": "46484f63-1aa4-4f42-96ef-bd89b5fbf35b",
   "metadata": {},
   "source": [
    "### Marking a version as \"Active\"\n",
    "\n",
    "In many cases, we want to have a standard version for a policy.\\\n",
    "This is useful for consumers of this policy: they can just get the current version of \"My First Policy\", no matter what that is."
   ]
  },
  {
   "cell_type": "code",
   "execution_count": 8,
   "id": "ce0785e2-dc9a-44c7-98f7-f7b05d4ab377",
   "metadata": {},
   "outputs": [
    {
     "name": "stderr",
     "output_type": "stream",
     "text": [
      "2024-11-28 15:38:00 DESKTOP-GLELM79 urllib3.connectionpool[82859] DEBUG http://localhost:6001 \"PUT /policies/5bc7f9c1-26ef-47b3-9685-f1554cb96ffa HTTP/1.1\" 200 118\n"
     ]
    }
   ],
   "source": [
    "vulkan.policy.set_active_version(\n",
    "    ctx, \n",
    "    policy_id=policy_id, \n",
    "    policy_version_id=policy_version_id,\n",
    ")"
   ]
  },
  {
   "cell_type": "code",
   "execution_count": 9,
   "id": "76f23f9c-88e4-48a6-a378-feae5058e06f",
   "metadata": {},
   "outputs": [
    {
     "name": "stderr",
     "output_type": "stream",
     "text": [
      "2024-11-28 15:38:00 DESKTOP-GLELM79 vulkan_public.cli.context[82859] INFO Lanching run with input data: {'tax_id': '1', 'score': 600}\n",
      "2024-11-28 15:38:02 DESKTOP-GLELM79 urllib3.connectionpool[82859] DEBUG http://localhost:6001 \"POST /policies/5bc7f9c1-26ef-47b3-9685-f1554cb96ffa/runs HTTP/1.1\" 200 100\n",
      "2024-11-28 15:38:03 DESKTOP-GLELM79 urllib3.connectionpool[82859] DEBUG http://localhost:6001 \"GET /runs/90dd0437-7bc0-49ed-9b75-d2969f6c2245 HTTP/1.1\" 200 284\n",
      "2024-11-28 15:38:04 DESKTOP-GLELM79 urllib3.connectionpool[82859] DEBUG http://localhost:6001 \"GET /runs/90dd0437-7bc0-49ed-9b75-d2969f6c2245 HTTP/1.1\" 200 284\n",
      "2024-11-28 15:38:09 DESKTOP-GLELM79 urllib3.connectionpool[82859] DEBUG Resetting dropped connection: localhost\n",
      "2024-11-28 15:38:09 DESKTOP-GLELM79 urllib3.connectionpool[82859] DEBUG http://localhost:6001 \"GET /runs/90dd0437-7bc0-49ed-9b75-d2969f6c2245 HTTP/1.1\" 200 282\n",
      "2024-11-28 15:38:10 DESKTOP-GLELM79 urllib3.connectionpool[82859] DEBUG http://localhost:6001 \"GET /runs/90dd0437-7bc0-49ed-9b75-d2969f6c2245/data HTTP/1.1\" 200 127\n"
     ]
    },
    {
     "name": "stdout",
     "output_type": "stream",
     "text": [
      "{'last_updated_at': '2024-11-28T18:38:04.507979Z',\n",
      " 'run_id': '90dd0437-7bc0-49ed-9b75-d2969f6c2245',\n",
      " 'status': 'FAILURE',\n",
      " 'steps': {}}\n"
     ]
    }
   ],
   "source": [
    "run_id, status = vulkan.run.trigger_run_by_policy_id(\n",
    "    ctx, \n",
    "    policy_id=policy_id, \n",
    "    input_data={\"tax_id\": \"1\", \"score\": 600}\n",
    ")\n",
    "\n",
    "run_data = vulkan.run.get_run_data(ctx, run_id)\n",
    "pprint(run_data)"
   ]
  },
  {
   "cell_type": "markdown",
   "id": "6e5588f4-273e-4fa7-aa00-0e61caf61d81",
   "metadata": {},
   "source": [
    "## Components: What, Why and How?"
   ]
  },
  {
   "cell_type": "markdown",
   "id": "9fe4812b-c2e0-4b8a-84e8-6389c174c8f5",
   "metadata": {},
   "source": [
    "### Creating a couple of Components"
   ]
  },
  {
   "cell_type": "code",
   "execution_count": 10,
   "id": "3990a6d7-89db-4553-a028-1016653e3ed4",
   "metadata": {
    "scrolled": true
   },
   "outputs": [
    {
     "name": "stderr",
     "output_type": "stream",
     "text": [
      "2024-11-28 15:38:18 DESKTOP-GLELM79 urllib3.connectionpool[82859] DEBUG Resetting dropped connection: localhost\n",
      "2024-11-28 15:38:19 DESKTOP-GLELM79 urllib3.connectionpool[82859] DEBUG http://localhost:6001 \"POST /components HTTP/1.1\" 307 0\n",
      "2024-11-28 15:38:20 DESKTOP-GLELM79 urllib3.connectionpool[82859] DEBUG http://localhost:6001 \"POST /components/ HTTP/1.1\" 200 193\n",
      "2024-11-28 15:38:20 DESKTOP-GLELM79 vulkan_public.cli.context[82859] INFO Created component serasa_component with id 4b707325-9f63-4cef-a8ff-40901ad12227\n",
      "2024-11-28 15:38:22 DESKTOP-GLELM79 urllib3.connectionpool[82859] DEBUG http://localhost:6001 \"POST /components/4b707325-9f63-4cef-a8ff-40901ad12227/versions HTTP/1.1\" 200 63\n",
      "2024-11-28 15:38:22 DESKTOP-GLELM79 vulkan_public.cli.context[82859] INFO Created component version be50fe5b-3853-4751-b66f-c563fa36808d (v0.0.1) for component 4b707325-9f63-4cef-a8ff-40901ad12227.\n"
     ]
    }
   ],
   "source": [
    "serasa_component_id = vulkan.component.create_component(ctx, name=\"serasa_component\")\n",
    "serasa_comp_version = vulkan.component.create_component_version(\n",
    "    ctx,\n",
    "    component_id=serasa_component_id,\n",
    "    version_name=\"v0.0.1\",\n",
    "    repository_path=\"../examples/components/serasa/\",\n",
    ")"
   ]
  },
  {
   "cell_type": "code",
   "execution_count": 11,
   "id": "bf4d1446-8ac5-41a0-ba8a-67aa356e751b",
   "metadata": {},
   "outputs": [
    {
     "name": "stderr",
     "output_type": "stream",
     "text": [
      "2024-11-28 15:38:22 DESKTOP-GLELM79 urllib3.connectionpool[82859] DEBUG http://localhost:6001 \"POST /components HTTP/1.1\" 307 0\n",
      "2024-11-28 15:38:23 DESKTOP-GLELM79 urllib3.connectionpool[82859] DEBUG http://localhost:6001 \"POST /components/ HTTP/1.1\" 200 190\n",
      "2024-11-28 15:38:23 DESKTOP-GLELM79 vulkan_public.cli.context[82859] INFO Created component scr_component with id 9ef11447-425b-45f5-a1e6-75647ffeb60f\n",
      "2024-11-28 15:38:25 DESKTOP-GLELM79 urllib3.connectionpool[82859] DEBUG http://localhost:6001 \"POST /components/9ef11447-425b-45f5-a1e6-75647ffeb60f/versions HTTP/1.1\" 200 63\n",
      "2024-11-28 15:38:25 DESKTOP-GLELM79 vulkan_public.cli.context[82859] INFO Created component version 58b95ecc-25e4-4c20-a549-be85058f5b38 (v0.0.1) for component 9ef11447-425b-45f5-a1e6-75647ffeb60f.\n"
     ]
    }
   ],
   "source": [
    "scr_component_id = vulkan.component.create_component(ctx, name=\"scr_component\")\n",
    "scr_comp_version = vulkan.component.create_component_version(\n",
    "    ctx,\n",
    "    component_id=scr_component_id,\n",
    "    version_name=\"v0.0.1\",\n",
    "    repository_path=\"../examples/components/scr_component/\",\n",
    ")"
   ]
  },
  {
   "cell_type": "markdown",
   "id": "1ea0e907-fe9f-4176-a322-743caff034e0",
   "metadata": {},
   "source": [
    "### Creating a Policy that uses Components"
   ]
  },
  {
   "cell_type": "code",
   "execution_count": 12,
   "id": "24c73ae5-3124-4957-96e6-87f66fc81e50",
   "metadata": {},
   "outputs": [
    {
     "name": "stderr",
     "output_type": "stream",
     "text": [
      "2024-11-28 15:38:26 DESKTOP-GLELM79 urllib3.connectionpool[82859] DEBUG http://localhost:6001 \"POST /policies HTTP/1.1\" 307 0\n",
      "2024-11-28 15:38:26 DESKTOP-GLELM79 urllib3.connectionpool[82859] DEBUG http://localhost:6001 \"POST /policies/ HTTP/1.1\" 200 73\n",
      "2024-11-28 15:38:26 DESKTOP-GLELM79 vulkan_public.cli.context[82859] INFO Created policy Test Policy with id 1f22378c-ea26-493a-a296-0aab95ac22e1\n"
     ]
    }
   ],
   "source": [
    "policy_id = vulkan.policy.create_policy(\n",
    "    ctx,\n",
    "    name=\"Test Policy\",\n",
    "    description=\"Test Policy Description\",\n",
    ")"
   ]
  },
  {
   "cell_type": "code",
   "execution_count": 13,
   "id": "c2f33445-19e4-4e31-acc5-3f378cde201b",
   "metadata": {},
   "outputs": [
    {
     "name": "stderr",
     "output_type": "stream",
     "text": [
      "2024-11-28 15:38:30 DESKTOP-GLELM79 vulkan_public.cli.context[82859] WARNING Failed to import module from entrypoint.\n",
      "2024-11-28 15:38:30 DESKTOP-GLELM79 vulkan_public.cli.context[82859] WARNING Import-related issue from user code: No module named 'onboarding'\n",
      "2024-11-28 15:38:30 DESKTOP-GLELM79 vulkan_public.cli.context[82859] INFO Creating workspace v0.0.1. This may take a while...\n",
      "2024-11-28 15:39:36 DESKTOP-GLELM79 urllib3.connectionpool[82859] DEBUG http://localhost:6001 \"POST /policies/1f22378c-ea26-493a-a296-0aab95ac22e1/versions HTTP/1.1\" 200 145\n",
      "2024-11-28 15:39:36 DESKTOP-GLELM79 vulkan_public.cli.context[82859] INFO Created workspace v0.0.1 with policy version 8cb18ea2-0937-438d-85e4-327ac932c1bd\n"
     ]
    }
   ],
   "source": [
    "policy_version_id = vulkan.policy.create_policy_version(\n",
    "    ctx,\n",
    "    policy_id=policy_id,\n",
    "    version_name=\"v0.0.1\",\n",
    "    repository_path=\"../examples/policies/onboarding/\",\n",
    ")"
   ]
  },
  {
   "cell_type": "code",
   "execution_count": 14,
   "id": "14926777-d1c9-431c-ad73-2862f70172de",
   "metadata": {},
   "outputs": [
    {
     "name": "stderr",
     "output_type": "stream",
     "text": [
      "2024-11-28 15:39:36 DESKTOP-GLELM79 vulkan_public.cli.context[82859] INFO Lanching run with input data: {'cpf': '1'}\n",
      "2024-11-28 15:39:39 DESKTOP-GLELM79 urllib3.connectionpool[82859] DEBUG http://localhost:6001 \"POST /policy-versions/8cb18ea2-0937-438d-85e4-327ac932c1bd/runs HTTP/1.1\" 200 108\n",
      "2024-11-28 15:39:39 DESKTOP-GLELM79 urllib3.connectionpool[82859] DEBUG http://localhost:6001 \"GET /runs/44b6b535-bd3e-4731-8439-1295dfc50c83 HTTP/1.1\" 200 284\n",
      "2024-11-28 15:39:40 DESKTOP-GLELM79 urllib3.connectionpool[82859] DEBUG http://localhost:6001 \"GET /runs/44b6b535-bd3e-4731-8439-1295dfc50c83 HTTP/1.1\" 200 284\n",
      "2024-11-28 15:39:45 DESKTOP-GLELM79 urllib3.connectionpool[82859] DEBUG Resetting dropped connection: localhost\n",
      "2024-11-28 15:39:46 DESKTOP-GLELM79 urllib3.connectionpool[82859] DEBUG http://localhost:6001 \"GET /runs/44b6b535-bd3e-4731-8439-1295dfc50c83 HTTP/1.1\" 200 284\n",
      "2024-11-28 15:39:51 DESKTOP-GLELM79 urllib3.connectionpool[82859] DEBUG Resetting dropped connection: localhost\n",
      "2024-11-28 15:39:51 DESKTOP-GLELM79 urllib3.connectionpool[82859] DEBUG http://localhost:6001 \"GET /runs/44b6b535-bd3e-4731-8439-1295dfc50c83 HTTP/1.1\" 200 288\n"
     ]
    },
    {
     "data": {
      "text/plain": [
       "('44b6b535-bd3e-4731-8439-1295dfc50c83', True)"
      ]
     },
     "execution_count": 14,
     "metadata": {},
     "output_type": "execute_result"
    }
   ],
   "source": [
    "vulkan.run.trigger_run_by_policy_version_id(\n",
    "    ctx,\n",
    "    policy_version_id=policy_version_id,\n",
    "    input_data={\"cpf\": \"1\"},\n",
    "    config_variables={\"CORTE_SERASA\": \"400\"},\n",
    ")"
   ]
  },
  {
   "cell_type": "code",
   "execution_count": null,
   "id": "7ea1454d-2bca-4345-9ef7-1c3ae8978d35",
   "metadata": {},
   "outputs": [],
   "source": []
  }
 ],
 "metadata": {
  "kernelspec": {
   "display_name": "Python 3 (ipykernel)",
   "language": "python",
   "name": "python3"
  },
  "language_info": {
   "codemirror_mode": {
    "name": "ipython",
    "version": 3
   },
   "file_extension": ".py",
   "mimetype": "text/x-python",
   "name": "python",
   "nbconvert_exporter": "python",
   "pygments_lexer": "ipython3",
   "version": "3.11.0"
  }
 },
 "nbformat": 4,
 "nbformat_minor": 5
}
