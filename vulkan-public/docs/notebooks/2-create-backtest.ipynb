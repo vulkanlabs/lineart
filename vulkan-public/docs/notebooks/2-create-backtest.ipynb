{
 "cells": [
  {
   "cell_type": "code",
   "execution_count": 13,
   "id": "0d7e59a0-fc89-49b3-8c75-22f3220853ee",
   "metadata": {},
   "outputs": [
    {
     "name": "stderr",
     "output_type": "stream",
     "text": [
      "/Users/apsvieira/source/vulkan/sketch/vulkan-public/vulkan_public/spec/nodes.py:481: SyntaxWarning: invalid escape sequence '\\ '\n",
      "  \"\"\"Produces a collection and splits it into elements.\n"
     ]
    },
    {
     "name": "stdout",
     "output_type": "stream",
     "text": [
      "The autoreload extension is already loaded. To reload it, use:\n",
      "  %reload_ext autoreload\n"
     ]
    }
   ],
   "source": [
    "%load_ext autoreload\n",
    "%autoreload 2"
   ]
  },
  {
   "cell_type": "markdown",
   "id": "deb5ce13-acc9-44c3-bd0d-592308c84320",
   "metadata": {},
   "source": [
    "# Using Vulkan\n",
    "\n",
    "This notebook will take you through all the steps in using Vulkan backtest a policy.\\\n",
    "Backtests are useful in estimating the performance of your policies.\\\n",
    "You can simulate different changes in the rules and compare their results before going to production.\n",
    "\n",
    "By the end of this tutorial, you will have:\n",
    "\n",
    "1. Created a new policy, which can be used for online and batch evaluation,\n",
    "2. Created a backtest using the batch interface,\n",
    "3. Downloaded and analysed the results.\n",
    "\n",
    "Let's dive in!"
   ]
  },
  {
   "cell_type": "code",
   "execution_count": 14,
   "id": "2862be97-3629-440e-928e-195966c466bc",
   "metadata": {},
   "outputs": [],
   "source": [
    "import pandas as pd\n",
    "from pprint import pprint\n",
    "\n",
    "import vulkan_public.cli.client as vulkan\n",
    "from vulkan_public.cli.context import Context"
   ]
  },
  {
   "cell_type": "code",
   "execution_count": 15,
   "id": "cead0aee-75c4-414e-9384-b820fa01fcde",
   "metadata": {},
   "outputs": [],
   "source": [
    "ctx = Context()"
   ]
  },
  {
   "cell_type": "markdown",
   "id": "ab42360e-ca86-4d43-9944-de73ccf60ef2",
   "metadata": {},
   "source": [
    "## Creating a Policy\n",
    "\n",
    "We'll start by creating a simple policy, with no dependencies.\\\n",
    "In the \"create-policy\" notebook, we go through the details of this.\\\n",
    "The important part is: you can use the exact same code to create a policy for 1-by-1 runs and for backtesting."
   ]
  },
  {
   "cell_type": "code",
   "execution_count": 16,
   "id": "ceae4e00-ff2f-4017-9df3-5edb62e03b39",
   "metadata": {},
   "outputs": [
    {
     "name": "stderr",
     "output_type": "stream",
     "text": [
      "2024-12-06 08:42:21 Antonios-MacBook-Air.local urllib3.connectionpool[23207] DEBUG Starting new HTTP connection (1): localhost:6001\n",
      "2024-12-06 08:42:22 Antonios-MacBook-Air.local urllib3.connectionpool[23207] DEBUG http://localhost:6001 \"POST /policies HTTP/11\" 401 14\n"
     ]
    },
    {
     "ename": "ValueError",
     "evalue": "Failed to create policy: b'\"Unauthorized\"'",
     "output_type": "error",
     "traceback": [
      "\u001b[0;31m---------------------------------------------------------------------------\u001b[0m",
      "\u001b[0;31mValueError\u001b[0m                                Traceback (most recent call last)",
      "Cell \u001b[0;32mIn[16], line 1\u001b[0m\n\u001b[0;32m----> 1\u001b[0m policy_id \u001b[38;5;241m=\u001b[39m \u001b[43mvulkan\u001b[49m\u001b[38;5;241;43m.\u001b[39;49m\u001b[43mpolicy\u001b[49m\u001b[38;5;241;43m.\u001b[39;49m\u001b[43mcreate_policy\u001b[49m\u001b[43m(\u001b[49m\n\u001b[1;32m      2\u001b[0m \u001b[43m    \u001b[49m\u001b[43mctx\u001b[49m\u001b[43m,\u001b[49m\n\u001b[1;32m      3\u001b[0m \u001b[43m    \u001b[49m\u001b[43mname\u001b[49m\u001b[38;5;241;43m=\u001b[39;49m\u001b[38;5;124;43m\"\u001b[39;49m\u001b[38;5;124;43mTest Policy\u001b[39;49m\u001b[38;5;124;43m\"\u001b[39;49m\u001b[43m,\u001b[49m\n\u001b[1;32m      4\u001b[0m \u001b[43m    \u001b[49m\u001b[43mdescription\u001b[49m\u001b[38;5;241;43m=\u001b[39;49m\u001b[38;5;124;43m\"\u001b[39;49m\u001b[38;5;124;43mTest Policy Description\u001b[39;49m\u001b[38;5;124;43m\"\u001b[39;49m\u001b[43m,\u001b[49m\n\u001b[1;32m      5\u001b[0m \u001b[43m)\u001b[49m\n",
      "File \u001b[0;32m~/source/vulkan/sketch/vulkan-public/vulkan_public/cli/client/policy.py:30\u001b[0m, in \u001b[0;36mcreate_policy\u001b[0;34m(ctx, name, description)\u001b[0m\n\u001b[1;32m     25\u001b[0m response \u001b[38;5;241m=\u001b[39m ctx\u001b[38;5;241m.\u001b[39msession\u001b[38;5;241m.\u001b[39mpost(\n\u001b[1;32m     26\u001b[0m     \u001b[38;5;124mf\u001b[39m\u001b[38;5;124m\"\u001b[39m\u001b[38;5;132;01m{\u001b[39;00mctx\u001b[38;5;241m.\u001b[39mserver_url\u001b[38;5;132;01m}\u001b[39;00m\u001b[38;5;124m/policies\u001b[39m\u001b[38;5;124m\"\u001b[39m,\n\u001b[1;32m     27\u001b[0m     json\u001b[38;5;241m=\u001b[39m{\u001b[38;5;124m\"\u001b[39m\u001b[38;5;124mname\u001b[39m\u001b[38;5;124m\"\u001b[39m: name, \u001b[38;5;124m\"\u001b[39m\u001b[38;5;124mdescription\u001b[39m\u001b[38;5;124m\"\u001b[39m: description},\n\u001b[1;32m     28\u001b[0m )\n\u001b[1;32m     29\u001b[0m \u001b[38;5;28;01mif\u001b[39;00m response\u001b[38;5;241m.\u001b[39mstatus_code \u001b[38;5;241m!=\u001b[39m \u001b[38;5;241m200\u001b[39m:\n\u001b[0;32m---> 30\u001b[0m     \u001b[38;5;28;01mraise\u001b[39;00m \u001b[38;5;167;01mValueError\u001b[39;00m(\u001b[38;5;124mf\u001b[39m\u001b[38;5;124m\"\u001b[39m\u001b[38;5;124mFailed to create policy: \u001b[39m\u001b[38;5;132;01m{\u001b[39;00mresponse\u001b[38;5;241m.\u001b[39mcontent\u001b[38;5;132;01m}\u001b[39;00m\u001b[38;5;124m\"\u001b[39m)\n\u001b[1;32m     32\u001b[0m policy_id \u001b[38;5;241m=\u001b[39m response\u001b[38;5;241m.\u001b[39mjson()[\u001b[38;5;124m\"\u001b[39m\u001b[38;5;124mpolicy_id\u001b[39m\u001b[38;5;124m\"\u001b[39m]\n\u001b[1;32m     33\u001b[0m ctx\u001b[38;5;241m.\u001b[39mlogger\u001b[38;5;241m.\u001b[39minfo(\u001b[38;5;124mf\u001b[39m\u001b[38;5;124m\"\u001b[39m\u001b[38;5;124mCreated policy \u001b[39m\u001b[38;5;132;01m{\u001b[39;00mname\u001b[38;5;132;01m}\u001b[39;00m\u001b[38;5;124m with id \u001b[39m\u001b[38;5;132;01m{\u001b[39;00mpolicy_id\u001b[38;5;132;01m}\u001b[39;00m\u001b[38;5;124m\"\u001b[39m)\n",
      "\u001b[0;31mValueError\u001b[0m: Failed to create policy: b'\"Unauthorized\"'"
     ]
    }
   ],
   "source": [
    "policy_id = vulkan.policy.create_policy(\n",
    "    ctx,\n",
    "    name=\"Test Policy\",\n",
    "    description=\"Test Policy Description\",\n",
    ")"
   ]
  },
  {
   "cell_type": "code",
   "execution_count": 9,
   "id": "eb5fe980-9362-44fe-b4f5-49216dc6c002",
   "metadata": {},
   "outputs": [
    {
     "name": "stderr",
     "output_type": "stream",
     "text": [
      "2024-11-28 15:28:53 DESKTOP-GLELM79 vulkan_public.cli.context[81340] WARNING Failed to import module from entrypoint.\n",
      "2024-11-28 15:28:53 DESKTOP-GLELM79 vulkan_public.cli.context[81340] WARNING Import-related issue from user code: No module named 'test_policy'\n",
      "2024-11-28 15:28:53 DESKTOP-GLELM79 vulkan_public.cli.context[81340] INFO Creating workspace v0.0.1. This may take a while...\n",
      "2024-11-28 15:28:53 DESKTOP-GLELM79 urllib3.connectionpool[81340] DEBUG Resetting dropped connection: localhost\n",
      "2024-11-28 15:29:55 DESKTOP-GLELM79 urllib3.connectionpool[81340] DEBUG http://localhost:6001 \"POST /policies/e2411e6b-daf8-4b4a-b5f3-7615dcca9308/versions HTTP/1.1\" 200 145\n",
      "2024-11-28 15:29:55 DESKTOP-GLELM79 vulkan_public.cli.context[81340] INFO Created workspace v0.0.1 with policy version 5267f325-8de4-4662-aded-87be0ebc5d3e\n"
     ]
    }
   ],
   "source": [
    "policy_version_id = vulkan.policy.create_policy_version(\n",
    "    ctx,\n",
    "    policy_id=policy_id,\n",
    "    version_name=\"v0.0.1\",\n",
    "    repository_path=\"../examples/policies/simple/\",\n",
    ")"
   ]
  },
  {
   "cell_type": "markdown",
   "id": "c547657b-97c6-44a0-92de-73028ed755d4",
   "metadata": {},
   "source": [
    "## Running the Backtest\n",
    "\n",
    "Now that our policy is ready, we can create a backtest.\\\n",
    "To do that, we just need some data. The file below has some samples in the format our policy expects:"
   ]
  },
  {
   "cell_type": "code",
   "execution_count": 10,
   "id": "6a955232-f87b-4702-943c-93f698c928f9",
   "metadata": {},
   "outputs": [
    {
     "data": {
      "text/html": [
       "<div>\n",
       "<style scoped>\n",
       "    .dataframe tbody tr th:only-of-type {\n",
       "        vertical-align: middle;\n",
       "    }\n",
       "\n",
       "    .dataframe tbody tr th {\n",
       "        vertical-align: top;\n",
       "    }\n",
       "\n",
       "    .dataframe thead th {\n",
       "        text-align: right;\n",
       "    }\n",
       "</style>\n",
       "<table border=\"1\" class=\"dataframe\">\n",
       "  <thead>\n",
       "    <tr style=\"text-align: right;\">\n",
       "      <th></th>\n",
       "      <th>tax_id</th>\n",
       "      <th>score</th>\n",
       "      <th>default</th>\n",
       "    </tr>\n",
       "  </thead>\n",
       "  <tbody>\n",
       "    <tr>\n",
       "      <th>0</th>\n",
       "      <td>1</td>\n",
       "      <td>100</td>\n",
       "      <td>1</td>\n",
       "    </tr>\n",
       "    <tr>\n",
       "      <th>1</th>\n",
       "      <td>2</td>\n",
       "      <td>350</td>\n",
       "      <td>0</td>\n",
       "    </tr>\n",
       "    <tr>\n",
       "      <th>2</th>\n",
       "      <td>3</td>\n",
       "      <td>700</td>\n",
       "      <td>1</td>\n",
       "    </tr>\n",
       "    <tr>\n",
       "      <th>3</th>\n",
       "      <td>4</td>\n",
       "      <td>400</td>\n",
       "      <td>1</td>\n",
       "    </tr>\n",
       "    <tr>\n",
       "      <th>4</th>\n",
       "      <td>5</td>\n",
       "      <td>850</td>\n",
       "      <td>0</td>\n",
       "    </tr>\n",
       "  </tbody>\n",
       "</table>\n",
       "</div>"
      ],
      "text/plain": [
       "   tax_id  score  default\n",
       "0       1    100        1\n",
       "1       2    350        0\n",
       "2       3    700        1\n",
       "3       4    400        1\n",
       "4       5    850        0"
      ]
     },
     "execution_count": 10,
     "metadata": {},
     "output_type": "execute_result"
    }
   ],
   "source": [
    "df = pd.read_csv(\"../example_data/simple_bkt.csv\")\n",
    "df.head()"
   ]
  },
  {
   "cell_type": "markdown",
   "id": "51ccd14f-99ce-4ba2-aadf-f838d7f0978e",
   "metadata": {},
   "source": [
    "Now we just pass that data to the Vulkan Engine.\\\n",
    "A job will be created to evaluate the policy on each row of your data.\n",
    "\n",
    "The first time we backtest a policy, it'll take a few minutes to prepare the environment.\\\n",
    "After that, creating a new backtest is almost instant.\n"
   ]
  },
  {
   "cell_type": "code",
   "execution_count": 11,
   "id": "bd2b7176-022b-4e32-b245-3a388b775e33",
   "metadata": {},
   "outputs": [
    {
     "name": "stderr",
     "output_type": "stream",
     "text": [
      "2024-11-28 15:30:29 DESKTOP-GLELM79 urllib3.connectionpool[81340] DEBUG Resetting dropped connection: localhost\n",
      "2024-11-28 15:30:31 DESKTOP-GLELM79 urllib3.connectionpool[81340] DEBUG http://localhost:6001 \"POST /backtests/files HTTP/1.1\" 200 163\n"
     ]
    }
   ],
   "source": [
    "file_info = vulkan.backtest.upload_backtest_file(\n",
    "    ctx,\n",
    "    policy_version_id=policy_version_id,\n",
    "    file_path=\"../example_data/simple_bkt.csv\",\n",
    "    file_format=\"CSV\",\n",
    "    schema={\"tax_id\": \"str\", \"score\": \"int\", \"default\": \"int\"},\n",
    ")\n",
    "file_id = file_info[\"uploaded_file_id\"]"
   ]
  },
  {
   "cell_type": "code",
   "execution_count": 12,
   "id": "e3efabd3-bd01-4466-8656-c9771ec6047e",
   "metadata": {},
   "outputs": [
    {
     "name": "stderr",
     "output_type": "stream",
     "text": [
      "2024-11-28 15:30:38 DESKTOP-GLELM79 urllib3.connectionpool[81340] DEBUG Resetting dropped connection: localhost\n",
      "2024-11-28 15:34:32 DESKTOP-GLELM79 urllib3.connectionpool[81340] DEBUG http://localhost:6001 \"POST /policy-versions/5267f325-8de4-4662-aded-87be0ebc5d3e/backtest-workspace HTTP/1.1\" 200 74\n"
     ]
    },
    {
     "data": {
      "text/plain": [
       "{'policy_version_id': '5267f325-8de4-4662-aded-87be0ebc5d3e', 'status': 'OK'}"
      ]
     },
     "execution_count": 12,
     "metadata": {},
     "output_type": "execute_result"
    }
   ],
   "source": [
    "vulkan.policy_version.create_backtest_workspace(ctx, policy_version_id)"
   ]
  },
  {
   "cell_type": "code",
   "execution_count": 13,
   "id": "f6dc449b-e38c-46dd-ba11-ff5e10ce4f78",
   "metadata": {},
   "outputs": [
    {
     "name": "stderr",
     "output_type": "stream",
     "text": [
      "2024-11-28 15:34:32 DESKTOP-GLELM79 vulkan_public.cli.context[81340] INFO Creating backtest. This may take a while...\n",
      "2024-11-28 15:34:36 DESKTOP-GLELM79 urllib3.connectionpool[81340] DEBUG http://localhost:6001 \"POST /backtests/ HTTP/1.1\" 200 431\n",
      "2024-11-28 15:34:36 DESKTOP-GLELM79 vulkan_public.cli.context[81340] INFO Created backtest with id 51bfe95a-6a37-4da6-bbde-131d6a69598e\n"
     ]
    }
   ],
   "source": [
    "backtest_info = vulkan.backtest.create_backtest(\n",
    "    ctx,\n",
    "    policy_version_id=policy_version_id,\n",
    "    input_file_id=file_id,\n",
    "    config_variables=[\n",
    "        {\"SCORE_CUTOFF\": 500},\n",
    "        {\"SCORE_CUTOFF\": 700},\n",
    "    ],\n",
    "    metrics_config={\n",
    "        \"target_column\": \"default\",\n",
    "    }\n",
    ")\n",
    "\n",
    "backtest_id = backtest_info[\"backtest_id\"]"
   ]
  },
  {
   "cell_type": "code",
   "execution_count": 14,
   "id": "92ae0e3d-e9e2-4093-ace1-966abe5e07ac",
   "metadata": {},
   "outputs": [
    {
     "name": "stderr",
     "output_type": "stream",
     "text": [
      "2024-11-28 15:34:41 DESKTOP-GLELM79 urllib3.connectionpool[81340] DEBUG http://localhost:6001 \"GET /backtests/51bfe95a-6a37-4da6-bbde-131d6a69598e/status HTTP/1.1\" 200 315\n",
      "2024-11-28 15:34:41 DESKTOP-GLELM79 vulkan_public.cli.context[81340] INFO {'backtest_id': '51bfe95a-6a37-4da6-bbde-131d6a69598e', 'status': 'PENDING', 'backfills': [{'backfill_id': 'e294c820-3f80-4904-99ce-32ab5f759844', 'status': 'PENDING', 'config_variables': {'SCORE_CUTOFF': 500}}, {'backfill_id': '3e7e8823-a6e5-4874-8b4e-38d3a48e95ba', 'status': 'PENDING', 'config_variables': {'SCORE_CUTOFF': 700}}]}\n",
      "2024-11-28 15:35:11 DESKTOP-GLELM79 urllib3.connectionpool[81340] DEBUG Resetting dropped connection: localhost\n",
      "2024-11-28 15:35:12 DESKTOP-GLELM79 urllib3.connectionpool[81340] DEBUG http://localhost:6001 \"GET /backtests/51bfe95a-6a37-4da6-bbde-131d6a69598e/status HTTP/1.1\" 200 315\n",
      "2024-11-28 15:35:12 DESKTOP-GLELM79 vulkan_public.cli.context[81340] INFO {'backtest_id': '51bfe95a-6a37-4da6-bbde-131d6a69598e', 'status': 'PENDING', 'backfills': [{'backfill_id': 'e294c820-3f80-4904-99ce-32ab5f759844', 'status': 'PENDING', 'config_variables': {'SCORE_CUTOFF': 500}}, {'backfill_id': '3e7e8823-a6e5-4874-8b4e-38d3a48e95ba', 'status': 'PENDING', 'config_variables': {'SCORE_CUTOFF': 700}}]}\n",
      "2024-11-28 15:35:42 DESKTOP-GLELM79 urllib3.connectionpool[81340] DEBUG Resetting dropped connection: localhost\n",
      "2024-11-28 15:35:42 DESKTOP-GLELM79 urllib3.connectionpool[81340] DEBUG http://localhost:6001 \"GET /backtests/51bfe95a-6a37-4da6-bbde-131d6a69598e/status HTTP/1.1\" 200 315\n",
      "2024-11-28 15:35:42 DESKTOP-GLELM79 vulkan_public.cli.context[81340] INFO {'backtest_id': '51bfe95a-6a37-4da6-bbde-131d6a69598e', 'status': 'PENDING', 'backfills': [{'backfill_id': 'e294c820-3f80-4904-99ce-32ab5f759844', 'status': 'PENDING', 'config_variables': {'SCORE_CUTOFF': 500}}, {'backfill_id': '3e7e8823-a6e5-4874-8b4e-38d3a48e95ba', 'status': 'PENDING', 'config_variables': {'SCORE_CUTOFF': 700}}]}\n",
      "2024-11-28 15:36:12 DESKTOP-GLELM79 urllib3.connectionpool[81340] DEBUG Resetting dropped connection: localhost\n",
      "2024-11-28 15:36:13 DESKTOP-GLELM79 urllib3.connectionpool[81340] DEBUG http://localhost:6001 \"GET /backtests/51bfe95a-6a37-4da6-bbde-131d6a69598e/status HTTP/1.1\" 200 315\n",
      "2024-11-28 15:36:13 DESKTOP-GLELM79 vulkan_public.cli.context[81340] INFO {'backtest_id': '51bfe95a-6a37-4da6-bbde-131d6a69598e', 'status': 'PENDING', 'backfills': [{'backfill_id': 'e294c820-3f80-4904-99ce-32ab5f759844', 'status': 'PENDING', 'config_variables': {'SCORE_CUTOFF': 500}}, {'backfill_id': '3e7e8823-a6e5-4874-8b4e-38d3a48e95ba', 'status': 'PENDING', 'config_variables': {'SCORE_CUTOFF': 700}}]}\n",
      "2024-11-28 15:36:43 DESKTOP-GLELM79 urllib3.connectionpool[81340] DEBUG Resetting dropped connection: localhost\n",
      "2024-11-28 15:36:43 DESKTOP-GLELM79 urllib3.connectionpool[81340] DEBUG http://localhost:6001 \"GET /backtests/51bfe95a-6a37-4da6-bbde-131d6a69598e/status HTTP/1.1\" 200 315\n",
      "2024-11-28 15:36:43 DESKTOP-GLELM79 vulkan_public.cli.context[81340] INFO {'backtest_id': '51bfe95a-6a37-4da6-bbde-131d6a69598e', 'status': 'PENDING', 'backfills': [{'backfill_id': 'e294c820-3f80-4904-99ce-32ab5f759844', 'status': 'PENDING', 'config_variables': {'SCORE_CUTOFF': 500}}, {'backfill_id': '3e7e8823-a6e5-4874-8b4e-38d3a48e95ba', 'status': 'PENDING', 'config_variables': {'SCORE_CUTOFF': 700}}]}\n",
      "2024-11-28 15:37:13 DESKTOP-GLELM79 urllib3.connectionpool[81340] DEBUG Resetting dropped connection: localhost\n",
      "2024-11-28 15:37:14 DESKTOP-GLELM79 urllib3.connectionpool[81340] DEBUG http://localhost:6001 \"GET /backtests/51bfe95a-6a37-4da6-bbde-131d6a69598e/status HTTP/1.1\" 200 315\n",
      "2024-11-28 15:37:14 DESKTOP-GLELM79 vulkan_public.cli.context[81340] INFO {'backtest_id': '51bfe95a-6a37-4da6-bbde-131d6a69598e', 'status': 'PENDING', 'backfills': [{'backfill_id': 'e294c820-3f80-4904-99ce-32ab5f759844', 'status': 'PENDING', 'config_variables': {'SCORE_CUTOFF': 500}}, {'backfill_id': '3e7e8823-a6e5-4874-8b4e-38d3a48e95ba', 'status': 'PENDING', 'config_variables': {'SCORE_CUTOFF': 700}}]}\n",
      "2024-11-28 15:37:44 DESKTOP-GLELM79 urllib3.connectionpool[81340] DEBUG Resetting dropped connection: localhost\n",
      "2024-11-28 15:37:45 DESKTOP-GLELM79 urllib3.connectionpool[81340] DEBUG http://localhost:6001 \"GET /backtests/51bfe95a-6a37-4da6-bbde-131d6a69598e/status HTTP/1.1\" 200 315\n",
      "2024-11-28 15:37:45 DESKTOP-GLELM79 vulkan_public.cli.context[81340] INFO {'backtest_id': '51bfe95a-6a37-4da6-bbde-131d6a69598e', 'status': 'PENDING', 'backfills': [{'backfill_id': 'e294c820-3f80-4904-99ce-32ab5f759844', 'status': 'PENDING', 'config_variables': {'SCORE_CUTOFF': 500}}, {'backfill_id': '3e7e8823-a6e5-4874-8b4e-38d3a48e95ba', 'status': 'PENDING', 'config_variables': {'SCORE_CUTOFF': 700}}]}\n",
      "2024-11-28 15:38:15 DESKTOP-GLELM79 urllib3.connectionpool[81340] DEBUG Resetting dropped connection: localhost\n",
      "2024-11-28 15:38:16 DESKTOP-GLELM79 urllib3.connectionpool[81340] DEBUG http://localhost:6001 \"GET /backtests/51bfe95a-6a37-4da6-bbde-131d6a69598e/status HTTP/1.1\" 200 315\n",
      "2024-11-28 15:38:16 DESKTOP-GLELM79 vulkan_public.cli.context[81340] INFO {'backtest_id': '51bfe95a-6a37-4da6-bbde-131d6a69598e', 'status': 'PENDING', 'backfills': [{'backfill_id': 'e294c820-3f80-4904-99ce-32ab5f759844', 'status': 'PENDING', 'config_variables': {'SCORE_CUTOFF': 500}}, {'backfill_id': '3e7e8823-a6e5-4874-8b4e-38d3a48e95ba', 'status': 'PENDING', 'config_variables': {'SCORE_CUTOFF': 700}}]}\n",
      "2024-11-28 15:38:46 DESKTOP-GLELM79 urllib3.connectionpool[81340] DEBUG Resetting dropped connection: localhost\n",
      "2024-11-28 15:38:46 DESKTOP-GLELM79 urllib3.connectionpool[81340] DEBUG http://localhost:6001 \"GET /backtests/51bfe95a-6a37-4da6-bbde-131d6a69598e/status HTTP/1.1\" 200 315\n",
      "2024-11-28 15:38:46 DESKTOP-GLELM79 vulkan_public.cli.context[81340] INFO {'backtest_id': '51bfe95a-6a37-4da6-bbde-131d6a69598e', 'status': 'PENDING', 'backfills': [{'backfill_id': 'e294c820-3f80-4904-99ce-32ab5f759844', 'status': 'PENDING', 'config_variables': {'SCORE_CUTOFF': 500}}, {'backfill_id': '3e7e8823-a6e5-4874-8b4e-38d3a48e95ba', 'status': 'PENDING', 'config_variables': {'SCORE_CUTOFF': 700}}]}\n",
      "2024-11-28 15:39:16 DESKTOP-GLELM79 urllib3.connectionpool[81340] DEBUG Resetting dropped connection: localhost\n",
      "2024-11-28 15:39:17 DESKTOP-GLELM79 urllib3.connectionpool[81340] DEBUG http://localhost:6001 \"GET /backtests/51bfe95a-6a37-4da6-bbde-131d6a69598e/status HTTP/1.1\" 200 315\n",
      "2024-11-28 15:39:17 DESKTOP-GLELM79 vulkan_public.cli.context[81340] INFO {'backtest_id': '51bfe95a-6a37-4da6-bbde-131d6a69598e', 'status': 'PENDING', 'backfills': [{'backfill_id': 'e294c820-3f80-4904-99ce-32ab5f759844', 'status': 'PENDING', 'config_variables': {'SCORE_CUTOFF': 500}}, {'backfill_id': '3e7e8823-a6e5-4874-8b4e-38d3a48e95ba', 'status': 'PENDING', 'config_variables': {'SCORE_CUTOFF': 700}}]}\n"
     ]
    },
    {
     "data": {
      "text/plain": [
       "{'backtest_id': '51bfe95a-6a37-4da6-bbde-131d6a69598e',\n",
       " 'status': 'PENDING',\n",
       " 'backfills': [{'backfill_id': 'e294c820-3f80-4904-99ce-32ab5f759844',\n",
       "   'status': 'PENDING',\n",
       "   'config_variables': {'SCORE_CUTOFF': 500}},\n",
       "  {'backfill_id': '3e7e8823-a6e5-4874-8b4e-38d3a48e95ba',\n",
       "   'status': 'PENDING',\n",
       "   'config_variables': {'SCORE_CUTOFF': 700}}]}"
      ]
     },
     "execution_count": 14,
     "metadata": {},
     "output_type": "execute_result"
    }
   ],
   "source": [
    "vulkan.backtest.poll_backtest_status(ctx, backtest_id)"
   ]
  },
  {
   "cell_type": "markdown",
   "id": "9ae422b6-0ad1-43a4-955e-ac2df6f36f61",
   "metadata": {},
   "source": [
    "## Getting the results \n",
    "\n",
    "Backtest jobs are optimized for scalability.\\\n",
    "This means that they don't run instantaneously, but can run for large volumes of data.\\\n",
    "To make it easier to use, we have a function that waits until a job is finished and gets it's results.\n",
    "\n",
    "To get the outputs, we can query Vulkan using the Backtest ID.\\\n",
    "This will give us the results for all runs of this individual backtest."
   ]
  },
  {
   "cell_type": "code",
   "execution_count": 15,
   "id": "bce6a841-bdd0-4b1d-8686-36e51260f51c",
   "metadata": {},
   "outputs": [
    {
     "name": "stderr",
     "output_type": "stream",
     "text": [
      "2024-11-28 15:39:47 DESKTOP-GLELM79 urllib3.connectionpool[81340] DEBUG Resetting dropped connection: localhost\n",
      "2024-11-28 15:39:50 DESKTOP-GLELM79 urllib3.connectionpool[81340] DEBUG http://localhost:6001 \"GET /backtests/51bfe95a-6a37-4da6-bbde-131d6a69598e/results HTTP/1.1\" 200 1547\n"
     ]
    },
    {
     "data": {
      "text/html": [
       "<div>\n",
       "<style scoped>\n",
       "    .dataframe tbody tr th:only-of-type {\n",
       "        vertical-align: middle;\n",
       "    }\n",
       "\n",
       "    .dataframe tbody tr th {\n",
       "        vertical-align: top;\n",
       "    }\n",
       "\n",
       "    .dataframe thead th {\n",
       "        text-align: right;\n",
       "    }\n",
       "</style>\n",
       "<table border=\"1\" class=\"dataframe\">\n",
       "  <thead>\n",
       "    <tr style=\"text-align: right;\">\n",
       "      <th></th>\n",
       "      <th>backfill_id</th>\n",
       "      <th>key</th>\n",
       "      <th>status</th>\n",
       "      <th>input_node</th>\n",
       "    </tr>\n",
       "  </thead>\n",
       "  <tbody>\n",
       "    <tr>\n",
       "      <th>0</th>\n",
       "      <td>e294c820-3f80-4904-99ce-32ab5f759844</td>\n",
       "      <td>36f5db8887fabefe46b32f5a4235e65c</td>\n",
       "      <td>APPROVED</td>\n",
       "      <td>{'tax_id': '3', 'score': 700}</td>\n",
       "    </tr>\n",
       "    <tr>\n",
       "      <th>1</th>\n",
       "      <td>e294c820-3f80-4904-99ce-32ab5f759844</td>\n",
       "      <td>0cef52d3c995b51c8c968a91a0a0b98e</td>\n",
       "      <td>DENIED</td>\n",
       "      <td>{'tax_id': '2', 'score': 350}</td>\n",
       "    </tr>\n",
       "    <tr>\n",
       "      <th>2</th>\n",
       "      <td>e294c820-3f80-4904-99ce-32ab5f759844</td>\n",
       "      <td>fd5ba68fbc2f614a24c4c3b16e1fc3b7</td>\n",
       "      <td>DENIED</td>\n",
       "      <td>{'tax_id': '4', 'score': 400}</td>\n",
       "    </tr>\n",
       "    <tr>\n",
       "      <th>3</th>\n",
       "      <td>e294c820-3f80-4904-99ce-32ab5f759844</td>\n",
       "      <td>05a5698ec8a4387005f6df33423853bb</td>\n",
       "      <td>DENIED</td>\n",
       "      <td>{'tax_id': '1', 'score': 100}</td>\n",
       "    </tr>\n",
       "    <tr>\n",
       "      <th>4</th>\n",
       "      <td>e294c820-3f80-4904-99ce-32ab5f759844</td>\n",
       "      <td>c4a8a0b0001f84851349dd25c0fbd4ac</td>\n",
       "      <td>APPROVED</td>\n",
       "      <td>{'tax_id': '5', 'score': 850}</td>\n",
       "    </tr>\n",
       "    <tr>\n",
       "      <th>5</th>\n",
       "      <td>3e7e8823-a6e5-4874-8b4e-38d3a48e95ba</td>\n",
       "      <td>36f5db8887fabefe46b32f5a4235e65c</td>\n",
       "      <td>DENIED</td>\n",
       "      <td>{'tax_id': '3', 'score': 700}</td>\n",
       "    </tr>\n",
       "    <tr>\n",
       "      <th>6</th>\n",
       "      <td>3e7e8823-a6e5-4874-8b4e-38d3a48e95ba</td>\n",
       "      <td>0cef52d3c995b51c8c968a91a0a0b98e</td>\n",
       "      <td>DENIED</td>\n",
       "      <td>{'tax_id': '2', 'score': 350}</td>\n",
       "    </tr>\n",
       "    <tr>\n",
       "      <th>7</th>\n",
       "      <td>3e7e8823-a6e5-4874-8b4e-38d3a48e95ba</td>\n",
       "      <td>fd5ba68fbc2f614a24c4c3b16e1fc3b7</td>\n",
       "      <td>DENIED</td>\n",
       "      <td>{'tax_id': '4', 'score': 400}</td>\n",
       "    </tr>\n",
       "    <tr>\n",
       "      <th>8</th>\n",
       "      <td>3e7e8823-a6e5-4874-8b4e-38d3a48e95ba</td>\n",
       "      <td>05a5698ec8a4387005f6df33423853bb</td>\n",
       "      <td>DENIED</td>\n",
       "      <td>{'tax_id': '1', 'score': 100}</td>\n",
       "    </tr>\n",
       "    <tr>\n",
       "      <th>9</th>\n",
       "      <td>3e7e8823-a6e5-4874-8b4e-38d3a48e95ba</td>\n",
       "      <td>c4a8a0b0001f84851349dd25c0fbd4ac</td>\n",
       "      <td>APPROVED</td>\n",
       "      <td>{'tax_id': '5', 'score': 850}</td>\n",
       "    </tr>\n",
       "  </tbody>\n",
       "</table>\n",
       "</div>"
      ],
      "text/plain": [
       "                            backfill_id                               key  \\\n",
       "0  e294c820-3f80-4904-99ce-32ab5f759844  36f5db8887fabefe46b32f5a4235e65c   \n",
       "1  e294c820-3f80-4904-99ce-32ab5f759844  0cef52d3c995b51c8c968a91a0a0b98e   \n",
       "2  e294c820-3f80-4904-99ce-32ab5f759844  fd5ba68fbc2f614a24c4c3b16e1fc3b7   \n",
       "3  e294c820-3f80-4904-99ce-32ab5f759844  05a5698ec8a4387005f6df33423853bb   \n",
       "4  e294c820-3f80-4904-99ce-32ab5f759844  c4a8a0b0001f84851349dd25c0fbd4ac   \n",
       "5  3e7e8823-a6e5-4874-8b4e-38d3a48e95ba  36f5db8887fabefe46b32f5a4235e65c   \n",
       "6  3e7e8823-a6e5-4874-8b4e-38d3a48e95ba  0cef52d3c995b51c8c968a91a0a0b98e   \n",
       "7  3e7e8823-a6e5-4874-8b4e-38d3a48e95ba  fd5ba68fbc2f614a24c4c3b16e1fc3b7   \n",
       "8  3e7e8823-a6e5-4874-8b4e-38d3a48e95ba  05a5698ec8a4387005f6df33423853bb   \n",
       "9  3e7e8823-a6e5-4874-8b4e-38d3a48e95ba  c4a8a0b0001f84851349dd25c0fbd4ac   \n",
       "\n",
       "     status                     input_node  \n",
       "0  APPROVED  {'tax_id': '3', 'score': 700}  \n",
       "1    DENIED  {'tax_id': '2', 'score': 350}  \n",
       "2    DENIED  {'tax_id': '4', 'score': 400}  \n",
       "3    DENIED  {'tax_id': '1', 'score': 100}  \n",
       "4  APPROVED  {'tax_id': '5', 'score': 850}  \n",
       "5    DENIED  {'tax_id': '3', 'score': 700}  \n",
       "6    DENIED  {'tax_id': '2', 'score': 350}  \n",
       "7    DENIED  {'tax_id': '4', 'score': 400}  \n",
       "8    DENIED  {'tax_id': '1', 'score': 100}  \n",
       "9  APPROVED  {'tax_id': '5', 'score': 850}  "
      ]
     },
     "execution_count": 15,
     "metadata": {},
     "output_type": "execute_result"
    }
   ],
   "source": [
    "output = vulkan.backtest.get_results(ctx, backtest_id)\n",
    "output_data = pd.DataFrame(output)\n",
    "output_data.head(10)"
   ]
  },
  {
   "cell_type": "markdown",
   "id": "84cc7dc6-560e-4edd-beb6-2d4b352d3111",
   "metadata": {},
   "source": [
    "## Automated Metrics for Backtests\n",
    "\n",
    "Vulkan can calculate a bunch a useful metrics about your backtests.\\\n",
    "This will happen automatically for each backtest, and can be useful to analyze your results.\n",
    "\n",
    "To start, you just need to tell Vulkan to calculate some metrics for the backtest you're creating.\\\n",
    "In each backtest you can specify:\n",
    "\n",
    "- A target variable: a reference value for each row. For now, we only support binary targets (0 or 1).\n",
    "- A time variable: a column that identifies the reference time for your data. For instance, this can be a \"month of entry\". This will be used to group results by time, allowing you to see how the results would have evolved.\n",
    "- Any number of columns to group by, which can be used to have more granular analyses.\n",
    "\n",
    "The metrics calculated depend on how you configure the backtest, and on what data you have.\\\n",
    "Let's look at an example where we only have a `target` column.\\\n",
    "Here, for each configuration in our backtest (identified by `backfill_id`) and for each different result (`status`), we can see the distribution of outcomes."
   ]
  },
  {
   "cell_type": "code",
   "execution_count": 17,
   "id": "da2bddfa-d1d0-4efa-bf63-a7c15d4b22e7",
   "metadata": {},
   "outputs": [
    {
     "name": "stderr",
     "output_type": "stream",
     "text": [
      "2024-11-28 15:46:02 DESKTOP-GLELM79 urllib3.connectionpool[81340] DEBUG Resetting dropped connection: localhost\n",
      "2024-11-28 15:46:02 DESKTOP-GLELM79 urllib3.connectionpool[81340] DEBUG http://localhost:6001 \"GET /backtests/51bfe95a-6a37-4da6-bbde-131d6a69598e/metrics HTTP/1.1\" 200 497\n",
      "2024-11-28 15:46:02 DESKTOP-GLELM79 vulkan_public.cli.context[81340] INFO {'backtest_id': '51bfe95a-6a37-4da6-bbde-131d6a69598e', 'status': 'SUCCESS', 'metrics': [{'backfill_id': 'e294c820-3f80-4904-99ce-32ab5f759844', 'count': 3, 'ones': 2, 'status': 'DENIED', 'zeros': 1}, {'backfill_id': 'e294c820-3f80-4904-99ce-32ab5f759844', 'count': 2, 'ones': 1, 'status': 'APPROVED', 'zeros': 1}, {'backfill_id': '3e7e8823-a6e5-4874-8b4e-38d3a48e95ba', 'count': 4, 'ones': 3, 'status': 'DENIED', 'zeros': 1}, {'backfill_id': '3e7e8823-a6e5-4874-8b4e-38d3a48e95ba', 'count': 1, 'ones': 0, 'status': 'APPROVED', 'zeros': 1}]}\n"
     ]
    },
    {
     "data": {
      "text/html": [
       "<div>\n",
       "<style scoped>\n",
       "    .dataframe tbody tr th:only-of-type {\n",
       "        vertical-align: middle;\n",
       "    }\n",
       "\n",
       "    .dataframe tbody tr th {\n",
       "        vertical-align: top;\n",
       "    }\n",
       "\n",
       "    .dataframe thead th {\n",
       "        text-align: right;\n",
       "    }\n",
       "</style>\n",
       "<table border=\"1\" class=\"dataframe\">\n",
       "  <thead>\n",
       "    <tr style=\"text-align: right;\">\n",
       "      <th></th>\n",
       "      <th>backfill_id</th>\n",
       "      <th>count</th>\n",
       "      <th>ones</th>\n",
       "      <th>status</th>\n",
       "      <th>zeros</th>\n",
       "    </tr>\n",
       "  </thead>\n",
       "  <tbody>\n",
       "    <tr>\n",
       "      <th>0</th>\n",
       "      <td>e294c820-3f80-4904-99ce-32ab5f759844</td>\n",
       "      <td>3</td>\n",
       "      <td>2</td>\n",
       "      <td>DENIED</td>\n",
       "      <td>1</td>\n",
       "    </tr>\n",
       "    <tr>\n",
       "      <th>1</th>\n",
       "      <td>e294c820-3f80-4904-99ce-32ab5f759844</td>\n",
       "      <td>2</td>\n",
       "      <td>1</td>\n",
       "      <td>APPROVED</td>\n",
       "      <td>1</td>\n",
       "    </tr>\n",
       "    <tr>\n",
       "      <th>2</th>\n",
       "      <td>3e7e8823-a6e5-4874-8b4e-38d3a48e95ba</td>\n",
       "      <td>4</td>\n",
       "      <td>3</td>\n",
       "      <td>DENIED</td>\n",
       "      <td>1</td>\n",
       "    </tr>\n",
       "    <tr>\n",
       "      <th>3</th>\n",
       "      <td>3e7e8823-a6e5-4874-8b4e-38d3a48e95ba</td>\n",
       "      <td>1</td>\n",
       "      <td>0</td>\n",
       "      <td>APPROVED</td>\n",
       "      <td>1</td>\n",
       "    </tr>\n",
       "  </tbody>\n",
       "</table>\n",
       "</div>"
      ],
      "text/plain": [
       "                            backfill_id  count  ones    status  zeros\n",
       "0  e294c820-3f80-4904-99ce-32ab5f759844      3     2    DENIED      1\n",
       "1  e294c820-3f80-4904-99ce-32ab5f759844      2     1  APPROVED      1\n",
       "2  3e7e8823-a6e5-4874-8b4e-38d3a48e95ba      4     3    DENIED      1\n",
       "3  3e7e8823-a6e5-4874-8b4e-38d3a48e95ba      1     0  APPROVED      1"
      ]
     },
     "execution_count": 17,
     "metadata": {},
     "output_type": "execute_result"
    }
   ],
   "source": [
    "metrics_job = vulkan.backtest.poll_backtest_metrics_job_status(ctx, backtest_id)\n",
    "metrics_df = pd.DataFrame(metrics_job[\"metrics\"])\n",
    "metrics_df.head()"
   ]
  },
  {
   "cell_type": "code",
   "execution_count": null,
   "id": "e6459d96-1187-4510-9358-dfac01d141fb",
   "metadata": {},
   "outputs": [],
   "source": []
  }
 ],
 "metadata": {
  "kernelspec": {
   "display_name": "Python 3 (ipykernel)",
   "language": "python",
   "name": "python3"
  },
  "language_info": {
   "codemirror_mode": {
    "name": "ipython",
    "version": 3
   },
   "file_extension": ".py",
   "mimetype": "text/x-python",
   "name": "python",
   "nbconvert_exporter": "python",
   "pygments_lexer": "ipython3",
   "version": "3.12.7"
  }
 },
 "nbformat": 4,
 "nbformat_minor": 5
}
