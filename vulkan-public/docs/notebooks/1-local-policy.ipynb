{
 "cells": [
  {
   "cell_type": "code",
   "execution_count": 1,
   "id": "cf85c332-245f-422e-bbdd-adb4df82efbc",
   "metadata": {},
   "outputs": [],
   "source": [
    "%load_ext autoreload\n",
    "%autoreload 2"
   ]
  },
  {
   "cell_type": "code",
   "execution_count": 2,
   "id": "0",
   "metadata": {},
   "outputs": [],
   "source": [
    "import pandas as pd\n",
    "\n",
    "from vulkan_public.beam.local.runner import PolicyRunner\n",
    "from vulkan_public.core.policy import Policy\n",
    "from vulkan_public.schemas import DataSourceSpec\n",
    "from vulkan_public.spec.dependency import INPUT_NODE"
   ]
  },
  {
   "cell_type": "markdown",
   "id": "1",
   "metadata": {},
   "source": [
    "## Preparations\n",
    "\n",
    "We'll create a Parquet file with our input data, and a second file to act as a \"Data Source\".\n",
    "\n",
    "Data Sources bring external data into your workflow. \n",
    "This can be done by consulting a bureau, or by having some test data, like in our case here."
   ]
  },
  {
   "cell_type": "code",
   "execution_count": 3,
   "id": "2",
   "metadata": {},
   "outputs": [],
   "source": [
    "df = pd.read_csv(\"../data/simple_bkt_lg.csv\")\n",
    "df[\"month\"] = df[\"month\"].astype(str)\n",
    "df[\"tax_id\"] = df[\"tax_id\"].astype(str)\n",
    "\n",
    "df.to_parquet(\"input.parquet\")\n",
    "\n",
    "lookup_df = df[[\"tax_id\", \"score\"]]\n",
    "lookup_df.to_parquet(\"file_data_source.parquet\")"
   ]
  },
  {
   "cell_type": "markdown",
   "id": "3",
   "metadata": {},
   "source": [
    "## Define the Policy\n",
    "\n",
    "This is all the code used to define the policy. \\\n",
    "In fact, in `docs/examples/policies/local/test_policy/policy.py` \n",
    "we use the exact same code to create our \"packaged\" version, \n",
    "which we'll use later for remote execution.\n",
    "\n",
    "There are a few key parts here:\n",
    "- `DataInputNode`: These nodes are used to bring data into your decision flows. Here, we'll use a local file, but this can later be replaced with an API or database without having to change the flow\n",
    "- `branch_condition` and `BranchNode`: \"Branches\" are how we make decisions in our policies. At a branch, you can have any number of possible outputs. In our case here, we write a function that returns \"approved\" if the score is greater than a cutoff.\n",
    "- `TerminateNode`: Terminate nodes are how we represent the final step in a policy, or the final decision. The `return_status` value is the final decision made. Here, we either approve or deny someone. We'll later see how this can be used to pass information to other systems."
   ]
  },
  {
   "cell_type": "code",
   "execution_count": 4,
   "id": "4",
   "metadata": {},
   "outputs": [],
   "source": [
    "from vulkan_public.spec.dependency import INPUT_NODE, Dependency\n",
    "from vulkan_public.spec.nodes import BranchNode, DataInputNode, TerminateNode\n",
    "from vulkan_public.spec.policy import PolicyDefinition\n",
    "\n",
    "data_source = DataInputNode(\n",
    "    name=\"data_source\",\n",
    "    description=\"Get external data from a provider\",\n",
    "    data_source=\"data-source:api:v0.0.1\",\n",
    "    dependencies={\"data\": Dependency(INPUT_NODE)},\n",
    ")\n",
    "\n",
    "\n",
    "# Branching node\n",
    "def branch_condition(context, bureau, **kwargs):\n",
    "    context.log.info(bureau)\n",
    "    if bureau[\"score\"] > context.env.get(\"MINIMUM_SCORE\"):\n",
    "        return \"approved\"\n",
    "    return \"denied\"\n",
    "\n",
    "\n",
    "branch = BranchNode(\n",
    "    func=branch_condition,\n",
    "    name=\"branch\",\n",
    "    description=\"Make a decision based on the data source\",\n",
    "    dependencies={\n",
    "        \"bureau\": Dependency(data_source.name),\n",
    "    },\n",
    "    choices=[\"approved\", \"denied\"],\n",
    ")\n",
    "\n",
    "approved = TerminateNode(\n",
    "    name=\"approved\",\n",
    "    description=\"Approve customer based on the score\",\n",
    "    return_status=\"APPROVED\",\n",
    "    dependencies={\"condition\": Dependency(\"branch\", \"approved\")},\n",
    ")\n",
    "\n",
    "denied = TerminateNode(\n",
    "    name=\"denied\",\n",
    "    description=\"Deny customers that are below minimum\",\n",
    "    return_status=\"DENIED\",\n",
    "    dependencies={\"condition\": Dependency(\"branch\", \"denied\")},\n",
    ")\n",
    "\n",
    "demo_policy = PolicyDefinition(\n",
    "    nodes=[\n",
    "        data_source,\n",
    "        branch,\n",
    "        approved,\n",
    "        denied,\n",
    "    ],\n",
    "    config_variables=[\"MINIMUM_SCORE\"],\n",
    "    input_schema={\"tax_id\": str},\n",
    ")"
   ]
  },
  {
   "cell_type": "markdown",
   "id": "0507cebb-b2af-40ee-b7d2-7331a86ee056",
   "metadata": {},
   "source": [
    "### Visualizing the flow of information\n",
    "\n",
    "We can visualize our policy locally, at all times. \\\n",
    "This can show us how the clients are being treated and where we're making each decision."
   ]
  },
  {
   "cell_type": "code",
   "execution_count": 7,
   "id": "1a49189b-fb03-42bc-95f7-700e4b868868",
   "metadata": {},
   "outputs": [
    {
     "data": {
      "image/svg+xml": [
       "<?xml version=\"1.0\" encoding=\"UTF-8\" standalone=\"no\"?>\n",
       "<!DOCTYPE svg PUBLIC \"-//W3C//DTD SVG 1.1//EN\"\n",
       " \"http://www.w3.org/Graphics/SVG/1.1/DTD/svg11.dtd\">\n",
       "<!-- Generated by graphviz version 2.43.0 (0)\n",
       " -->\n",
       "<!-- Title: %3 Pages: 1 -->\n",
       "<svg width=\"218pt\" height=\"260pt\"\n",
       " viewBox=\"0.00 0.00 218.19 260.00\" xmlns=\"http://www.w3.org/2000/svg\" xmlns:xlink=\"http://www.w3.org/1999/xlink\">\n",
       "<g id=\"graph0\" class=\"graph\" transform=\"scale(1 1) rotate(0) translate(4 256)\">\n",
       "<title>%3</title>\n",
       "<polygon fill=\"white\" stroke=\"transparent\" points=\"-4,4 -4,-256 214.19,-256 214.19,4 -4,4\"/>\n",
       "<!-- data_source -->\n",
       "<g id=\"node1\" class=\"node\">\n",
       "<title>data_source</title>\n",
       "<ellipse fill=\"none\" stroke=\"black\" cx=\"110.95\" cy=\"-162\" rx=\"66.09\" ry=\"18\"/>\n",
       "<text text-anchor=\"middle\" x=\"110.95\" y=\"-158.3\" font-family=\"Times,serif\" font-size=\"14.00\">data_source</text>\n",
       "</g>\n",
       "<!-- branch -->\n",
       "<g id=\"node2\" class=\"node\">\n",
       "<title>branch</title>\n",
       "<ellipse fill=\"none\" stroke=\"black\" cx=\"110.95\" cy=\"-90\" rx=\"42.79\" ry=\"18\"/>\n",
       "<text text-anchor=\"middle\" x=\"110.95\" y=\"-86.3\" font-family=\"Times,serif\" font-size=\"14.00\">branch</text>\n",
       "</g>\n",
       "<!-- data_source&#45;&gt;branch -->\n",
       "<g id=\"edge1\" class=\"edge\">\n",
       "<title>data_source&#45;&gt;branch</title>\n",
       "<path fill=\"none\" stroke=\"black\" d=\"M110.95,-143.7C110.95,-135.98 110.95,-126.71 110.95,-118.11\"/>\n",
       "<polygon fill=\"black\" stroke=\"black\" points=\"114.45,-118.1 110.95,-108.1 107.45,-118.1 114.45,-118.1\"/>\n",
       "</g>\n",
       "<!-- approved -->\n",
       "<g id=\"node3\" class=\"node\">\n",
       "<title>approved</title>\n",
       "<ellipse fill=\"none\" stroke=\"black\" cx=\"53.95\" cy=\"-18\" rx=\"53.89\" ry=\"18\"/>\n",
       "<text text-anchor=\"middle\" x=\"53.95\" y=\"-14.3\" font-family=\"Times,serif\" font-size=\"14.00\">approved</text>\n",
       "</g>\n",
       "<!-- branch&#45;&gt;approved -->\n",
       "<g id=\"edge2\" class=\"edge\">\n",
       "<title>branch&#45;&gt;approved</title>\n",
       "<path fill=\"none\" stroke=\"black\" d=\"M97.72,-72.76C90.63,-64.06 81.75,-53.15 73.84,-43.43\"/>\n",
       "<polygon fill=\"black\" stroke=\"black\" points=\"76.52,-41.18 67.49,-35.63 71.09,-45.6 76.52,-41.18\"/>\n",
       "</g>\n",
       "<!-- denied -->\n",
       "<g id=\"node4\" class=\"node\">\n",
       "<title>denied</title>\n",
       "<ellipse fill=\"none\" stroke=\"black\" cx=\"167.95\" cy=\"-18\" rx=\"42.49\" ry=\"18\"/>\n",
       "<text text-anchor=\"middle\" x=\"167.95\" y=\"-14.3\" font-family=\"Times,serif\" font-size=\"14.00\">denied</text>\n",
       "</g>\n",
       "<!-- branch&#45;&gt;denied -->\n",
       "<g id=\"edge3\" class=\"edge\">\n",
       "<title>branch&#45;&gt;denied</title>\n",
       "<path fill=\"none\" stroke=\"black\" d=\"M124.17,-72.76C131.36,-63.93 140.4,-52.83 148.39,-43.01\"/>\n",
       "<polygon fill=\"black\" stroke=\"black\" points=\"151.2,-45.11 154.8,-35.15 145.77,-40.69 151.2,-45.11\"/>\n",
       "</g>\n",
       "<!-- input_node -->\n",
       "<g id=\"node5\" class=\"node\">\n",
       "<title>input_node</title>\n",
       "<ellipse fill=\"none\" stroke=\"black\" cx=\"110.95\" cy=\"-234\" rx=\"61.99\" ry=\"18\"/>\n",
       "<text text-anchor=\"middle\" x=\"110.95\" y=\"-230.3\" font-family=\"Times,serif\" font-size=\"14.00\">input_node</text>\n",
       "</g>\n",
       "<!-- input_node&#45;&gt;data_source -->\n",
       "<g id=\"edge4\" class=\"edge\">\n",
       "<title>input_node&#45;&gt;data_source</title>\n",
       "<path fill=\"none\" stroke=\"black\" d=\"M110.95,-215.7C110.95,-207.98 110.95,-198.71 110.95,-190.11\"/>\n",
       "<polygon fill=\"black\" stroke=\"black\" points=\"114.45,-190.1 110.95,-180.1 107.45,-190.1 114.45,-190.1\"/>\n",
       "</g>\n",
       "</g>\n",
       "</svg>\n"
      ],
      "text/plain": [
       "<graphviz.graphs.Digraph at 0x7fc09fc728d0>"
      ]
     },
     "execution_count": 7,
     "metadata": {},
     "output_type": "execute_result"
    }
   ],
   "source": [
    "demo_policy.show()"
   ]
  },
  {
   "cell_type": "code",
   "execution_count": 8,
   "id": "5",
   "metadata": {},
   "outputs": [],
   "source": [
    "policy = Policy.from_definition(demo_policy)"
   ]
  },
  {
   "cell_type": "markdown",
   "id": "6",
   "metadata": {},
   "source": [
    "## Run the Policy Locally \n",
    "\n",
    "The entire policy can be visualized and the run locally.\n",
    "\n",
    "To do that, we'll just have to do two things:\n",
    "1. Set a value for our score \"cutoff\": the minimum score to be Approved;\n",
    "2. Create a schema, telling Vulkan where to get data for the data sources;"
   ]
  },
  {
   "cell_type": "code",
   "execution_count": 9,
   "id": "7",
   "metadata": {},
   "outputs": [],
   "source": [
    "config_variables = {\"MINIMUM_SCORE\": 500}\n",
    "\n",
    "test_file_schema = {\n",
    "    \"name\": \"data-source:api:v0.0.1\",\n",
    "    \"keys\": [\"tax_id\"],\n",
    "    \"source\": {\n",
    "        \"path\": \"file_data_source.parquet\",\n",
    "    },\n",
    "    \"caching\": {\n",
    "        \"enabled\": False,\n",
    "    },\n",
    "}\n",
    "\n",
    "data_sources = [\n",
    "    DataSourceSpec.model_validate(test_file_schema),\n",
    "]"
   ]
  },
  {
   "cell_type": "code",
   "execution_count": 10,
   "id": "8",
   "metadata": {},
   "outputs": [],
   "source": [
    "runner = PolicyRunner(policy, staging_path=\"./output/\")"
   ]
  },
  {
   "cell_type": "markdown",
   "id": "11",
   "metadata": {},
   "source": [
    "### Running\n",
    "\n",
    "Now we're ready to run our policy.\n",
    "\n",
    "Let's start with a single example:"
   ]
  },
  {
   "cell_type": "code",
   "execution_count": 12,
   "id": "12",
   "metadata": {},
   "outputs": [
    {
     "data": {
      "text/html": [
       "<div>\n",
       "<style scoped>\n",
       "    .dataframe tbody tr th:only-of-type {\n",
       "        vertical-align: middle;\n",
       "    }\n",
       "\n",
       "    .dataframe tbody tr th {\n",
       "        vertical-align: top;\n",
       "    }\n",
       "\n",
       "    .dataframe thead th {\n",
       "        text-align: right;\n",
       "    }\n",
       "</style>\n",
       "<table border=\"1\" class=\"dataframe\">\n",
       "  <thead>\n",
       "    <tr style=\"text-align: right;\">\n",
       "      <th></th>\n",
       "      <th>tax_id</th>\n",
       "      <th>score</th>\n",
       "    </tr>\n",
       "  </thead>\n",
       "  <tbody>\n",
       "    <tr>\n",
       "      <th>0</th>\n",
       "      <td>0</td>\n",
       "      <td>81</td>\n",
       "    </tr>\n",
       "    <tr>\n",
       "      <th>1</th>\n",
       "      <td>1</td>\n",
       "      <td>836</td>\n",
       "    </tr>\n",
       "    <tr>\n",
       "      <th>2</th>\n",
       "      <td>2</td>\n",
       "      <td>48</td>\n",
       "    </tr>\n",
       "    <tr>\n",
       "      <th>3</th>\n",
       "      <td>3</td>\n",
       "      <td>952</td>\n",
       "    </tr>\n",
       "    <tr>\n",
       "      <th>4</th>\n",
       "      <td>4</td>\n",
       "      <td>650</td>\n",
       "    </tr>\n",
       "  </tbody>\n",
       "</table>\n",
       "</div>"
      ],
      "text/plain": [
       "  tax_id  score\n",
       "0      0     81\n",
       "1      1    836\n",
       "2      2     48\n",
       "3      3    952\n",
       "4      4    650"
      ]
     },
     "execution_count": 12,
     "metadata": {},
     "output_type": "execute_result"
    }
   ],
   "source": [
    "lookup_df.head()"
   ]
  },
  {
   "cell_type": "code",
   "execution_count": 14,
   "id": "13",
   "metadata": {},
   "outputs": [
    {
     "name": "stderr",
     "output_type": "stream",
     "text": [
      "WARNING:apache_beam.runners.interactive.interactive_environment:Dependencies required for Interactive Beam PCollection visualization are not available, please use: `pip install apache-beam[interactive]` to install necessary dependencies to enable all data visualization features.\n"
     ]
    },
    {
     "data": {
      "application/javascript": [
       "\n",
       "        if (typeof window.interactive_beam_jquery == 'undefined') {\n",
       "          var jqueryScript = document.createElement('script');\n",
       "          jqueryScript.src = 'https://code.jquery.com/jquery-3.4.1.slim.min.js';\n",
       "          jqueryScript.type = 'text/javascript';\n",
       "          jqueryScript.onload = function() {\n",
       "            var datatableScript = document.createElement('script');\n",
       "            datatableScript.src = 'https://cdn.datatables.net/1.10.20/js/jquery.dataTables.min.js';\n",
       "            datatableScript.type = 'text/javascript';\n",
       "            datatableScript.onload = function() {\n",
       "              window.interactive_beam_jquery = jQuery.noConflict(true);\n",
       "              window.interactive_beam_jquery(document).ready(function($){\n",
       "                \n",
       "              });\n",
       "            }\n",
       "            document.head.appendChild(datatableScript);\n",
       "          };\n",
       "          document.head.appendChild(jqueryScript);\n",
       "        } else {\n",
       "          window.interactive_beam_jquery(document).ready(function($){\n",
       "            \n",
       "          });\n",
       "        }"
      ]
     },
     "metadata": {},
     "output_type": "display_data"
    },
    {
     "name": "stdout",
     "output_type": "stream",
     "text": [
      "Here are our results:\n",
      "\n",
      "CPU times: user 478 ms, sys: 60.2 ms, total: 538 ms\n",
      "Wall time: 586 ms\n"
     ]
    },
    {
     "data": {
      "text/plain": [
       "{'input_node': [{'tax_id': '3'}], 'result': [{'status': 'APPROVED'}]}"
      ]
     },
     "execution_count": 14,
     "metadata": {},
     "output_type": "execute_result"
    }
   ],
   "source": [
    "%%time\n",
    "result = runner.run(\n",
    "    input_data={\"tax_id\": \"3\"},\n",
    "    data_sources=data_sources,\n",
    "    config_variables=config_variables,\n",
    ")\n",
    "\n",
    "print(\"Here are our results:\\n\")\n",
    "result.data"
   ]
  },
  {
   "cell_type": "markdown",
   "id": "14",
   "metadata": {},
   "source": [
    "### Running for a bunch of data\n",
    "\n",
    "We can run for 1 example, or for a bunch, just as easily. \\\n",
    "To run for a batch of data, we just need to pass the input data with a file. \\\n",
    "Let's pass in the input file we created at the beginning."
   ]
  },
  {
   "cell_type": "code",
   "execution_count": 15,
   "id": "15",
   "metadata": {},
   "outputs": [
    {
     "name": "stdout",
     "output_type": "stream",
     "text": [
      "CPU times: user 1.94 s, sys: 247 ms, total: 2.18 s\n",
      "Wall time: 2.3 s\n"
     ]
    }
   ],
   "source": [
    "%%time\n",
    "batch_results = runner.run_batch(\n",
    "    input_data_path=\"input.parquet\",\n",
    "    data_sources=data_sources,\n",
    "    config_variables=config_variables,\n",
    ")"
   ]
  },
  {
   "cell_type": "code",
   "execution_count": 16,
   "id": "16",
   "metadata": {},
   "outputs": [
    {
     "data": {
      "text/html": [
       "<div>\n",
       "<style scoped>\n",
       "    .dataframe tbody tr th:only-of-type {\n",
       "        vertical-align: middle;\n",
       "    }\n",
       "\n",
       "    .dataframe tbody tr th {\n",
       "        vertical-align: top;\n",
       "    }\n",
       "\n",
       "    .dataframe thead th {\n",
       "        text-align: right;\n",
       "    }\n",
       "</style>\n",
       "<table border=\"1\" class=\"dataframe\">\n",
       "  <thead>\n",
       "    <tr style=\"text-align: right;\">\n",
       "      <th></th>\n",
       "      <th>backfill_id</th>\n",
       "      <th>key</th>\n",
       "      <th>status</th>\n",
       "      <th>input_node</th>\n",
       "    </tr>\n",
       "  </thead>\n",
       "  <tbody>\n",
       "    <tr>\n",
       "      <th>0</th>\n",
       "      <td>1743085988965655</td>\n",
       "      <td>f0369ba55a60b5bc5bc8666a964c395c</td>\n",
       "      <td>DENIED</td>\n",
       "      <td>{'tax_id': '0'}</td>\n",
       "    </tr>\n",
       "    <tr>\n",
       "      <th>1</th>\n",
       "      <td>1743085988965655</td>\n",
       "      <td>60a146574a1ec5f09a27e1f15ae95ded</td>\n",
       "      <td>APPROVED</td>\n",
       "      <td>{'tax_id': '1'}</td>\n",
       "    </tr>\n",
       "    <tr>\n",
       "      <th>2</th>\n",
       "      <td>1743085988965655</td>\n",
       "      <td>761f36e599f6ca3cfb859271468973f2</td>\n",
       "      <td>DENIED</td>\n",
       "      <td>{'tax_id': '2'}</td>\n",
       "    </tr>\n",
       "    <tr>\n",
       "      <th>3</th>\n",
       "      <td>1743085988965655</td>\n",
       "      <td>3254c1565be80b4fe68c057671204ff6</td>\n",
       "      <td>APPROVED</td>\n",
       "      <td>{'tax_id': '3'}</td>\n",
       "    </tr>\n",
       "    <tr>\n",
       "      <th>4</th>\n",
       "      <td>1743085988965655</td>\n",
       "      <td>0e16afcc463ccb97987fd290aa35dc9d</td>\n",
       "      <td>APPROVED</td>\n",
       "      <td>{'tax_id': '4'}</td>\n",
       "    </tr>\n",
       "    <tr>\n",
       "      <th>...</th>\n",
       "      <td>...</td>\n",
       "      <td>...</td>\n",
       "      <td>...</td>\n",
       "      <td>...</td>\n",
       "    </tr>\n",
       "    <tr>\n",
       "      <th>995</th>\n",
       "      <td>1743085988965655</td>\n",
       "      <td>53861153a4b25a166752c788cf1d6e36</td>\n",
       "      <td>DENIED</td>\n",
       "      <td>{'tax_id': '995'}</td>\n",
       "    </tr>\n",
       "    <tr>\n",
       "      <th>996</th>\n",
       "      <td>1743085988965655</td>\n",
       "      <td>7fd9223d882ffd7bdcd47b6a58992371</td>\n",
       "      <td>APPROVED</td>\n",
       "      <td>{'tax_id': '996'}</td>\n",
       "    </tr>\n",
       "    <tr>\n",
       "      <th>997</th>\n",
       "      <td>1743085988965655</td>\n",
       "      <td>b41eaa06a9f79346369d7ebe486df932</td>\n",
       "      <td>APPROVED</td>\n",
       "      <td>{'tax_id': '997'}</td>\n",
       "    </tr>\n",
       "    <tr>\n",
       "      <th>998</th>\n",
       "      <td>1743085988965655</td>\n",
       "      <td>f4e11cf9a984c8554f09aa7720c6a7b8</td>\n",
       "      <td>DENIED</td>\n",
       "      <td>{'tax_id': '998'}</td>\n",
       "    </tr>\n",
       "    <tr>\n",
       "      <th>999</th>\n",
       "      <td>1743085988965655</td>\n",
       "      <td>a8fe85a819ccdaf75ee3013672cc0e9b</td>\n",
       "      <td>APPROVED</td>\n",
       "      <td>{'tax_id': '999'}</td>\n",
       "    </tr>\n",
       "  </tbody>\n",
       "</table>\n",
       "<p>1000 rows × 4 columns</p>\n",
       "</div>"
      ],
      "text/plain": [
       "          backfill_id                               key    status  \\\n",
       "0    1743085988965655  f0369ba55a60b5bc5bc8666a964c395c    DENIED   \n",
       "1    1743085988965655  60a146574a1ec5f09a27e1f15ae95ded  APPROVED   \n",
       "2    1743085988965655  761f36e599f6ca3cfb859271468973f2    DENIED   \n",
       "3    1743085988965655  3254c1565be80b4fe68c057671204ff6  APPROVED   \n",
       "4    1743085988965655  0e16afcc463ccb97987fd290aa35dc9d  APPROVED   \n",
       "..                ...                               ...       ...   \n",
       "995  1743085988965655  53861153a4b25a166752c788cf1d6e36    DENIED   \n",
       "996  1743085988965655  7fd9223d882ffd7bdcd47b6a58992371  APPROVED   \n",
       "997  1743085988965655  b41eaa06a9f79346369d7ebe486df932  APPROVED   \n",
       "998  1743085988965655  f4e11cf9a984c8554f09aa7720c6a7b8    DENIED   \n",
       "999  1743085988965655  a8fe85a819ccdaf75ee3013672cc0e9b  APPROVED   \n",
       "\n",
       "            input_node  \n",
       "0      {'tax_id': '0'}  \n",
       "1      {'tax_id': '1'}  \n",
       "2      {'tax_id': '2'}  \n",
       "3      {'tax_id': '3'}  \n",
       "4      {'tax_id': '4'}  \n",
       "..                 ...  \n",
       "995  {'tax_id': '995'}  \n",
       "996  {'tax_id': '996'}  \n",
       "997  {'tax_id': '997'}  \n",
       "998  {'tax_id': '998'}  \n",
       "999  {'tax_id': '999'}  \n",
       "\n",
       "[1000 rows x 4 columns]"
      ]
     },
     "execution_count": 16,
     "metadata": {},
     "output_type": "execute_result"
    }
   ],
   "source": [
    "batch_results.data"
   ]
  },
  {
   "cell_type": "code",
   "execution_count": null,
   "id": "17",
   "metadata": {},
   "outputs": [],
   "source": []
  }
 ],
 "metadata": {
  "kernelspec": {
   "display_name": "Python 3 (ipykernel)",
   "language": "python",
   "name": "python3"
  },
  "language_info": {
   "codemirror_mode": {
    "name": "ipython",
    "version": 3
   },
   "file_extension": ".py",
   "mimetype": "text/x-python",
   "name": "python",
   "nbconvert_exporter": "python",
   "pygments_lexer": "ipython3",
   "version": "3.12.4"
  }
 },
 "nbformat": 4,
 "nbformat_minor": 5
}
