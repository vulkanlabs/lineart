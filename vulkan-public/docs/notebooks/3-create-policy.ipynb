{
 "cells": [
  {
   "cell_type": "code",
   "execution_count": null,
   "id": "0",
   "metadata": {},
   "outputs": [],
   "source": [
    "%load_ext autotime"
   ]
  },
  {
   "cell_type": "markdown",
   "id": "1",
   "metadata": {},
   "source": [
    "# Using Vulkan\n",
    "\n",
    "This notebook will take you through all the steps in using Vulkan to write policies.\\\n",
    "By the end, you will have:\n",
    "\n",
    "1. Created a new policy, which can be used for online and batch evaluation,\n",
    "2. Launched a run of your new policy,\n",
    "3. Checked its results.\n",
    "\n",
    "Let's dive in!"
   ]
  },
  {
   "cell_type": "code",
   "execution_count": null,
   "id": "2",
   "metadata": {},
   "outputs": [],
   "source": [
    "# Used to make our results easier to read\n",
    "from pprint import pprint\n",
    "\n",
    "# The actual Vulkan assets used\n",
    "import vulkan_public.cli.client as vulkan\n",
    "from vulkan_public.cli.context import Context"
   ]
  },
  {
   "cell_type": "code",
   "execution_count": null,
   "id": "3",
   "metadata": {},
   "outputs": [],
   "source": [
    "ctx = Context()"
   ]
  },
  {
   "cell_type": "markdown",
   "id": "4",
   "metadata": {},
   "source": [
    "## Our First Policy\n",
    "\n",
    "Let's start by creating a simple policy.\\\n",
    "It takes in a person's (fictional) credit score, and tells us whether that person would be approved or denied.\n",
    "\n",
    "Later on, we'll see how to get data from an external data source and how to reuse parts of a policy.\n",
    "\n"
   ]
  },
  {
   "cell_type": "markdown",
   "id": "5",
   "metadata": {},
   "source": [
    "### Policy and Policy Versions\n",
    "\n",
    "In Vulkan, a `Policy` is an umbrella. It has a name, a description and an owner, and can have multiple versions.\\\n",
    "Each `Policy Version` can be used to make decisions separately, and you can have any number of them, making it easy to test and experiment.\\\n",
    "You can think of a Policy as how you make a decision on something, and a Version as each of the ways you'll want to try over time."
   ]
  },
  {
   "cell_type": "code",
   "execution_count": null,
   "id": "6",
   "metadata": {},
   "outputs": [],
   "source": [
    "policy_id = vulkan.policy.create_policy(\n",
    "    ctx,\n",
    "    name=\"Credit Policy\",\n",
    "    description=\"This is our first policy\",\n",
    ")"
   ]
  },
  {
   "cell_type": "markdown",
   "id": "7",
   "metadata": {},
   "source": [
    "Each `Policy Version` is defined by its code, the `repository_path` used to create it.\\\n",
    "It is totally independent of others versions, and can have its own definitions and dependencies."
   ]
  },
  {
   "cell_type": "code",
   "execution_count": null,
   "id": "8",
   "metadata": {},
   "outputs": [],
   "source": [
    "policy_version_id = vulkan.policy.create_policy_version(\n",
    "    ctx,\n",
    "    policy_id=policy_id,\n",
    "    version_name=\"v1\",\n",
    "    repository_path=\"../examples/policies/simple/\",\n",
    ")"
   ]
  },
  {
   "cell_type": "code",
   "execution_count": null,
   "id": "9",
   "metadata": {},
   "outputs": [],
   "source": [
    "policy_version_id = vulkan.policy.create_policy_version(\n",
    "    ctx,\n",
    "    policy_id=policy_id,\n",
    "    version_name=\"v2\",\n",
    "    repository_path=\"../examples/policies/simple/\",\n",
    ")"
   ]
  },
  {
   "cell_type": "code",
   "execution_count": null,
   "id": "10",
   "metadata": {},
   "outputs": [],
   "source": [
    "policy_version_id = vulkan.policy.create_policy_version(\n",
    "    ctx,\n",
    "    policy_id=policy_id,\n",
    "    version_name=\"v3\",\n",
    "    repository_path=\"../examples/policies/simple/\",\n",
    ")"
   ]
  },
  {
   "cell_type": "markdown",
   "id": "11",
   "metadata": {},
   "source": [
    "### Runs: How we make decisions\n",
    "\n",
    "Now that we've created a policy version, **we're ready to make our first decision**.\n",
    "\n",
    "For that, we'll run our policy directly, giving it some input data.\\\n",
    "In this example, we want to return `APPROVED` if the score is greater than 400, and `DENIED` if not.\n",
    "\n",
    "The user's data is passed to the `input_data` field. In our example, it's just a \"score\" value.\\\n",
    "We configure our threshold with the `config_variable` \"SCORE_CUTOFF\"."
   ]
  },
  {
   "cell_type": "code",
   "execution_count": null,
   "id": "12",
   "metadata": {},
   "outputs": [],
   "source": [
    "run_id, status = vulkan.run.trigger_run_by_policy_version_id(\n",
    "    ctx,\n",
    "    policy_version_id=policy_version_id,\n",
    "    input_data={\"tax_id\": \"1\", \"score\": 600},\n",
    "    config_variables={\"MINIMUM_SCORE\": 400},\n",
    "    timeout=60,\n",
    ")\n",
    "\n",
    "run_data = vulkan.run.get_run_data(ctx, run_id)\n",
    "\n",
    "# Retrieve the output of our decision.\n",
    "# In the next section, we'll look into more details for the run data.\n",
    "pprint(f'Output: {run_data[\"steps\"][\"branch\"][\"output\"]}')"
   ]
  },
  {
   "attachments": {},
   "cell_type": "markdown",
   "id": "13",
   "metadata": {},
   "source": [
    "#### What happened?\n",
    "\n",
    "When you trigger a Run using Vulkan, your code will be executed.\\\n",
    "The *actual* execution is happening remotely, on Vulkan's servers.\\\n",
    "It uses the code you uploaded for the `Policy Version`. \\\n",
    "This way, we can handle the infrastructure for you, allowing simple code to scale.\n",
    "\n",
    "The engine will receive your inputs, the configuration you want to use, and run your code, producing a detailed log of each step.\\\n",
    "Let's take a look at the entire run data object returned.\n",
    "\n",
    "You'll see that it has a couple of important parts:\n",
    "\n",
    "1. Run Metadata:\n",
    "    1.  Run ID: An unique identifier for this run in Vulkan. You can use this to see logs, outputs, or to visualize the decision on the web app.\n",
    "    2.  Status: Whether or not the run finished successfully.\n",
    "    3.  Last Updated At: A timestamp for when the run finished.\n",
    "2. Run Steps:\n",
    "    1. Each step is identified by the name we gave it, in this case \"approved\" and \"branch\";\n",
    "    2. For each step, we have (1) `output`, which contains the actual output of the step, and (2) `metadata`, which brings information on what kind of step this was, how long it took, etc.\n",
    "\n",
    "pprint(run_data)\n"
   ]
  },
  {
   "cell_type": "markdown",
   "id": "14",
   "metadata": {},
   "source": [
    "### Marking a version as \"Active\"\n",
    "\n",
    "In many cases, we want to have a standard version for a policy.\\\n",
    "This is useful for consumers of this policy: they can just get the current version of \"My First Policy\", no matter what that is."
   ]
  },
  {
   "cell_type": "code",
   "execution_count": null,
   "id": "15",
   "metadata": {},
   "outputs": [],
   "source": [
    "vulkan.policy.set_active_version(\n",
    "    ctx,\n",
    "    policy_id=policy_id,\n",
    "    policy_version_id=policy_version_id,\n",
    ")"
   ]
  },
  {
   "cell_type": "code",
   "execution_count": null,
   "id": "16",
   "metadata": {},
   "outputs": [],
   "source": [
    "run_id, status = vulkan.run.trigger_run_by_policy_id(\n",
    "    ctx,\n",
    "    policy_id=policy_id,\n",
    "    input_data={\"tax_id\": \"1\", \"score\": 600},\n",
    "    timeout=60,\n",
    "    config_variables={\"MINIMUM_SCORE\": 750},\n",
    ")\n",
    "\n",
    "run_data = vulkan.run.get_run_data(ctx, run_id)\n",
    "pprint(run_data)"
   ]
  },
  {
   "cell_type": "markdown",
   "id": "17",
   "metadata": {},
   "source": [
    "## Components: What, Why and How?"
   ]
  },
  {
   "cell_type": "markdown",
   "id": "18",
   "metadata": {},
   "source": [
    "### Creating a couple of Components"
   ]
  },
  {
   "cell_type": "code",
   "execution_count": null,
   "id": "19",
   "metadata": {},
   "outputs": [],
   "source": [
    "serasa_component_id = vulkan.component.create_component(ctx, name=\"serasa_component\")\n",
    "serasa_comp_version = vulkan.component.create_component_version(\n",
    "    ctx,\n",
    "    component_id=serasa_component_id,\n",
    "    version_name=\"v0.0.1\",\n",
    "    repository_path=\"../examples/components/serasa/\",\n",
    ")"
   ]
  },
  {
   "cell_type": "code",
   "execution_count": null,
   "id": "20",
   "metadata": {},
   "outputs": [],
   "source": [
    "scr_component_id = vulkan.component.create_component(ctx, name=\"scr_component\")\n",
    "scr_comp_version = vulkan.component.create_component_version(\n",
    "    ctx,\n",
    "    component_id=scr_component_id,\n",
    "    version_name=\"v0.0.1\",\n",
    "    repository_path=\"../examples/components/scr_component/\",\n",
    ")"
   ]
  },
  {
   "cell_type": "markdown",
   "id": "21",
   "metadata": {},
   "source": [
    "### Creating a Policy that uses Components"
   ]
  },
  {
   "cell_type": "code",
   "execution_count": null,
   "id": "22",
   "metadata": {},
   "outputs": [],
   "source": [
    "policy_id = vulkan.policy.create_policy(\n",
    "    ctx,\n",
    "    name=\"Test Policy\",\n",
    "    description=\"Test Policy Description\",\n",
    ")"
   ]
  },
  {
   "cell_type": "code",
   "execution_count": null,
   "id": "23",
   "metadata": {},
   "outputs": [],
   "source": [
    "policy_version_id = vulkan.policy.create_policy_version(\n",
    "    ctx,\n",
    "    policy_id=policy_id,\n",
    "    version_name=\"v0.0.2\",\n",
    "    repository_path=\"../examples/policies/onboarding/\",\n",
    ")"
   ]
  },
  {
   "cell_type": "code",
   "execution_count": null,
   "id": "24",
   "metadata": {},
   "outputs": [],
   "source": [
    "run_id, status = vulkan.run.trigger_run_by_policy_version_id(\n",
    "    ctx,\n",
    "    policy_version_id=policy_version_id,\n",
    "    input_data={\"cpf\": \"1\"},\n",
    "    config_variables={\n",
    "        \"CORTE_SERASA\": 500,\n",
    "        \"CORTE_SCR\": 600,\n",
    "        \"CORTE_SCR_APROVACAO_AUTOMATICA\": 900,\n",
    "        \"CORTE_SCR_RECUSA_AUTOMATICA\": 100,\n",
    "    },\n",
    ")\n",
    "\n",
    "run_data = vulkan.run.get_run_data(ctx, run_id)\n",
    "pprint(run_data)"
   ]
  },
  {
   "cell_type": "code",
   "execution_count": null,
   "id": "25",
   "metadata": {},
   "outputs": [],
   "source": []
  }
 ],
 "metadata": {
  "kernelspec": {
   "display_name": "Python 3 (ipykernel)",
   "language": "python",
   "name": "python3"
  },
  "language_info": {
   "codemirror_mode": {
    "name": "ipython",
    "version": 3
   },
   "file_extension": ".py",
   "mimetype": "text/x-python",
   "name": "python",
   "nbconvert_exporter": "python",
   "pygments_lexer": "ipython3",
   "version": "3.11.0"
  }
 },
 "nbformat": 4,
 "nbformat_minor": 5
}
