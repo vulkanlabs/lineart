{
 "cells": [
  {
   "cell_type": "code",
   "execution_count": null,
   "id": "0",
   "metadata": {},
   "outputs": [],
   "source": [
    "%load_ext autotime\n",
    "%load_ext autoreload\n",
    "%autoreload 2"
   ]
  },
  {
   "cell_type": "code",
   "execution_count": null,
   "id": "1",
   "metadata": {},
   "outputs": [],
   "source": [
    "import numpy as np\n",
    "import pandas as pd\n",
    "\n",
    "from vulkan_public.beam.local.runner import PolicyRunner\n",
    "from vulkan_public.core.policy import Policy\n",
    "from vulkan_public.schemas import DataSourceSpec\n",
    "from vulkan_public.spec.dependency import INPUT_NODE"
   ]
  },
  {
   "cell_type": "code",
   "execution_count": null,
   "id": "2",
   "metadata": {},
   "outputs": [],
   "source": [
    "import logging\n",
    "\n",
    "logger = logging.getLogger()\n",
    "logger.setLevel(\"ERROR\")"
   ]
  },
  {
   "cell_type": "markdown",
   "id": "3",
   "metadata": {},
   "source": [
    "## Preparations\n",
    "\n",
    "We'll create a Parquet file with our input data."
   ]
  },
  {
   "cell_type": "code",
   "execution_count": null,
   "id": "4",
   "metadata": {},
   "outputs": [],
   "source": [
    "df = pd.read_csv(\"../data/simple_bkt_lg.csv\")\n",
    "df[\"month\"] = df[\"month\"].astype(str)\n",
    "df[\"tax_id\"] = df[\"tax_id\"].astype(str)\n",
    "\n",
    "df.to_parquet(\"input.parquet\")"
   ]
  },
  {
   "cell_type": "markdown",
   "id": "5",
   "metadata": {},
   "source": [
    "## Define the sub-Policy"
   ]
  },
  {
   "cell_type": "code",
   "execution_count": null,
   "id": "6",
   "metadata": {},
   "outputs": [],
   "source": [
    "from enum import Enum\n",
    "\n",
    "from vulkan_public.spec.dependency import INPUT_NODE, Dependency\n",
    "from vulkan_public.spec.nodes import BranchNode, TerminateNode\n",
    "from vulkan_public.spec.policy import PolicyDefinition\n",
    "\n",
    "\n",
    "class Status(Enum):\n",
    "    APPROVED = \"APPROVED\"\n",
    "    DENIED = \"DENIED\"\n",
    "\n",
    "\n",
    "approved = TerminateNode(\n",
    "    name=\"approved\",\n",
    "    description=\"TerminateNode data branch\",\n",
    "    return_status=Status.APPROVED,\n",
    "    dependencies={\"condition\": Dependency(\"branch_1\", \"approved\")},\n",
    ")\n",
    "\n",
    "\n",
    "denied = TerminateNode(\n",
    "    name=\"denied\",\n",
    "    description=\"TerminateNode data branch\",\n",
    "    return_status=Status.DENIED,\n",
    "    dependencies={\"condition\": Dependency(\"branch_1\", \"denied\")},\n",
    ")\n",
    "\n",
    "\n",
    "# Branching node\n",
    "def branch_condition_1(context, scores, **kwargs):\n",
    "    context.log.info(f\"BranchNode data: {scores}\")\n",
    "    if scores[\"score\"] > context.env.get(\"SCORE_CUTOFF\", 500):\n",
    "        return \"approved\"\n",
    "    return \"denied\"\n",
    "\n",
    "\n",
    "branch_1 = BranchNode(\n",
    "    func=branch_condition_1,\n",
    "    name=\"branch_1\",\n",
    "    description=\"BranchNode data\",\n",
    "    dependencies={\"scores\": Dependency(INPUT_NODE)},\n",
    "    choices=[\"approved\", \"denied\"],\n",
    ")\n",
    "\n",
    "subpolicy = PolicyDefinition(\n",
    "    nodes=[\n",
    "        branch_1,\n",
    "        approved,\n",
    "        denied,\n",
    "    ],\n",
    "    config_variables=[\"SCORE_CUTOFF\"],\n",
    "    input_schema={\"tax_id\": str, \"score\": int},\n",
    ")\n",
    "subpolicy.show()"
   ]
  },
  {
   "cell_type": "code",
   "execution_count": null,
   "id": "7",
   "metadata": {},
   "outputs": [],
   "source": [
    "runner = PolicyRunner(subpolicy, staging_path=\"./output/\")\n",
    "config_variables = {\"SCORE_CUTOFF\": 650}\n",
    "\n",
    "result = runner.run(\n",
    "    input_data={\"tax_id\": \"1\", \"score\": 651},\n",
    "    config_variables=config_variables,\n",
    ")\n",
    "\n",
    "print(\"Here are our results:\\n\")\n",
    "result.data"
   ]
  },
  {
   "cell_type": "markdown",
   "id": "8",
   "metadata": {},
   "source": [
    "## Define the Main Policy"
   ]
  },
  {
   "cell_type": "code",
   "execution_count": null,
   "id": "9",
   "metadata": {},
   "outputs": [],
   "source": [
    "from vulkan_public.spec.policy import PolicyDefinitionNode\n",
    "\n",
    "subpolicy_node = PolicyDefinitionNode(\n",
    "    name=\"subpolicy\",\n",
    "    dependencies={\"input_data\": Dependency(INPUT_NODE)},\n",
    "    policy_definition=subpolicy,\n",
    ")\n",
    "\n",
    "\n",
    "def main_branch(context, subpolicy_decision, **kwargs):\n",
    "    context.log.info(\n",
    "        f\"Main Branch Data: {subpolicy_decision} ({type(subpolicy_decision)})\"\n",
    "    )\n",
    "    if subpolicy_decision[\"status\"] == Status.APPROVED.value:\n",
    "        return \"denied\"\n",
    "    return \"approved\"\n",
    "\n",
    "\n",
    "branch_main = BranchNode(\n",
    "    func=main_branch,\n",
    "    name=\"branch_main\",\n",
    "    dependencies={\"subpolicy_decision\": Dependency(subpolicy_node.name)},\n",
    "    choices=[\"approved\", \"denied\"],\n",
    ")\n",
    "\n",
    "approved_main = TerminateNode(\n",
    "    name=\"approved_main\",\n",
    "    return_status=Status.APPROVED,\n",
    "    dependencies={\"condition\": Dependency(\"branch_main\", \"approved\")},\n",
    ")\n",
    "\n",
    "\n",
    "denied_main = TerminateNode(\n",
    "    name=\"denied_main\",\n",
    "    return_status=Status.DENIED,\n",
    "    dependencies={\"condition\": Dependency(\"branch_main\", \"denied\")},\n",
    ")\n",
    "\n",
    "\n",
    "policy_def = PolicyDefinition(\n",
    "    nodes=[\n",
    "        subpolicy_node,\n",
    "        branch_main,\n",
    "        approved_main,\n",
    "        denied_main,\n",
    "    ],\n",
    "    config_variables=[\"SCORE_CUTOFF\"],\n",
    "    input_schema={\"tax_id\": str, \"score\": int},\n",
    ")\n",
    "policy_def.show()"
   ]
  },
  {
   "cell_type": "code",
   "execution_count": null,
   "id": "10",
   "metadata": {},
   "outputs": [],
   "source": [
    "runner = PolicyRunner(\n",
    "    PolicyDefinitionNode.from_dict(subpolicy_node.to_dict()).policy_definition,\n",
    "    staging_path=\"./output/\",\n",
    ")\n",
    "\n",
    "config_variables = {\"SCORE_CUTOFF\": 650}\n",
    "\n",
    "result = runner.run(\n",
    "    input_data={\"tax_id\": \"1\", \"score\": 651},\n",
    "    config_variables=config_variables,\n",
    ")"
   ]
  },
  {
   "cell_type": "markdown",
   "id": "11",
   "metadata": {},
   "source": [
    "## Run the Policy and SubPolicy Locally"
   ]
  },
  {
   "cell_type": "code",
   "execution_count": null,
   "id": "12",
   "metadata": {},
   "outputs": [],
   "source": [
    "runner = PolicyRunner(policy_def, staging_path=\"./output/\")\n",
    "config_variables = {\"SCORE_CUTOFF\": 650}\n",
    "\n",
    "result = runner.run(\n",
    "    input_data={\"tax_id\": \"1\", \"score\": 651},\n",
    "    config_variables=config_variables,\n",
    ")\n",
    "\n",
    "print(\"Here are our results:\\n\")\n",
    "result.data"
   ]
  },
  {
   "cell_type": "code",
   "execution_count": null,
   "id": "13",
   "metadata": {},
   "outputs": [],
   "source": [
    "p = Policy.from_definition(policy_def)\n",
    "p.show()"
   ]
  },
  {
   "cell_type": "markdown",
   "id": "14",
   "metadata": {},
   "source": [
    "### Running for a bunch of data\n",
    "\n",
    "We can run for 1 example, or for a bunch, just as easily.\n",
    "To run for a batch of data, we just need to pass the input data with a file.\n",
    "Let's pass in the input file we created at the beginning."
   ]
  },
  {
   "cell_type": "code",
   "execution_count": null,
   "id": "15",
   "metadata": {},
   "outputs": [],
   "source": [
    "%%time\n",
    "batch_results = runner.run_batch(\n",
    "    input_data_path=\"input.parquet\",\n",
    "    # data_sources=data_sources,\n",
    "    # config_variables=config_variables,\n",
    ")\n",
    "\n",
    "batch_results.data"
   ]
  },
  {
   "cell_type": "code",
   "execution_count": null,
   "id": "16",
   "metadata": {},
   "outputs": [],
   "source": []
  }
 ],
 "metadata": {
  "kernelspec": {
   "display_name": "Python 3 (ipykernel)",
   "language": "python",
   "name": "python3"
  },
  "language_info": {
   "codemirror_mode": {
    "name": "ipython",
    "version": 3
   },
   "file_extension": ".py",
   "mimetype": "text/x-python",
   "name": "python",
   "nbconvert_exporter": "python",
   "pygments_lexer": "ipython3",
   "version": "3.12.4"
  }
 },
 "nbformat": 4,
 "nbformat_minor": 5
}
