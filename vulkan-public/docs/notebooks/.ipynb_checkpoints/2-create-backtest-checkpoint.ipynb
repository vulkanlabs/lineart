{
 "cells": [
  {
   "cell_type": "code",
   "execution_count": 1,
   "id": "0d7e59a0-fc89-49b3-8c75-22f3220853ee",
   "metadata": {},
   "outputs": [],
   "source": [
    "%load_ext autoreload\n",
    "%autoreload 2"
   ]
  },
  {
   "cell_type": "markdown",
   "id": "deb5ce13-acc9-44c3-bd0d-592308c84320",
   "metadata": {},
   "source": [
    "# Using Vulkan\n",
    "\n",
    "This notebook will take you through all the steps in using Vulkan backtest a policy.\\\n",
    "Backtests are useful in estimating the performance of your policies.\\\n",
    "You can simulate different changes in the rules and compare their results before going to production.\n",
    "\n",
    "By the end of this tutorial, you will have:\n",
    "\n",
    "1. Created a new policy, which can be used for online and batch evaluation,\n",
    "2. Created a backtest using the batch interface,\n",
    "3. Downloaded and analysed the results.\n",
    "\n",
    "Let's dive in!"
   ]
  },
  {
   "cell_type": "code",
   "execution_count": 2,
   "id": "2862be97-3629-440e-928e-195966c466bc",
   "metadata": {},
   "outputs": [],
   "source": [
    "import pandas as pd\n",
    "from pprint import pprint\n",
    "\n",
    "import vulkan_public.cli.client as vulkan\n",
    "from vulkan_public.cli.context import Context"
   ]
  },
  {
   "cell_type": "code",
   "execution_count": 3,
   "id": "cead0aee-75c4-414e-9384-b820fa01fcde",
   "metadata": {},
   "outputs": [],
   "source": [
    "ctx = Context()"
   ]
  },
  {
   "cell_type": "markdown",
   "id": "ab42360e-ca86-4d43-9944-de73ccf60ef2",
   "metadata": {},
   "source": [
    "## Creating a Policy\n",
    "\n",
    "We'll start by creating a simple policy, with no dependencies.\\\n",
    "In the \"create-policy\" notebook, we go through the details of this.\\\n",
    "The important part is: you can use the exact same code to create a policy for 1-by-1 runs and for backtesting."
   ]
  },
  {
   "cell_type": "code",
   "execution_count": 4,
   "id": "ceae4e00-ff2f-4017-9df3-5edb62e03b39",
   "metadata": {},
   "outputs": [
    {
     "name": "stderr",
     "output_type": "stream",
     "text": [
      "2024-11-27 16:09:23 DESKTOP-GLELM79 urllib3.connectionpool[29331] DEBUG Starting new HTTP connection (1): localhost:6001\n",
      "2024-11-27 16:09:24 DESKTOP-GLELM79 urllib3.connectionpool[29331] DEBUG http://localhost:6001 \"POST /policies HTTP/1.1\" 307 0\n",
      "2024-11-27 16:09:25 DESKTOP-GLELM79 urllib3.connectionpool[29331] DEBUG http://localhost:6001 \"POST /policies/ HTTP/1.1\" 200 73\n",
      "2024-11-27 16:09:25 DESKTOP-GLELM79 vulkan_public.cli.context[29331] INFO Created policy Test Policy with id 23fc3297-3121-4cc7-bfcb-d457c608fd58\n"
     ]
    }
   ],
   "source": [
    "policy_id = vulkan.policy.create_policy(\n",
    "    ctx,\n",
    "    name=\"Test Policy\",\n",
    "    description=\"Test Policy Description\",\n",
    ")"
   ]
  },
  {
   "cell_type": "code",
   "execution_count": 5,
   "id": "eb5fe980-9362-44fe-b4f5-49216dc6c002",
   "metadata": {},
   "outputs": [
    {
     "name": "stderr",
     "output_type": "stream",
     "text": [
      "2024-11-27 16:09:25 DESKTOP-GLELM79 vulkan_public.cli.context[29331] WARNING Failed to import module from entrypoint.\n",
      "2024-11-27 16:09:25 DESKTOP-GLELM79 vulkan_public.cli.context[29331] WARNING Import-related issue from user code: No module named 'test_policy'\n",
      "2024-11-27 16:09:25 DESKTOP-GLELM79 vulkan_public.cli.context[29331] INFO Creating workspace v0.0.1. This may take a while...\n",
      "2024-11-27 16:10:30 DESKTOP-GLELM79 urllib3.connectionpool[29331] DEBUG http://localhost:6001 \"POST /policies/23fc3297-3121-4cc7-bfcb-d457c608fd58/versions HTTP/1.1\" 200 145\n",
      "2024-11-27 16:10:30 DESKTOP-GLELM79 vulkan_public.cli.context[29331] INFO Created workspace v0.0.1 with policy version cc81c76c-33fa-404a-8116-5ea0eab09d18\n"
     ]
    }
   ],
   "source": [
    "policy_version_id = vulkan.policy.create_policy_version(\n",
    "    ctx,\n",
    "    policy_id=policy_id,\n",
    "    version_name=\"v0.0.1\",\n",
    "    repository_path=\"examples/policies/simple/\",\n",
    ")"
   ]
  },
  {
   "cell_type": "markdown",
   "id": "c547657b-97c6-44a0-92de-73028ed755d4",
   "metadata": {},
   "source": [
    "## Running the Backtest\n",
    "\n",
    "Now that our policy is ready, we can create a backtest.\\\n",
    "To do that, we just need some data. The file below has some samples in the format our policy expects:"
   ]
  },
  {
   "cell_type": "code",
   "execution_count": 6,
   "id": "6a955232-f87b-4702-943c-93f698c928f9",
   "metadata": {},
   "outputs": [
    {
     "data": {
      "text/html": [
       "<div>\n",
       "<style scoped>\n",
       "    .dataframe tbody tr th:only-of-type {\n",
       "        vertical-align: middle;\n",
       "    }\n",
       "\n",
       "    .dataframe tbody tr th {\n",
       "        vertical-align: top;\n",
       "    }\n",
       "\n",
       "    .dataframe thead th {\n",
       "        text-align: right;\n",
       "    }\n",
       "</style>\n",
       "<table border=\"1\" class=\"dataframe\">\n",
       "  <thead>\n",
       "    <tr style=\"text-align: right;\">\n",
       "      <th></th>\n",
       "      <th>tax_id</th>\n",
       "      <th>score</th>\n",
       "      <th>default</th>\n",
       "    </tr>\n",
       "  </thead>\n",
       "  <tbody>\n",
       "    <tr>\n",
       "      <th>0</th>\n",
       "      <td>1</td>\n",
       "      <td>100</td>\n",
       "      <td>1</td>\n",
       "    </tr>\n",
       "    <tr>\n",
       "      <th>1</th>\n",
       "      <td>2</td>\n",
       "      <td>350</td>\n",
       "      <td>0</td>\n",
       "    </tr>\n",
       "    <tr>\n",
       "      <th>2</th>\n",
       "      <td>3</td>\n",
       "      <td>700</td>\n",
       "      <td>1</td>\n",
       "    </tr>\n",
       "    <tr>\n",
       "      <th>3</th>\n",
       "      <td>4</td>\n",
       "      <td>400</td>\n",
       "      <td>1</td>\n",
       "    </tr>\n",
       "    <tr>\n",
       "      <th>4</th>\n",
       "      <td>5</td>\n",
       "      <td>850</td>\n",
       "      <td>0</td>\n",
       "    </tr>\n",
       "  </tbody>\n",
       "</table>\n",
       "</div>"
      ],
      "text/plain": [
       "   tax_id  score  default\n",
       "0       1    100        1\n",
       "1       2    350        0\n",
       "2       3    700        1\n",
       "3       4    400        1\n",
       "4       5    850        0"
      ]
     },
     "execution_count": 6,
     "metadata": {},
     "output_type": "execute_result"
    }
   ],
   "source": [
    "df = pd.read_csv(\"./test/data/simple_bkt.csv\")\n",
    "df.head()"
   ]
  },
  {
   "cell_type": "markdown",
   "id": "51ccd14f-99ce-4ba2-aadf-f838d7f0978e",
   "metadata": {},
   "source": [
    "Now we just pass that data to the Vulkan Engine.\\\n",
    "A job will be created to evaluate the policy on each row of your data.\n",
    "\n",
    "The first time we backtest a policy, it'll take a few minutes to prepare the environment.\\\n",
    "After that, creating a new backtest is almost instant.\n"
   ]
  },
  {
   "cell_type": "code",
   "execution_count": 7,
   "id": "bd2b7176-022b-4e32-b245-3a388b775e33",
   "metadata": {},
   "outputs": [
    {
     "name": "stderr",
     "output_type": "stream",
     "text": [
      "2024-11-27 16:10:31 DESKTOP-GLELM79 urllib3.connectionpool[29331] DEBUG http://localhost:6001 \"POST /backtests/files HTTP/1.1\" 200 163\n"
     ]
    }
   ],
   "source": [
    "file_info = vulkan.backtest.upload_backtest_file(\n",
    "    ctx,\n",
    "    policy_version_id=policy_version_id,\n",
    "    file_path=\"test/data/simple_bkt.csv\",\n",
    "    file_format=\"CSV\",\n",
    "    schema={\"tax_id\": \"str\", \"score\": \"int\", \"default\": \"int\"},\n",
    ")\n",
    "file_id = file_info[\"uploaded_file_id\"]"
   ]
  },
  {
   "cell_type": "code",
   "execution_count": 9,
   "id": "e3efabd3-bd01-4466-8656-c9771ec6047e",
   "metadata": {},
   "outputs": [
    {
     "name": "stderr",
     "output_type": "stream",
     "text": [
      "2024-11-27 16:14:25 DESKTOP-GLELM79 urllib3.connectionpool[29331] DEBUG http://localhost:6001 \"POST /policy-versions/cc81c76c-33fa-404a-8116-5ea0eab09d18/backtest-workspace HTTP/1.1\" 200 74\n"
     ]
    },
    {
     "data": {
      "text/plain": [
       "{'policy_version_id': 'cc81c76c-33fa-404a-8116-5ea0eab09d18', 'status': 'OK'}"
      ]
     },
     "execution_count": 9,
     "metadata": {},
     "output_type": "execute_result"
    }
   ],
   "source": [
    "vulkan.policy_version.create_backtest_workspace(ctx, policy_version_id)"
   ]
  },
  {
   "cell_type": "code",
   "execution_count": 10,
   "id": "f6dc449b-e38c-46dd-ba11-ff5e10ce4f78",
   "metadata": {},
   "outputs": [
    {
     "name": "stderr",
     "output_type": "stream",
     "text": [
      "2024-11-27 16:14:25 DESKTOP-GLELM79 vulkan_public.cli.context[29331] INFO Creating backtest. This may take a while...\n",
      "2024-11-27 16:14:29 DESKTOP-GLELM79 urllib3.connectionpool[29331] DEBUG http://localhost:6001 \"POST /backtests/ HTTP/1.1\" 200 431\n",
      "2024-11-27 16:14:29 DESKTOP-GLELM79 vulkan_public.cli.context[29331] INFO Created backtest with id 6ecdb0db-6235-4399-8ead-f8c139e7cad5\n"
     ]
    }
   ],
   "source": [
    "backtest_info = vulkan.backtest.create_backtest(\n",
    "    ctx,\n",
    "    policy_version_id=policy_version_id,\n",
    "    input_file_id=file_id,\n",
    "    config_variables=[\n",
    "        {\"SCORE_CUTOFF\": 500},\n",
    "        {\"SCORE_CUTOFF\": 700},\n",
    "    ],\n",
    "    metrics_config={\n",
    "        \"target_column\": \"default\",\n",
    "    }\n",
    ")\n",
    "\n",
    "backtest_id = backtest_info[\"backtest_id\"]"
   ]
  },
  {
   "cell_type": "code",
   "execution_count": 11,
   "id": "92ae0e3d-e9e2-4093-ace1-966abe5e07ac",
   "metadata": {},
   "outputs": [
    {
     "name": "stderr",
     "output_type": "stream",
     "text": [
      "2024-11-27 16:14:30 DESKTOP-GLELM79 urllib3.connectionpool[29331] DEBUG http://localhost:6001 \"GET /backtests/6ecdb0db-6235-4399-8ead-f8c139e7cad5/status HTTP/1.1\" 200 315\n",
      "2024-11-27 16:14:30 DESKTOP-GLELM79 vulkan_public.cli.context[29331] INFO {'backtest_id': '6ecdb0db-6235-4399-8ead-f8c139e7cad5', 'status': 'PENDING', 'backfills': [{'backfill_id': '4d6a7c41-e382-4893-83ed-41f129ae7581', 'status': 'PENDING', 'config_variables': {'SCORE_CUTOFF': 500}}, {'backfill_id': '73a984c0-7097-4558-8ef4-69ce21b8e0d6', 'status': 'PENDING', 'config_variables': {'SCORE_CUTOFF': 700}}]}\n",
      "2024-11-27 16:15:00 DESKTOP-GLELM79 urllib3.connectionpool[29331] DEBUG Resetting dropped connection: localhost\n",
      "2024-11-27 16:15:00 DESKTOP-GLELM79 urllib3.connectionpool[29331] DEBUG http://localhost:6001 \"GET /backtests/6ecdb0db-6235-4399-8ead-f8c139e7cad5/status HTTP/1.1\" 200 315\n",
      "2024-11-27 16:15:00 DESKTOP-GLELM79 vulkan_public.cli.context[29331] INFO {'backtest_id': '6ecdb0db-6235-4399-8ead-f8c139e7cad5', 'status': 'PENDING', 'backfills': [{'backfill_id': '4d6a7c41-e382-4893-83ed-41f129ae7581', 'status': 'PENDING', 'config_variables': {'SCORE_CUTOFF': 500}}, {'backfill_id': '73a984c0-7097-4558-8ef4-69ce21b8e0d6', 'status': 'PENDING', 'config_variables': {'SCORE_CUTOFF': 700}}]}\n",
      "2024-11-27 16:15:30 DESKTOP-GLELM79 urllib3.connectionpool[29331] DEBUG Resetting dropped connection: localhost\n",
      "2024-11-27 16:15:31 DESKTOP-GLELM79 urllib3.connectionpool[29331] DEBUG http://localhost:6001 \"GET /backtests/6ecdb0db-6235-4399-8ead-f8c139e7cad5/status HTTP/1.1\" 200 315\n",
      "2024-11-27 16:15:31 DESKTOP-GLELM79 vulkan_public.cli.context[29331] INFO {'backtest_id': '6ecdb0db-6235-4399-8ead-f8c139e7cad5', 'status': 'PENDING', 'backfills': [{'backfill_id': '4d6a7c41-e382-4893-83ed-41f129ae7581', 'status': 'PENDING', 'config_variables': {'SCORE_CUTOFF': 500}}, {'backfill_id': '73a984c0-7097-4558-8ef4-69ce21b8e0d6', 'status': 'PENDING', 'config_variables': {'SCORE_CUTOFF': 700}}]}\n",
      "2024-11-27 16:16:01 DESKTOP-GLELM79 urllib3.connectionpool[29331] DEBUG Resetting dropped connection: localhost\n",
      "2024-11-27 16:16:02 DESKTOP-GLELM79 urllib3.connectionpool[29331] DEBUG http://localhost:6001 \"GET /backtests/6ecdb0db-6235-4399-8ead-f8c139e7cad5/status HTTP/1.1\" 200 315\n",
      "2024-11-27 16:16:02 DESKTOP-GLELM79 vulkan_public.cli.context[29331] INFO {'backtest_id': '6ecdb0db-6235-4399-8ead-f8c139e7cad5', 'status': 'PENDING', 'backfills': [{'backfill_id': '4d6a7c41-e382-4893-83ed-41f129ae7581', 'status': 'PENDING', 'config_variables': {'SCORE_CUTOFF': 500}}, {'backfill_id': '73a984c0-7097-4558-8ef4-69ce21b8e0d6', 'status': 'PENDING', 'config_variables': {'SCORE_CUTOFF': 700}}]}\n",
      "2024-11-27 16:16:32 DESKTOP-GLELM79 urllib3.connectionpool[29331] DEBUG Resetting dropped connection: localhost\n",
      "2024-11-27 16:16:33 DESKTOP-GLELM79 urllib3.connectionpool[29331] DEBUG http://localhost:6001 \"GET /backtests/6ecdb0db-6235-4399-8ead-f8c139e7cad5/status HTTP/1.1\" 200 315\n",
      "2024-11-27 16:16:33 DESKTOP-GLELM79 vulkan_public.cli.context[29331] INFO {'backtest_id': '6ecdb0db-6235-4399-8ead-f8c139e7cad5', 'status': 'PENDING', 'backfills': [{'backfill_id': '4d6a7c41-e382-4893-83ed-41f129ae7581', 'status': 'PENDING', 'config_variables': {'SCORE_CUTOFF': 500}}, {'backfill_id': '73a984c0-7097-4558-8ef4-69ce21b8e0d6', 'status': 'PENDING', 'config_variables': {'SCORE_CUTOFF': 700}}]}\n",
      "2024-11-27 16:17:03 DESKTOP-GLELM79 urllib3.connectionpool[29331] DEBUG Resetting dropped connection: localhost\n",
      "2024-11-27 16:17:04 DESKTOP-GLELM79 urllib3.connectionpool[29331] DEBUG http://localhost:6001 \"GET /backtests/6ecdb0db-6235-4399-8ead-f8c139e7cad5/status HTTP/1.1\" 200 315\n",
      "2024-11-27 16:17:04 DESKTOP-GLELM79 vulkan_public.cli.context[29331] INFO {'backtest_id': '6ecdb0db-6235-4399-8ead-f8c139e7cad5', 'status': 'PENDING', 'backfills': [{'backfill_id': '4d6a7c41-e382-4893-83ed-41f129ae7581', 'status': 'PENDING', 'config_variables': {'SCORE_CUTOFF': 500}}, {'backfill_id': '73a984c0-7097-4558-8ef4-69ce21b8e0d6', 'status': 'PENDING', 'config_variables': {'SCORE_CUTOFF': 700}}]}\n",
      "2024-11-27 16:17:34 DESKTOP-GLELM79 urllib3.connectionpool[29331] DEBUG Resetting dropped connection: localhost\n",
      "2024-11-27 16:17:35 DESKTOP-GLELM79 urllib3.connectionpool[29331] DEBUG http://localhost:6001 \"GET /backtests/6ecdb0db-6235-4399-8ead-f8c139e7cad5/status HTTP/1.1\" 200 315\n",
      "2024-11-27 16:17:35 DESKTOP-GLELM79 vulkan_public.cli.context[29331] INFO {'backtest_id': '6ecdb0db-6235-4399-8ead-f8c139e7cad5', 'status': 'PENDING', 'backfills': [{'backfill_id': '4d6a7c41-e382-4893-83ed-41f129ae7581', 'status': 'PENDING', 'config_variables': {'SCORE_CUTOFF': 500}}, {'backfill_id': '73a984c0-7097-4558-8ef4-69ce21b8e0d6', 'status': 'PENDING', 'config_variables': {'SCORE_CUTOFF': 700}}]}\n",
      "2024-11-27 16:18:05 DESKTOP-GLELM79 urllib3.connectionpool[29331] DEBUG Resetting dropped connection: localhost\n",
      "2024-11-27 16:18:06 DESKTOP-GLELM79 urllib3.connectionpool[29331] DEBUG http://localhost:6001 \"GET /backtests/6ecdb0db-6235-4399-8ead-f8c139e7cad5/status HTTP/1.1\" 200 315\n",
      "2024-11-27 16:18:06 DESKTOP-GLELM79 vulkan_public.cli.context[29331] INFO {'backtest_id': '6ecdb0db-6235-4399-8ead-f8c139e7cad5', 'status': 'PENDING', 'backfills': [{'backfill_id': '4d6a7c41-e382-4893-83ed-41f129ae7581', 'status': 'PENDING', 'config_variables': {'SCORE_CUTOFF': 500}}, {'backfill_id': '73a984c0-7097-4558-8ef4-69ce21b8e0d6', 'status': 'PENDING', 'config_variables': {'SCORE_CUTOFF': 700}}]}\n",
      "2024-11-27 16:18:36 DESKTOP-GLELM79 urllib3.connectionpool[29331] DEBUG Resetting dropped connection: localhost\n",
      "2024-11-27 16:18:37 DESKTOP-GLELM79 urllib3.connectionpool[29331] DEBUG http://localhost:6001 \"GET /backtests/6ecdb0db-6235-4399-8ead-f8c139e7cad5/status HTTP/1.1\" 200 315\n",
      "2024-11-27 16:18:37 DESKTOP-GLELM79 vulkan_public.cli.context[29331] INFO {'backtest_id': '6ecdb0db-6235-4399-8ead-f8c139e7cad5', 'status': 'PENDING', 'backfills': [{'backfill_id': '4d6a7c41-e382-4893-83ed-41f129ae7581', 'status': 'PENDING', 'config_variables': {'SCORE_CUTOFF': 500}}, {'backfill_id': '73a984c0-7097-4558-8ef4-69ce21b8e0d6', 'status': 'PENDING', 'config_variables': {'SCORE_CUTOFF': 700}}]}\n",
      "2024-11-27 16:19:07 DESKTOP-GLELM79 urllib3.connectionpool[29331] DEBUG Resetting dropped connection: localhost\n",
      "2024-11-27 16:19:07 DESKTOP-GLELM79 urllib3.connectionpool[29331] DEBUG http://localhost:6001 \"GET /backtests/6ecdb0db-6235-4399-8ead-f8c139e7cad5/status HTTP/1.1\" 200 315\n",
      "2024-11-27 16:19:07 DESKTOP-GLELM79 vulkan_public.cli.context[29331] INFO {'backtest_id': '6ecdb0db-6235-4399-8ead-f8c139e7cad5', 'status': 'PENDING', 'backfills': [{'backfill_id': '4d6a7c41-e382-4893-83ed-41f129ae7581', 'status': 'PENDING', 'config_variables': {'SCORE_CUTOFF': 500}}, {'backfill_id': '73a984c0-7097-4558-8ef4-69ce21b8e0d6', 'status': 'PENDING', 'config_variables': {'SCORE_CUTOFF': 700}}]}\n"
     ]
    },
    {
     "data": {
      "text/plain": [
       "{'backtest_id': '6ecdb0db-6235-4399-8ead-f8c139e7cad5',\n",
       " 'status': 'PENDING',\n",
       " 'backfills': [{'backfill_id': '4d6a7c41-e382-4893-83ed-41f129ae7581',\n",
       "   'status': 'PENDING',\n",
       "   'config_variables': {'SCORE_CUTOFF': 500}},\n",
       "  {'backfill_id': '73a984c0-7097-4558-8ef4-69ce21b8e0d6',\n",
       "   'status': 'PENDING',\n",
       "   'config_variables': {'SCORE_CUTOFF': 700}}]}"
      ]
     },
     "execution_count": 11,
     "metadata": {},
     "output_type": "execute_result"
    }
   ],
   "source": [
    "vulkan.backtest.poll_backtest_status(ctx, backtest_id)"
   ]
  },
  {
   "cell_type": "markdown",
   "id": "9ae422b6-0ad1-43a4-955e-ac2df6f36f61",
   "metadata": {},
   "source": [
    "## Getting the results \n",
    "\n",
    "Backtest jobs are optimized for scalability.\\\n",
    "This means that they don't run instantaneously, but can run for large volumes of data.\\\n",
    "To make it easier to use, we have a function that waits until a job is finished and gets it's results.\n",
    "\n",
    "To get the outputs, we can query Vulkan using the Backtest ID.\\\n",
    "This will give us the results for all runs of this individual backtest."
   ]
  },
  {
   "cell_type": "code",
   "execution_count": 12,
   "id": "bce6a841-bdd0-4b1d-8686-36e51260f51c",
   "metadata": {},
   "outputs": [
    {
     "name": "stderr",
     "output_type": "stream",
     "text": [
      "2024-11-27 16:19:37 DESKTOP-GLELM79 urllib3.connectionpool[29331] DEBUG Resetting dropped connection: localhost\n",
      "2024-11-27 16:19:40 DESKTOP-GLELM79 urllib3.connectionpool[29331] DEBUG http://localhost:6001 \"GET /backtests/6ecdb0db-6235-4399-8ead-f8c139e7cad5/results HTTP/1.1\" 200 1547\n"
     ]
    },
    {
     "data": {
      "text/html": [
       "<div>\n",
       "<style scoped>\n",
       "    .dataframe tbody tr th:only-of-type {\n",
       "        vertical-align: middle;\n",
       "    }\n",
       "\n",
       "    .dataframe tbody tr th {\n",
       "        vertical-align: top;\n",
       "    }\n",
       "\n",
       "    .dataframe thead th {\n",
       "        text-align: right;\n",
       "    }\n",
       "</style>\n",
       "<table border=\"1\" class=\"dataframe\">\n",
       "  <thead>\n",
       "    <tr style=\"text-align: right;\">\n",
       "      <th></th>\n",
       "      <th>backfill_id</th>\n",
       "      <th>key</th>\n",
       "      <th>status</th>\n",
       "      <th>input_node</th>\n",
       "    </tr>\n",
       "  </thead>\n",
       "  <tbody>\n",
       "    <tr>\n",
       "      <th>0</th>\n",
       "      <td>4d6a7c41-e382-4893-83ed-41f129ae7581</td>\n",
       "      <td>36f5db8887fabefe46b32f5a4235e65c</td>\n",
       "      <td>APPROVED</td>\n",
       "      <td>{'tax_id': '3', 'score': 700}</td>\n",
       "    </tr>\n",
       "    <tr>\n",
       "      <th>1</th>\n",
       "      <td>4d6a7c41-e382-4893-83ed-41f129ae7581</td>\n",
       "      <td>0cef52d3c995b51c8c968a91a0a0b98e</td>\n",
       "      <td>DENIED</td>\n",
       "      <td>{'tax_id': '2', 'score': 350}</td>\n",
       "    </tr>\n",
       "    <tr>\n",
       "      <th>2</th>\n",
       "      <td>4d6a7c41-e382-4893-83ed-41f129ae7581</td>\n",
       "      <td>fd5ba68fbc2f614a24c4c3b16e1fc3b7</td>\n",
       "      <td>DENIED</td>\n",
       "      <td>{'tax_id': '4', 'score': 400}</td>\n",
       "    </tr>\n",
       "    <tr>\n",
       "      <th>3</th>\n",
       "      <td>4d6a7c41-e382-4893-83ed-41f129ae7581</td>\n",
       "      <td>05a5698ec8a4387005f6df33423853bb</td>\n",
       "      <td>DENIED</td>\n",
       "      <td>{'tax_id': '1', 'score': 100}</td>\n",
       "    </tr>\n",
       "    <tr>\n",
       "      <th>4</th>\n",
       "      <td>4d6a7c41-e382-4893-83ed-41f129ae7581</td>\n",
       "      <td>c4a8a0b0001f84851349dd25c0fbd4ac</td>\n",
       "      <td>APPROVED</td>\n",
       "      <td>{'tax_id': '5', 'score': 850}</td>\n",
       "    </tr>\n",
       "    <tr>\n",
       "      <th>5</th>\n",
       "      <td>73a984c0-7097-4558-8ef4-69ce21b8e0d6</td>\n",
       "      <td>36f5db8887fabefe46b32f5a4235e65c</td>\n",
       "      <td>DENIED</td>\n",
       "      <td>{'tax_id': '3', 'score': 700}</td>\n",
       "    </tr>\n",
       "    <tr>\n",
       "      <th>6</th>\n",
       "      <td>73a984c0-7097-4558-8ef4-69ce21b8e0d6</td>\n",
       "      <td>0cef52d3c995b51c8c968a91a0a0b98e</td>\n",
       "      <td>DENIED</td>\n",
       "      <td>{'tax_id': '2', 'score': 350}</td>\n",
       "    </tr>\n",
       "    <tr>\n",
       "      <th>7</th>\n",
       "      <td>73a984c0-7097-4558-8ef4-69ce21b8e0d6</td>\n",
       "      <td>fd5ba68fbc2f614a24c4c3b16e1fc3b7</td>\n",
       "      <td>DENIED</td>\n",
       "      <td>{'tax_id': '4', 'score': 400}</td>\n",
       "    </tr>\n",
       "    <tr>\n",
       "      <th>8</th>\n",
       "      <td>73a984c0-7097-4558-8ef4-69ce21b8e0d6</td>\n",
       "      <td>05a5698ec8a4387005f6df33423853bb</td>\n",
       "      <td>DENIED</td>\n",
       "      <td>{'tax_id': '1', 'score': 100}</td>\n",
       "    </tr>\n",
       "    <tr>\n",
       "      <th>9</th>\n",
       "      <td>73a984c0-7097-4558-8ef4-69ce21b8e0d6</td>\n",
       "      <td>c4a8a0b0001f84851349dd25c0fbd4ac</td>\n",
       "      <td>APPROVED</td>\n",
       "      <td>{'tax_id': '5', 'score': 850}</td>\n",
       "    </tr>\n",
       "  </tbody>\n",
       "</table>\n",
       "</div>"
      ],
      "text/plain": [
       "                            backfill_id                               key  \\\n",
       "0  4d6a7c41-e382-4893-83ed-41f129ae7581  36f5db8887fabefe46b32f5a4235e65c   \n",
       "1  4d6a7c41-e382-4893-83ed-41f129ae7581  0cef52d3c995b51c8c968a91a0a0b98e   \n",
       "2  4d6a7c41-e382-4893-83ed-41f129ae7581  fd5ba68fbc2f614a24c4c3b16e1fc3b7   \n",
       "3  4d6a7c41-e382-4893-83ed-41f129ae7581  05a5698ec8a4387005f6df33423853bb   \n",
       "4  4d6a7c41-e382-4893-83ed-41f129ae7581  c4a8a0b0001f84851349dd25c0fbd4ac   \n",
       "5  73a984c0-7097-4558-8ef4-69ce21b8e0d6  36f5db8887fabefe46b32f5a4235e65c   \n",
       "6  73a984c0-7097-4558-8ef4-69ce21b8e0d6  0cef52d3c995b51c8c968a91a0a0b98e   \n",
       "7  73a984c0-7097-4558-8ef4-69ce21b8e0d6  fd5ba68fbc2f614a24c4c3b16e1fc3b7   \n",
       "8  73a984c0-7097-4558-8ef4-69ce21b8e0d6  05a5698ec8a4387005f6df33423853bb   \n",
       "9  73a984c0-7097-4558-8ef4-69ce21b8e0d6  c4a8a0b0001f84851349dd25c0fbd4ac   \n",
       "\n",
       "     status                     input_node  \n",
       "0  APPROVED  {'tax_id': '3', 'score': 700}  \n",
       "1    DENIED  {'tax_id': '2', 'score': 350}  \n",
       "2    DENIED  {'tax_id': '4', 'score': 400}  \n",
       "3    DENIED  {'tax_id': '1', 'score': 100}  \n",
       "4  APPROVED  {'tax_id': '5', 'score': 850}  \n",
       "5    DENIED  {'tax_id': '3', 'score': 700}  \n",
       "6    DENIED  {'tax_id': '2', 'score': 350}  \n",
       "7    DENIED  {'tax_id': '4', 'score': 400}  \n",
       "8    DENIED  {'tax_id': '1', 'score': 100}  \n",
       "9  APPROVED  {'tax_id': '5', 'score': 850}  "
      ]
     },
     "execution_count": 12,
     "metadata": {},
     "output_type": "execute_result"
    }
   ],
   "source": [
    "output = vulkan.backtest.get_results(ctx, backtest_id)\n",
    "output_data = pd.DataFrame(output)\n",
    "output_data.head(10)"
   ]
  },
  {
   "cell_type": "markdown",
   "id": "84cc7dc6-560e-4edd-beb6-2d4b352d3111",
   "metadata": {},
   "source": [
    "## Automated Metrics for Backtests\n",
    "\n",
    "Vulkan can calculate a bunch a useful metrics about your backtests.\\\n",
    "This will happen automatically for each backtest, and can be useful to analyze your results.\n",
    "\n",
    "To start, you just need to tell Vulkan to calculate some metrics for the backtest you're creating.\\\n",
    "In each backtest you can specify:\n",
    "\n",
    "- A target variable: a reference value for each row. For now, we only support binary targets (0 or 1).\n",
    "- A time variable: a column that identifies the reference time for your data. For instance, this can be a \"month of entry\". This will be used to group results by time, allowing you to see how the results would have evolved.\n",
    "- Any number of columns to group by, which can be used to have more granular analyses.\n",
    "\n",
    "The metrics calculated depend on how you configure the backtest, and on what data you have.\\\n",
    "Let's look at an example where we only have a `target` column.\\\n",
    "Here, for each configuration in our backtest (identified by `backfill_id`) and for each different result (`status`), we can see the distribution of outcomes."
   ]
  },
  {
   "cell_type": "code",
   "execution_count": 19,
   "id": "da2bddfa-d1d0-4efa-bf63-a7c15d4b22e7",
   "metadata": {},
   "outputs": [
    {
     "name": "stderr",
     "output_type": "stream",
     "text": [
      "2024-11-27 17:53:46 DESKTOP-GLELM79 urllib3.connectionpool[29331] DEBUG Resetting dropped connection: localhost\n",
      "2024-11-27 17:53:47 DESKTOP-GLELM79 urllib3.connectionpool[29331] DEBUG http://localhost:6001 \"GET /backtests/6ecdb0db-6235-4399-8ead-f8c139e7cad5/metrics HTTP/1.1\" 200 497\n",
      "2024-11-27 17:53:47 DESKTOP-GLELM79 vulkan_public.cli.context[29331] INFO {'backtest_id': '6ecdb0db-6235-4399-8ead-f8c139e7cad5', 'status': 'SUCCESS', 'metrics': [{'ones': 1, 'zeros': 1, 'count': 2, 'backfill_id': '4d6a7c41-e382-4893-83ed-41f129ae7581', 'status': 'APPROVED'}, {'ones': 0, 'zeros': 1, 'count': 1, 'backfill_id': '73a984c0-7097-4558-8ef4-69ce21b8e0d6', 'status': 'APPROVED'}, {'ones': 3, 'zeros': 1, 'count': 4, 'backfill_id': '73a984c0-7097-4558-8ef4-69ce21b8e0d6', 'status': 'DENIED'}, {'ones': 2, 'zeros': 1, 'count': 3, 'backfill_id': '4d6a7c41-e382-4893-83ed-41f129ae7581', 'status': 'DENIED'}]}\n"
     ]
    },
    {
     "data": {
      "text/html": [
       "<div>\n",
       "<style scoped>\n",
       "    .dataframe tbody tr th:only-of-type {\n",
       "        vertical-align: middle;\n",
       "    }\n",
       "\n",
       "    .dataframe tbody tr th {\n",
       "        vertical-align: top;\n",
       "    }\n",
       "\n",
       "    .dataframe thead th {\n",
       "        text-align: right;\n",
       "    }\n",
       "</style>\n",
       "<table border=\"1\" class=\"dataframe\">\n",
       "  <thead>\n",
       "    <tr style=\"text-align: right;\">\n",
       "      <th></th>\n",
       "      <th>ones</th>\n",
       "      <th>zeros</th>\n",
       "      <th>count</th>\n",
       "      <th>backfill_id</th>\n",
       "      <th>status</th>\n",
       "    </tr>\n",
       "  </thead>\n",
       "  <tbody>\n",
       "    <tr>\n",
       "      <th>0</th>\n",
       "      <td>1</td>\n",
       "      <td>1</td>\n",
       "      <td>2</td>\n",
       "      <td>4d6a7c41-e382-4893-83ed-41f129ae7581</td>\n",
       "      <td>APPROVED</td>\n",
       "    </tr>\n",
       "    <tr>\n",
       "      <th>1</th>\n",
       "      <td>0</td>\n",
       "      <td>1</td>\n",
       "      <td>1</td>\n",
       "      <td>73a984c0-7097-4558-8ef4-69ce21b8e0d6</td>\n",
       "      <td>APPROVED</td>\n",
       "    </tr>\n",
       "    <tr>\n",
       "      <th>2</th>\n",
       "      <td>3</td>\n",
       "      <td>1</td>\n",
       "      <td>4</td>\n",
       "      <td>73a984c0-7097-4558-8ef4-69ce21b8e0d6</td>\n",
       "      <td>DENIED</td>\n",
       "    </tr>\n",
       "    <tr>\n",
       "      <th>3</th>\n",
       "      <td>2</td>\n",
       "      <td>1</td>\n",
       "      <td>3</td>\n",
       "      <td>4d6a7c41-e382-4893-83ed-41f129ae7581</td>\n",
       "      <td>DENIED</td>\n",
       "    </tr>\n",
       "  </tbody>\n",
       "</table>\n",
       "</div>"
      ],
      "text/plain": [
       "   ones  zeros  count                           backfill_id    status\n",
       "0     1      1      2  4d6a7c41-e382-4893-83ed-41f129ae7581  APPROVED\n",
       "1     0      1      1  73a984c0-7097-4558-8ef4-69ce21b8e0d6  APPROVED\n",
       "2     3      1      4  73a984c0-7097-4558-8ef4-69ce21b8e0d6    DENIED\n",
       "3     2      1      3  4d6a7c41-e382-4893-83ed-41f129ae7581    DENIED"
      ]
     },
     "execution_count": 19,
     "metadata": {},
     "output_type": "execute_result"
    }
   ],
   "source": [
    "metrics_job = vulkan.backtest.poll_backtest_metrics_job_status(ctx, backtest_id)\n",
    "metrics_df = pd.DataFrame(metrics_job[\"metrics\"])\n",
    "metrics_df.head()"
   ]
  },
  {
   "cell_type": "code",
   "execution_count": null,
   "id": "e6459d96-1187-4510-9358-dfac01d141fb",
   "metadata": {},
   "outputs": [],
   "source": []
  }
 ],
 "metadata": {
  "kernelspec": {
   "display_name": "Python 3 (ipykernel)",
   "language": "python",
   "name": "python3"
  },
  "language_info": {
   "codemirror_mode": {
    "name": "ipython",
    "version": 3
   },
   "file_extension": ".py",
   "mimetype": "text/x-python",
   "name": "python",
   "nbconvert_exporter": "python",
   "pygments_lexer": "ipython3",
   "version": "3.11.0"
  }
 },
 "nbformat": 4,
 "nbformat_minor": 5
}
