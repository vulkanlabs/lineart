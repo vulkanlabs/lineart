{
 "cells": [
  {
   "cell_type": "markdown",
   "id": "deb5ce13-acc9-44c3-bd0d-592308c84320",
   "metadata": {},
   "source": [
    "# Using Vulkan\n",
    "\n",
    "This notebook will take you through all the steps in using Vulkan to write policies.\\\n",
    "By the end, you will have:\n",
    "\n",
    "1. Created a new policy, which can be used for online and batch evaluation,\n",
    "2. Launched a run of your new policy,\n",
    "3. Checked its results.\n",
    "\n",
    "Let's dive in!"
   ]
  },
  {
   "cell_type": "code",
   "execution_count": 1,
   "id": "2862be97-3629-440e-928e-195966c466bc",
   "metadata": {},
   "outputs": [],
   "source": [
    "# Used to make our results easier to read\n",
    "from pprint import pprint\n",
    "\n",
    "# The actual Vulkan assets used\n",
    "import vulkan_public.cli.client as vulkan\n",
    "from vulkan_public.cli.context import Context"
   ]
  },
  {
   "cell_type": "code",
   "execution_count": 2,
   "id": "cead0aee-75c4-414e-9384-b820fa01fcde",
   "metadata": {},
   "outputs": [],
   "source": [
    "ctx = Context()"
   ]
  },
  {
   "cell_type": "markdown",
   "id": "e6bf22ac-e732-4448-b32c-68352a704da3",
   "metadata": {},
   "source": [
    "## Our First Policy\n",
    "\n",
    "Let's start by creating a simple policy.\\\n",
    "It takes in a person's (fictional) credit score, and tells us whether that person would be approved or denied.\n",
    "\n",
    "Later on, we'll see how to get data from an external data source and how to reuse parts of a policy.\n",
    "\n"
   ]
  },
  {
   "cell_type": "markdown",
   "id": "7a614e26-90fe-46d0-9292-b12ca07cd518",
   "metadata": {},
   "source": [
    "### Policy and Policy Versions\n",
    "\n",
    "In Vulkan, a `Policy` is an umbrella. It has a name, a description and an owner, and can have multiple versions.\\\n",
    "Each `Policy Version` can be used to make decisions separately, and you can have any number of them, making it easy to test and experiment.\\\n",
    "You can think of a Policy as how you make a decision on something, and a Version as each of the ways you'll want to try over time."
   ]
  },
  {
   "cell_type": "code",
   "execution_count": 3,
   "id": "a94b643c-8e6d-437d-9849-aa2bad9c196c",
   "metadata": {},
   "outputs": [
    {
     "name": "stderr",
     "output_type": "stream",
     "text": [
      "2024-11-19 18:17:05 DESKTOP-GLELM79 urllib3.connectionpool[9661] DEBUG Starting new HTTP connection (1): localhost:6001\n",
      "2024-11-19 18:17:07 DESKTOP-GLELM79 urllib3.connectionpool[9661] DEBUG http://localhost:6001 \"POST /policies HTTP/1.1\" 307 0\n",
      "2024-11-19 18:17:07 DESKTOP-GLELM79 urllib3.connectionpool[9661] DEBUG http://localhost:6001 \"POST /policies/ HTTP/1.1\" 200 77\n",
      "2024-11-19 18:17:07 DESKTOP-GLELM79 vulkan_public.cli.context[9661] INFO Created policy My First Policy with id 90602e4c-7694-411f-a1bd-3179dedf97d6\n"
     ]
    }
   ],
   "source": [
    "policy_id = vulkan.policy.create_policy(\n",
    "    ctx,\n",
    "    name=\"My First Policy\",\n",
    "    description=\"A nice policy description, which can be long.\",\n",
    ")"
   ]
  },
  {
   "cell_type": "markdown",
   "id": "f548d0a4-7912-4776-b2d3-c83920b07fcd",
   "metadata": {},
   "source": [
    "Each `Policy Version` is defined by its code, the `repository_path` used to create it.\\\n",
    "It is totally independent of others versions, and can have its own definitions and dependencies."
   ]
  },
  {
   "cell_type": "code",
   "execution_count": 4,
   "id": "72a5a98c-554f-4ef4-99cf-881bac99d737",
   "metadata": {},
   "outputs": [
    {
     "name": "stderr",
     "output_type": "stream",
     "text": [
      "2024-11-19 18:17:07 DESKTOP-GLELM79 vulkan_public.cli.context[9661] WARNING Failed to import module from entrypoint.\n",
      "2024-11-19 18:17:07 DESKTOP-GLELM79 vulkan_public.cli.context[9661] WARNING Import-related issue from user code: No module named 'test_policy'\n",
      "2024-11-19 18:17:07 DESKTOP-GLELM79 vulkan_public.cli.context[9661] INFO Creating workspace v0.0.1. This may take a while...\n",
      "2024-11-19 18:17:58 DESKTOP-GLELM79 urllib3.connectionpool[9661] DEBUG http://localhost:6001 \"POST /policies/90602e4c-7694-411f-a1bd-3179dedf97d6/versions HTTP/1.1\" 200 145\n",
      "2024-11-19 18:17:58 DESKTOP-GLELM79 vulkan_public.cli.context[9661] INFO Created workspace v0.0.1 with policy version dc810a10-43f3-4f48-914f-8db8d6be27bd\n"
     ]
    }
   ],
   "source": [
    "policy_version_id = vulkan.policy.create_policy_version(\n",
    "    ctx,\n",
    "    policy_id=policy_id,\n",
    "    version_name=\"v0.0.1\",\n",
    "    repository_path=\"examples/policies/simple/\",\n",
    ")"
   ]
  },
  {
   "cell_type": "markdown",
   "id": "4dbf7afb-201b-41e6-b5a8-2067c45cface",
   "metadata": {},
   "source": [
    "### Runs: How we make decisions\n",
    "\n",
    "Now that we've created a policy version, **we're ready to make our first decision**.\n",
    "\n",
    "For that, we'll run our policy directly, giving it some input data.\\\n",
    "In this example, we want to return `APPROVED` if the score is greater than 400, and `DENIED` if not.\n",
    "\n",
    "The user's data is passed to the `input_data` field. In our example, it's just a \"score\" value.\\\n",
    "We configure our threshold with the `config_variable` \"SCORE_CUTOFF\"."
   ]
  },
  {
   "cell_type": "code",
   "execution_count": 5,
   "id": "6088f63e-33fd-4d43-a20e-cfac61037807",
   "metadata": {},
   "outputs": [
    {
     "name": "stderr",
     "output_type": "stream",
     "text": [
      "2024-11-19 18:17:58 DESKTOP-GLELM79 vulkan_public.cli.context[9661] INFO Lanching run with input data: {'tax_id': '1', 'score': 600}\n",
      "2024-11-19 18:18:00 DESKTOP-GLELM79 urllib3.connectionpool[9661] DEBUG http://localhost:6001 \"POST /policy-versions/dc810a10-43f3-4f48-914f-8db8d6be27bd/runs HTTP/1.1\" 200 108\n",
      "2024-11-19 18:18:00 DESKTOP-GLELM79 urllib3.connectionpool[9661] DEBUG http://localhost:6001 \"GET /runs/3932af9c-69d0-472a-a5b7-5863a6665ef8 HTTP/1.1\" 200 284\n",
      "2024-11-19 18:18:01 DESKTOP-GLELM79 urllib3.connectionpool[9661] DEBUG http://localhost:6001 \"GET /runs/3932af9c-69d0-472a-a5b7-5863a6665ef8 HTTP/1.1\" 200 284\n",
      "2024-11-19 18:18:06 DESKTOP-GLELM79 urllib3.connectionpool[9661] DEBUG Resetting dropped connection: localhost\n",
      "2024-11-19 18:18:06 DESKTOP-GLELM79 urllib3.connectionpool[9661] DEBUG http://localhost:6001 \"GET /runs/3932af9c-69d0-472a-a5b7-5863a6665ef8 HTTP/1.1\" 200 290\n",
      "2024-11-19 18:18:07 DESKTOP-GLELM79 urllib3.connectionpool[9661] DEBUG http://localhost:6001 \"GET /runs/3932af9c-69d0-472a-a5b7-5863a6665ef8/data HTTP/1.1\" 200 512\n"
     ]
    },
    {
     "name": "stdout",
     "output_type": "stream",
     "text": [
      "'Output: approved'\n"
     ]
    }
   ],
   "source": [
    "run_id, status = vulkan.run.trigger_run_by_policy_version_id(\n",
    "    ctx,\n",
    "    policy_version_id=policy_version_id,\n",
    "    input_data={\"tax_id\": \"1\", \"score\": 600},\n",
    "    config_variables={\"SCORE_CUTOFF\": 400},\n",
    ")\n",
    "\n",
    "run_data = vulkan.run.get_run_data(ctx, run_id)\n",
    "\n",
    "# Retrieve the output of our decision.\n",
    "# In the next section, we'll look into more details for the run data.\n",
    "pprint(f'Output: {run_data[\"steps\"][\"branch_1\"][\"output\"]}')"
   ]
  },
  {
   "cell_type": "markdown",
   "id": "862474af-43c3-4106-b243-634d010bddfa",
   "metadata": {},
   "source": [
    "#### What happened?\n",
    "\n",
    "When you trigger a Run using Vulkan, your code will be executed.\\\n",
    "The *actual* execution is happening remotely, on Vulkan's servers.\\\n",
    "It uses the code you uploaded for the `Policy Version`. \\\n",
    "This way, we can handle the infrastructure for you, allowing simple code to scale.\n",
    "\n",
    "The engine will receive your inputs, the configuration you want to use, and run your code, producing a detailed log of each step.\\\n",
    "Let's take a look at the entire run data object returned.\n",
    "\n",
    "You'll see that it has a couple of important parts:\n",
    "\n",
    "1. Run Metadata:\n",
    "    1.  Run ID: An unique identifier for this run in Vulkan. You can use this to see logs, outputs, or to visualize the decision on the web app.\n",
    "    2.  Status: Whether or not the run finished successfully.\n",
    "    3.  Last Updated At: A timestamp for when the run finished.\n",
    "2. Run Steps:\n",
    "    1. Each step is identified by the name we gave it, in this case \"approved\" and \"branch\";\n",
    "    2. For each step, we have (1) `output`, which contains the actual output of the step, and (2) `metadata`, which brings information on what kind of step this was, how long it took, etc."
   ]
  },
  {
   "cell_type": "code",
   "execution_count": 6,
   "id": "af0b0589-2904-4d88-abe9-01d03044386b",
   "metadata": {},
   "outputs": [
    {
     "name": "stdout",
     "output_type": "stream",
     "text": [
      "{'last_updated_at': '2024-11-19T21:18:04.336924Z',\n",
      " 'run_id': '3932af9c-69d0-472a-a5b7-5863a6665ef8',\n",
      " 'status': 'SUCCESS',\n",
      " 'steps': {'approved': {'metadata': {'end_time': 1732051084.36183,\n",
      "                                     'error': None,\n",
      "                                     'extra': None,\n",
      "                                     'node_type': 'TERMINATE',\n",
      "                                     'start_time': 1732051084.3189466,\n",
      "                                     'step_name': 'approved'},\n",
      "                        'output': 'APPROVED'},\n",
      "           'branch_1': {'metadata': {'end_time': 1732051082.9586987,\n",
      "                                     'error': None,\n",
      "                                     'extra': {'choices': ['approved',\n",
      "                                                           'denied']},\n",
      "                                     'node_type': 'BRANCH',\n",
      "                                     'start_time': 1732051082.9341755,\n",
      "                                     'step_name': 'branch_1'},\n",
      "                        'output': 'approved'}}}\n"
     ]
    }
   ],
   "source": [
    "pprint(run_data)"
   ]
  },
  {
   "cell_type": "markdown",
   "id": "7851c954-ec0b-46f0-84cd-545d1be86244",
   "metadata": {},
   "source": [
    "## Convenience features for Policies"
   ]
  },
  {
   "cell_type": "markdown",
   "id": "b5cd1547-60d6-4135-80fc-3459a0620952",
   "metadata": {},
   "source": [
    "### Setting default values for config variables\n",
    "\n",
    "You can specify default values for your Config Variables in each version.\\\n",
    "These are useful when you've already decided on the values and want to have them for all runs."
   ]
  },
  {
   "cell_type": "code",
   "execution_count": 8,
   "id": "8e8c8ea5-3b05-4071-9128-38685e05ab62",
   "metadata": {},
   "outputs": [
    {
     "name": "stderr",
     "output_type": "stream",
     "text": [
      "2024-11-19 19:15:22 DESKTOP-GLELM79 vulkan_public.cli.context[9661] INFO Setting variables: [{'name': 'SCORE_CUTOFF', 'value': '500'}]\n",
      "2024-11-19 19:15:22 DESKTOP-GLELM79 urllib3.connectionpool[9661] DEBUG Resetting dropped connection: localhost\n",
      "2024-11-19 19:15:23 DESKTOP-GLELM79 urllib3.connectionpool[9661] DEBUG http://localhost:6001 \"PUT /policy-versions/dc810a10-43f3-4f48-914f-8db8d6be27bd/variables HTTP/1.1\" 200 112\n"
     ]
    },
    {
     "data": {
      "text/plain": [
       "{'policy_version_id': 'dc810a10-43f3-4f48-914f-8db8d6be27bd',\n",
       " 'variables': [{'name': 'SCORE_CUTOFF', 'value': '500'}]}"
      ]
     },
     "execution_count": 8,
     "metadata": {},
     "output_type": "execute_result"
    }
   ],
   "source": [
    "vulkan.policy_version.set_variables(\n",
    "    ctx,\n",
    "    policy_version_id=policy_version_id,\n",
    "    variables=[{\"name\": \"SCORE_CUTOFF\", \"value\": \"500\"}],\n",
    ")"
   ]
  },
  {
   "cell_type": "markdown",
   "id": "46484f63-1aa4-4f42-96ef-bd89b5fbf35b",
   "metadata": {},
   "source": [
    "### Marking a version as \"Active\"\n",
    "\n",
    "In many cases, we want to have a standard version for a policy.\\\n",
    "This is useful for consumers of this policy: they can just get the current version of \"My First Policy\", no matter what that is."
   ]
  },
  {
   "cell_type": "code",
   "execution_count": 10,
   "id": "ce0785e2-dc9a-44c7-98f7-f7b05d4ab377",
   "metadata": {},
   "outputs": [
    {
     "name": "stderr",
     "output_type": "stream",
     "text": [
      "2024-11-19 19:17:24 DESKTOP-GLELM79 urllib3.connectionpool[9661] DEBUG http://localhost:6001 \"PUT /policies/90602e4c-7694-411f-a1bd-3179dedf97d6 HTTP/1.1\" 200 118\n"
     ]
    }
   ],
   "source": [
    "vulkan.policy.set_active_version(\n",
    "    ctx, \n",
    "    policy_id=policy_id, \n",
    "    policy_version_id=policy_version_id,\n",
    ")"
   ]
  },
  {
   "cell_type": "code",
   "execution_count": 13,
   "id": "76f23f9c-88e4-48a6-a378-feae5058e06f",
   "metadata": {},
   "outputs": [
    {
     "name": "stderr",
     "output_type": "stream",
     "text": [
      "2024-11-19 19:18:49 DESKTOP-GLELM79 vulkan_public.cli.context[9661] INFO Lanching run with input data: {'tax_id': '1', 'score': 600}\n",
      "2024-11-19 19:18:49 DESKTOP-GLELM79 urllib3.connectionpool[9661] DEBUG Resetting dropped connection: localhost\n",
      "2024-11-19 19:18:51 DESKTOP-GLELM79 urllib3.connectionpool[9661] DEBUG http://localhost:6001 \"POST /policies/90602e4c-7694-411f-a1bd-3179dedf97d6/runs HTTP/1.1\" 200 100\n",
      "2024-11-19 19:18:52 DESKTOP-GLELM79 urllib3.connectionpool[9661] DEBUG http://localhost:6001 \"GET /runs/4c4515f0-e22d-4a21-a051-b76ca71b28aa HTTP/1.1\" 200 284\n",
      "2024-11-19 19:18:52 DESKTOP-GLELM79 urllib3.connectionpool[9661] DEBUG http://localhost:6001 \"GET /runs/4c4515f0-e22d-4a21-a051-b76ca71b28aa HTTP/1.1\" 200 284\n",
      "2024-11-19 19:18:57 DESKTOP-GLELM79 urllib3.connectionpool[9661] DEBUG Resetting dropped connection: localhost\n",
      "2024-11-19 19:18:58 DESKTOP-GLELM79 urllib3.connectionpool[9661] DEBUG http://localhost:6001 \"GET /runs/4c4515f0-e22d-4a21-a051-b76ca71b28aa HTTP/1.1\" 200 282\n",
      "2024-11-19 19:18:59 DESKTOP-GLELM79 urllib3.connectionpool[9661] DEBUG http://localhost:6001 \"GET /runs/4c4515f0-e22d-4a21-a051-b76ca71b28aa/data HTTP/1.1\" 200 127\n"
     ]
    },
    {
     "name": "stdout",
     "output_type": "stream",
     "text": [
      "{'last_updated_at': '2024-11-19T22:18:53.925069Z',\n",
      " 'run_id': '4c4515f0-e22d-4a21-a051-b76ca71b28aa',\n",
      " 'status': 'FAILURE',\n",
      " 'steps': {}}\n"
     ]
    }
   ],
   "source": [
    "run_id, status = vulkan.run.trigger_run_by_policy_id(\n",
    "    ctx, \n",
    "    policy_id=policy_id, \n",
    "    input_data={\"tax_id\": \"1\", \"score\": 600}\n",
    ")\n",
    "\n",
    "run_data = vulkan.run.get_run_data(ctx, run_id)\n",
    "pprint(run_data)"
   ]
  },
  {
   "cell_type": "markdown",
   "id": "6e5588f4-273e-4fa7-aa00-0e61caf61d81",
   "metadata": {},
   "source": [
    "## Components: What, Why and How?"
   ]
  },
  {
   "cell_type": "markdown",
   "id": "9fe4812b-c2e0-4b8a-84e8-6389c174c8f5",
   "metadata": {},
   "source": [
    "### Creating a couple of Components"
   ]
  },
  {
   "cell_type": "code",
   "execution_count": null,
   "id": "3990a6d7-89db-4553-a028-1016653e3ed4",
   "metadata": {
    "scrolled": true
   },
   "outputs": [],
   "source": [
    "serasa_component_id = vulkan.component.create_component(ctx, name=\"serasa_component\")\n",
    "serasa_comp_version = vulkan.component.create_component_version(\n",
    "    ctx,\n",
    "    component_id=serasa_component_id,\n",
    "    version_name=\"v0.0.1\",\n",
    "    repository_path=\"examples/components/serasa/\",\n",
    ")"
   ]
  },
  {
   "cell_type": "code",
   "execution_count": null,
   "id": "bf4d1446-8ac5-41a0-ba8a-67aa356e751b",
   "metadata": {},
   "outputs": [],
   "source": [
    "scr_component_id = vulkan.component.create_component(ctx, name=\"scr_component\")\n",
    "scr_comp_version = vulkan.component.create_component_version(\n",
    "    ctx,\n",
    "    component_id=scr_component_id,\n",
    "    version_name=\"v0.0.1\",\n",
    "    repository_path=\"examples/components/scr_component/\",\n",
    ")"
   ]
  },
  {
   "cell_type": "markdown",
   "id": "1ea0e907-fe9f-4176-a322-743caff034e0",
   "metadata": {},
   "source": [
    "### Creating a Policy that uses Components"
   ]
  },
  {
   "cell_type": "code",
   "execution_count": null,
   "id": "24c73ae5-3124-4957-96e6-87f66fc81e50",
   "metadata": {},
   "outputs": [],
   "source": [
    "policy_id = vulkan.policy.create_policy(\n",
    "    ctx,\n",
    "    name=\"Test Policy\",\n",
    "    description=\"Test Policy Description\",\n",
    ")"
   ]
  },
  {
   "cell_type": "code",
   "execution_count": null,
   "id": "c2f33445-19e4-4e31-acc5-3f378cde201b",
   "metadata": {},
   "outputs": [],
   "source": [
    "policy_version_id = vulkan.policy.create_policy_version(\n",
    "    ctx,\n",
    "    policy_id=policy_id,\n",
    "    version_name=\"v0.0.1\",\n",
    "    repository_path=\"examples/policies/onboarding/\",\n",
    ")"
   ]
  },
  {
   "cell_type": "code",
   "execution_count": null,
   "id": "14926777-d1c9-431c-ad73-2862f70172de",
   "metadata": {},
   "outputs": [],
   "source": [
    "vulkan.run.trigger_run_by_policy_version_id(\n",
    "    ctx,\n",
    "    policy_version_id=policy_version_id,\n",
    "    input_data={\"cpf\": \"1\"},\n",
    "    config_variables={\"CORTE_SERASA\": \"400\"},\n",
    ")"
   ]
  }
 ],
 "metadata": {
  "kernelspec": {
   "display_name": "Python 3 (ipykernel)",
   "language": "python",
   "name": "python3"
  },
  "language_info": {
   "codemirror_mode": {
    "name": "ipython",
    "version": 3
   },
   "file_extension": ".py",
   "mimetype": "text/x-python",
   "name": "python",
   "nbconvert_exporter": "python",
   "pygments_lexer": "ipython3",
   "version": "3.11.0"
  }
 },
 "nbformat": 4,
 "nbformat_minor": 5
}
