{
 "cells": [
  {
   "cell_type": "code",
   "execution_count": 1,
   "id": "0",
   "metadata": {},
   "outputs": [
    {
     "name": "stdout",
     "output_type": "stream",
     "text": [
      "time: 7.14 ms (started: 2024-12-22 22:00:25 -03:00)\n"
     ]
    }
   ],
   "source": [
    "%load_ext autotime\n",
    "%load_ext autoreload\n",
    "%autoreload 2"
   ]
  },
  {
   "cell_type": "code",
   "execution_count": 2,
   "id": "1",
   "metadata": {},
   "outputs": [
    {
     "name": "stdout",
     "output_type": "stream",
     "text": [
      "time: 1.34 s (started: 2024-12-22 22:00:25 -03:00)\n"
     ]
    }
   ],
   "source": [
    "# Used to make our results easier to read\n",
    "import pandas as pd\n",
    "from pprint import pprint\n",
    "from apache_beam.options.pipeline_options import PipelineOptions\n",
    "from IPython.display import Image, SVG, display\n",
    "import requests\n",
    "\n",
    "from vulkan_public.spec.dependency import INPUT_NODE\n",
    "from vulkan.beam.local.convert import build_beam_policy\n",
    "from vulkan.core.policy import Policy\n",
    "\n",
    "from test_policy.policy import demo_policy as policy_definition"
   ]
  },
  {
   "cell_type": "code",
   "execution_count": 3,
   "id": "2",
   "metadata": {},
   "outputs": [
    {
     "name": "stdout",
     "output_type": "stream",
     "text": [
      "time: 6.84 ms (started: 2024-12-22 22:00:26 -03:00)\n"
     ]
    }
   ],
   "source": [
    "import os\n",
    "import socket\n",
    "import subprocess\n",
    "import platform\n",
    "import signal\n",
    "\n",
    "\n",
    "def is_server_running(host: str, port: int, timeout: float = 1.0) -> bool:\n",
    "    \"\"\"Check if a server is running on the given host and port.\n",
    "\n",
    "    Args:\n",
    "        host (str): The hostname or IP address of the server.\n",
    "        port (int): The port number to check.\n",
    "        timeout (float): The timeout for the connection in seconds (default is 1.0).\n",
    "\n",
    "    Returns:\n",
    "        bool: True if a server is running, False otherwise.\n",
    "    \"\"\"\n",
    "    with socket.socket(socket.AF_INET, socket.SOCK_STREAM) as sock:\n",
    "        sock.settimeout(timeout)  # Set timeout for the connection attempt\n",
    "        try:\n",
    "            sock.connect((host, port))\n",
    "            return True\n",
    "        except (socket.timeout, ConnectionRefusedError, OSError):\n",
    "            return False\n",
    "\n",
    "        \n",
    "def render_pipeline(\n",
    "    pipeline_builder,\n",
    "    output_image_path: str,\n",
    "    render_port: int = -1,\n",
    "):\n",
    "    if render_port > 0:\n",
    "        busy = is_server_running(\"localhost\", render_port, timeout=1)\n",
    "        if busy:\n",
    "            msg = (\n",
    "                f\"There is already a server running on port {render_port}. \\n\"\n",
    "                \"Skipping starting a server for this render to avoid conflict.\"\n",
    "            )\n",
    "            print(msg)\n",
    "            render_port = -1\n",
    "\n",
    "    args = [\n",
    "        \"--runner=apache_beam.runners.render.RenderRunner\", \n",
    "        f\"--render_output={output_image_path}\",\n",
    "        f\"--render_port={render_port}\",\n",
    "    ]\n",
    "    options = PipelineOptions(args)\n",
    "    \n",
    "    p = pipeline_builder.build(backfill_id=\"test-id\", pipeline_options=options)\n",
    "    p.run()\n",
    "    return SVG(output_image_path)"
   ]
  },
  {
   "cell_type": "code",
   "execution_count": 4,
   "id": "3",
   "metadata": {},
   "outputs": [
    {
     "name": "stdout",
     "output_type": "stream",
     "text": [
      "time: 5.96 ms (started: 2024-12-22 22:00:26 -03:00)\n"
     ]
    }
   ],
   "source": [
    "def run_local(pipeline_builder, run_id: str = \"test-id\"):\n",
    "    args = [\n",
    "        \"--runner=DirectRunner\",\n",
    "    ]\n",
    "    options = PipelineOptions(args)\n",
    "\n",
    "    p = pipeline_builder.build(backfill_id=run_id, pipeline_options=options)\n",
    "    run = p.run()\n",
    "\n",
    "    output_data = pd.read_parquet(pipeline_builder.output_path)\n",
    "    \n",
    "    return output_data"
   ]
  },
  {
   "cell_type": "code",
   "execution_count": 5,
   "id": "4",
   "metadata": {},
   "outputs": [
    {
     "name": "stdout",
     "output_type": "stream",
     "text": [
      "time: 23.5 ms (started: 2024-12-22 22:00:26 -03:00)\n"
     ]
    }
   ],
   "source": [
    "df = pd.read_csv(\"simple_bkt_lg.csv\")\n",
    "df[\"month\"] = df[\"month\"].astype(str)\n",
    "df[\"tax_id\"] = df[\"tax_id\"].astype(str)\n",
    "\n",
    "df.to_parquet(\"input.parquet\")"
   ]
  },
  {
   "cell_type": "code",
   "execution_count": 6,
   "id": "5",
   "metadata": {},
   "outputs": [
    {
     "name": "stdout",
     "output_type": "stream",
     "text": [
      "time: 7.66 ms (started: 2024-12-22 22:00:27 -03:00)\n"
     ]
    }
   ],
   "source": [
    "policy = Policy.from_definition(policy_definition)"
   ]
  },
  {
   "cell_type": "code",
   "execution_count": 7,
   "id": "6",
   "metadata": {},
   "outputs": [
    {
     "name": "stdout",
     "output_type": "stream",
     "text": [
      "time: 5.99 ms (started: 2024-12-22 22:00:27 -03:00)\n"
     ]
    }
   ],
   "source": [
    "# schema = {\"month\": \"str\", \"tax_id\": \"str\", \"score\": \"int\", \"default\": \"int\"}\n",
    "data_sources = {INPUT_NODE: \"input.parquet\"}\n",
    "config_variables = {\"SCORE_CUTOFF\": 500}\n",
    "\n",
    "builder = build_beam_policy(\n",
    "    policy, \n",
    "    data_sources=data_sources, \n",
    "    output_path=\"./output/\", \n",
    "    config_variables=config_variables,\n",
    ") "
   ]
  },
  {
   "cell_type": "code",
   "execution_count": 8,
   "id": "7",
   "metadata": {},
   "outputs": [
    {
     "name": "stderr",
     "output_type": "stream",
     "text": [
      "WARNING:apache_beam.runners.interactive.interactive_environment:Dependencies required for Interactive Beam PCollection visualization are not available, please use: `pip install apache-beam[interactive]` to install necessary dependencies to enable all data visualization features.\n"
     ]
    },
    {
     "data": {
      "application/javascript": [
       "\n",
       "        if (typeof window.interactive_beam_jquery == 'undefined') {\n",
       "          var jqueryScript = document.createElement('script');\n",
       "          jqueryScript.src = 'https://code.jquery.com/jquery-3.4.1.slim.min.js';\n",
       "          jqueryScript.type = 'text/javascript';\n",
       "          jqueryScript.onload = function() {\n",
       "            var datatableScript = document.createElement('script');\n",
       "            datatableScript.src = 'https://cdn.datatables.net/1.10.20/js/jquery.dataTables.min.js';\n",
       "            datatableScript.type = 'text/javascript';\n",
       "            datatableScript.onload = function() {\n",
       "              window.interactive_beam_jquery = jQuery.noConflict(true);\n",
       "              window.interactive_beam_jquery(document).ready(function($){\n",
       "                \n",
       "              });\n",
       "            }\n",
       "            document.head.appendChild(datatableScript);\n",
       "          };\n",
       "          document.head.appendChild(jqueryScript);\n",
       "        } else {\n",
       "          window.interactive_beam_jquery(document).ready(function($){\n",
       "            \n",
       "          });\n",
       "        }"
      ]
     },
     "metadata": {},
     "output_type": "display_data"
    },
    {
     "name": "stdout",
     "output_type": "stream",
     "text": [
      "Serving at http://127.0.0.1:21111\n"
     ]
    },
    {
     "data": {
      "image/svg+xml": [
       "<svg xmlns=\"http://www.w3.org/2000/svg\" xmlns:xlink=\"http://www.w3.org/1999/xlink\" width=\"528pt\" height=\"476pt\" viewBox=\"0.00 0.00 528.03 476.00\">\n",
       "<g id=\"graph0\" class=\"graph\" transform=\"scale(1 1) rotate(0) translate(4 472)\">\n",
       "<title>G</title>\n",
       "<polygon fill=\"white\" stroke=\"none\" points=\"-4,4 -4,-472 524.03,-472 524.03,4 -4,4\"/>\n",
       "<!-- ref_AppliedPTransform_Read&#45;Input_2 -->\n",
       "<g id=\"node1\" class=\"node\">\n",
       "<title>ref_AppliedPTransform_Read-Input_2</title>\n",
       "<g id=\"a_node1\"><a xlink:href=\"javascript:click('ref_AppliedPTransform_Read-Input_2')\" xlink:title=\"Read Input\">\n",
       "<path fill=\"#fff6dd\" stroke=\"#ff570b\" d=\"M407.88,-468C407.88,-468 355.88,-468 355.88,-468 349.88,-468 343.88,-462 343.88,-456 343.88,-456 343.88,-444 343.88,-444 343.88,-438 349.88,-432 355.88,-432 355.88,-432 407.88,-432 407.88,-432 413.88,-432 419.88,-438 419.88,-444 419.88,-444 419.88,-456 419.88,-456 419.88,-462 413.88,-468 407.88,-468\"/>\n",
       "<text text-anchor=\"middle\" x=\"381.88\" y=\"-444.95\" font-family=\"Times,serif\" font-size=\"14.00\">Read Input</text>\n",
       "</a>\n",
       "</g>\n",
       "</g>\n",
       "<!-- ref_AppliedPTransform_Branch&#45;branch_1_11 -->\n",
       "<g id=\"node2\" class=\"node\">\n",
       "<title>ref_AppliedPTransform_Branch-branch_1_11</title>\n",
       "<g id=\"a_node2\"><a xlink:href=\"javascript:click('ref_AppliedPTransform_Branch-branch_1_11')\" xlink:title=\"Branch: branch_1\">\n",
       "<path fill=\"#fff6dd\" stroke=\"#ff570b\" d=\"M294.26,-396C294.26,-396 205.5,-396 205.5,-396 199.5,-396 193.5,-390 193.5,-384 193.5,-384 193.5,-372 193.5,-372 193.5,-366 199.5,-360 205.5,-360 205.5,-360 294.26,-360 294.26,-360 300.26,-360 306.26,-366 306.26,-372 306.26,-372 306.26,-384 306.26,-384 306.26,-390 300.26,-396 294.26,-396\"/>\n",
       "<text text-anchor=\"middle\" x=\"249.88\" y=\"-372.95\" font-family=\"Times,serif\" font-size=\"14.00\">Branch: branch_1</text>\n",
       "</a>\n",
       "</g>\n",
       "</g>\n",
       "<!-- ref_AppliedPTransform_Read&#45;Input_2&#45;&gt;ref_AppliedPTransform_Branch&#45;branch_1_11 -->\n",
       "<g id=\"edge1\" class=\"edge\">\n",
       "<title>ref_AppliedPTransform_Read-Input_2-&gt;ref_AppliedPTransform_Branch-branch_1_11</title>\n",
       "<path fill=\"none\" stroke=\"#ff570b\" d=\"M348.91,-431.52C331.85,-422.47 310.82,-411.32 292.54,-401.62\"/>\n",
       "<polygon fill=\"#ff570b\" stroke=\"#ff570b\" points=\"294.23,-398.56 283.76,-396.97 290.96,-404.74 294.23,-398.56\"/>\n",
       "</g>\n",
       "<!-- ref_AppliedPTransform_Group&#45;Results_27 -->\n",
       "<g id=\"node3\" class=\"node\">\n",
       "<title>ref_AppliedPTransform_Group-Results_27</title>\n",
       "<g id=\"a_node3\"><a xlink:href=\"javascript:click('ref_AppliedPTransform_Group-Results_27')\" xlink:title=\"Group Results\">\n",
       "<path fill=\"#fff6dd\" stroke=\"#ff570b\" d=\"M487.88,-108C487.88,-108 417.88,-108 417.88,-108 411.88,-108 405.88,-102 405.88,-96 405.88,-96 405.88,-84 405.88,-84 405.88,-78 411.88,-72 417.88,-72 417.88,-72 487.88,-72 487.88,-72 493.88,-72 499.88,-78 499.88,-84 499.88,-84 499.88,-96 499.88,-96 499.88,-102 493.88,-108 487.88,-108\"/>\n",
       "<text text-anchor=\"middle\" x=\"452.88\" y=\"-84.95\" font-family=\"Times,serif\" font-size=\"14.00\">Group Results</text>\n",
       "</a>\n",
       "</g>\n",
       "</g>\n",
       "<!-- ref_AppliedPTransform_Read&#45;Input_2&#45;&gt;ref_AppliedPTransform_Group&#45;Results_27 -->\n",
       "<g id=\"edge2\" class=\"edge\">\n",
       "<title>ref_AppliedPTransform_Read-Input_2-&gt;ref_AppliedPTransform_Group-Results_27</title>\n",
       "<path fill=\"none\" stroke=\"#ff570b\" d=\"M420.18,-440.44C445.12,-432.89 476.34,-419.33 494.88,-396 520.03,-364.33 513.88,-347.45 513.88,-307 513.88,-307 513.88,-307 513.88,-233 513.88,-189.99 489.95,-145.16 472.07,-117.66\"/>\n",
       "<polygon fill=\"#ff570b\" stroke=\"#ff570b\" points=\"475.14,-115.95 466.65,-109.6 469.33,-119.85 475.14,-115.95\"/>\n",
       "</g>\n",
       "<!-- ref_AppliedPTransform_Filter&#45;Branch&#45;branch_1&#45;approved_17 -->\n",
       "<g id=\"node4\" class=\"node\">\n",
       "<title>ref_AppliedPTransform_Filter-Branch-branch_1-approved_17</title>\n",
       "<g id=\"a_node4\"><a xlink:href=\"javascript:click('ref_AppliedPTransform_Filter-Branch-branch_1-approved_17')\" xlink:title=\"Filter Branch: branch_1.approved\">\n",
       "<path fill=\"#fff6dd\" stroke=\"#ff570b\" d=\"M269.76,-324C269.76,-324 94.01,-324 94.01,-324 88.01,-324 82.01,-318 82.01,-312 82.01,-312 82.01,-300 82.01,-300 82.01,-294 88.01,-288 94.01,-288 94.01,-288 269.76,-288 269.76,-288 275.76,-288 281.76,-294 281.76,-300 281.76,-300 281.76,-312 281.76,-312 281.76,-318 275.76,-324 269.76,-324\"/>\n",
       "<text text-anchor=\"middle\" x=\"181.88\" y=\"-300.95\" font-family=\"Times,serif\" font-size=\"14.00\">Filter Branch: branch_1.approved</text>\n",
       "</a>\n",
       "</g>\n",
       "</g>\n",
       "<!-- ref_AppliedPTransform_Branch&#45;branch_1_11&#45;&gt;ref_AppliedPTransform_Filter&#45;Branch&#45;branch_1&#45;approved_17 -->\n",
       "<g id=\"edge3\" class=\"edge\">\n",
       "<title>ref_AppliedPTransform_Branch-branch_1_11-&gt;ref_AppliedPTransform_Filter-Branch-branch_1-approved_17</title>\n",
       "<path fill=\"none\" stroke=\"#ff570b\" d=\"M233.07,-359.7C225,-351.39 215.17,-341.28 206.3,-332.14\"/>\n",
       "<polygon fill=\"#ff570b\" stroke=\"#ff570b\" points=\"209.02,-329.92 199.55,-325.19 204,-334.8 209.02,-329.92\"/>\n",
       "</g>\n",
       "<!-- ref_AppliedPTransform_Filter&#45;Branch&#45;branch_1&#45;denied_23 -->\n",
       "<g id=\"node5\" class=\"node\">\n",
       "<title>ref_AppliedPTransform_Filter-Branch-branch_1-denied_23</title>\n",
       "<g id=\"a_node5\"><a xlink:href=\"javascript:click('ref_AppliedPTransform_Filter-Branch-branch_1-denied_23')\" xlink:title=\"Filter Branch: branch_1.denied\">\n",
       "<path fill=\"#fff6dd\" stroke=\"#ff570b\" d=\"M473.63,-324C473.63,-324 312.13,-324 312.13,-324 306.13,-324 300.13,-318 300.13,-312 300.13,-312 300.13,-300 300.13,-300 300.13,-294 306.13,-288 312.13,-288 312.13,-288 473.63,-288 473.63,-288 479.63,-288 485.63,-294 485.63,-300 485.63,-300 485.63,-312 485.63,-312 485.63,-318 479.63,-324 473.63,-324\"/>\n",
       "<text text-anchor=\"middle\" x=\"392.88\" y=\"-300.95\" font-family=\"Times,serif\" font-size=\"14.00\">Filter Branch: branch_1.denied</text>\n",
       "</a>\n",
       "</g>\n",
       "</g>\n",
       "<!-- ref_AppliedPTransform_Branch&#45;branch_1_11&#45;&gt;ref_AppliedPTransform_Filter&#45;Branch&#45;branch_1&#45;denied_23 -->\n",
       "<g id=\"edge4\" class=\"edge\">\n",
       "<title>ref_AppliedPTransform_Branch-branch_1_11-&gt;ref_AppliedPTransform_Filter-Branch-branch_1-denied_23</title>\n",
       "<path fill=\"none\" stroke=\"#ff570b\" d=\"M285.59,-359.52C304.33,-350.34 327.49,-339.01 347.48,-329.22\"/>\n",
       "<polygon fill=\"#ff570b\" stroke=\"#ff570b\" points=\"348.81,-332.47 356.25,-324.93 345.73,-326.18 348.81,-332.47\"/>\n",
       "</g>\n",
       "<!-- ref_AppliedPTransform_Write&#45;Output_35 -->\n",
       "<g id=\"node11\" class=\"node\">\n",
       "<title>ref_AppliedPTransform_Write-Output_35</title>\n",
       "<g id=\"a_node11\"><a xlink:href=\"javascript:click('ref_AppliedPTransform_Write-Output_35')\" xlink:title=\"Write Output\">\n",
       "<path fill=\"#fff6dd\" stroke=\"#ff570b\" d=\"M484.88,-36C484.88,-36 420.88,-36 420.88,-36 414.88,-36 408.88,-30 408.88,-24 408.88,-24 408.88,-12 408.88,-12 408.88,-6 414.88,0 420.88,0 420.88,0 484.88,0 484.88,0 490.88,0 496.88,-6 496.88,-12 496.88,-12 496.88,-24 496.88,-24 496.88,-30 490.88,-36 484.88,-36\"/>\n",
       "<text text-anchor=\"middle\" x=\"452.88\" y=\"-12.95\" font-family=\"Times,serif\" font-size=\"14.00\">Write Output</text>\n",
       "</a>\n",
       "</g>\n",
       "</g>\n",
       "<!-- ref_AppliedPTransform_Group&#45;Results_27&#45;&gt;ref_AppliedPTransform_Write&#45;Output_35 -->\n",
       "<g id=\"edge12\" class=\"edge\">\n",
       "<title>ref_AppliedPTransform_Group-Results_27-&gt;ref_AppliedPTransform_Write-Output_35</title>\n",
       "<path fill=\"none\" stroke=\"#ff570b\" d=\"M452.88,-71.7C452.88,-64.41 452.88,-55.73 452.88,-47.54\"/>\n",
       "<polygon fill=\"#ff570b\" stroke=\"#ff570b\" points=\"456.38,-47.62 452.88,-37.62 449.38,-47.62 456.38,-47.62\"/>\n",
       "</g>\n",
       "<!-- ref_AppliedPTransform_Terminate&#45;approved_24 -->\n",
       "<g id=\"node7\" class=\"node\">\n",
       "<title>ref_AppliedPTransform_Terminate-approved_24</title>\n",
       "<g id=\"a_node7\"><a xlink:href=\"javascript:click('ref_AppliedPTransform_Terminate-approved_24')\" xlink:title=\"Terminate: approved\">\n",
       "<path fill=\"#fff6dd\" stroke=\"#ff570b\" d=\"M269.88,-252C269.88,-252 163.88,-252 163.88,-252 157.88,-252 151.88,-246 151.88,-240 151.88,-240 151.88,-228 151.88,-228 151.88,-222 157.88,-216 163.88,-216 163.88,-216 269.88,-216 269.88,-216 275.88,-216 281.88,-222 281.88,-228 281.88,-228 281.88,-240 281.88,-240 281.88,-246 275.88,-252 269.88,-252\"/>\n",
       "<text text-anchor=\"middle\" x=\"216.88\" y=\"-228.95\" font-family=\"Times,serif\" font-size=\"14.00\">Terminate: approved</text>\n",
       "</a>\n",
       "</g>\n",
       "</g>\n",
       "<!-- ref_AppliedPTransform_Filter&#45;Branch&#45;branch_1&#45;approved_17&#45;&gt;ref_AppliedPTransform_Terminate&#45;approved_24 -->\n",
       "<g id=\"edge6\" class=\"edge\">\n",
       "<title>ref_AppliedPTransform_Filter-Branch-branch_1-approved_17-&gt;ref_AppliedPTransform_Terminate-approved_24</title>\n",
       "<path fill=\"none\" stroke=\"#ff570b\" d=\"M190.53,-287.7C194.34,-280.07 198.92,-270.92 203.18,-262.4\"/>\n",
       "<polygon fill=\"#ff570b\" stroke=\"#ff570b\" points=\"206.31,-263.96 207.65,-253.45 200.05,-260.84 206.31,-263.96\"/>\n",
       "</g>\n",
       "<!-- ref_AppliedPTransform_Terminate&#45;denied_25 -->\n",
       "<g id=\"node9\" class=\"node\">\n",
       "<title>ref_AppliedPTransform_Terminate-denied_25</title>\n",
       "<g id=\"a_node9\"><a xlink:href=\"javascript:click('ref_AppliedPTransform_Terminate-denied_25')\" xlink:title=\"Terminate: denied\">\n",
       "<path fill=\"#fff6dd\" stroke=\"#ff570b\" d=\"M438.76,-252C438.76,-252 347.01,-252 347.01,-252 341.01,-252 335.01,-246 335.01,-240 335.01,-240 335.01,-228 335.01,-228 335.01,-222 341.01,-216 347.01,-216 347.01,-216 438.76,-216 438.76,-216 444.76,-216 450.76,-222 450.76,-228 450.76,-228 450.76,-240 450.76,-240 450.76,-246 444.76,-252 438.76,-252\"/>\n",
       "<text text-anchor=\"middle\" x=\"392.88\" y=\"-228.95\" font-family=\"Times,serif\" font-size=\"14.00\">Terminate: denied</text>\n",
       "</a>\n",
       "</g>\n",
       "</g>\n",
       "<!-- ref_AppliedPTransform_Filter&#45;Branch&#45;branch_1&#45;denied_23&#45;&gt;ref_AppliedPTransform_Terminate&#45;denied_25 -->\n",
       "<g id=\"edge8\" class=\"edge\">\n",
       "<title>ref_AppliedPTransform_Filter-Branch-branch_1-denied_23-&gt;ref_AppliedPTransform_Terminate-denied_25</title>\n",
       "<path fill=\"none\" stroke=\"#ff570b\" d=\"M392.88,-287.7C392.88,-280.41 392.88,-271.73 392.88,-263.54\"/>\n",
       "<polygon fill=\"#ff570b\" stroke=\"#ff570b\" points=\"396.38,-263.61 392.88,-253.61 389.38,-263.61 396.38,-263.61\"/>\n",
       "</g>\n",
       "<!-- ref_AppliedPTransform_Create&#45;Filter&#45;Value&#45;approved_12 -->\n",
       "<g id=\"node6\" class=\"node\">\n",
       "<title>ref_AppliedPTransform_Create-Filter-Value-approved_12</title>\n",
       "<g id=\"a_node6\"><a xlink:href=\"javascript:click('ref_AppliedPTransform_Create-Filter-Value-approved_12')\" xlink:title=\"Create Filter Value: approved\">\n",
       "<path fill=\"#fff6dd\" stroke=\"#ff570b\" d=\"M163.75,-396C163.75,-396 12,-396 12,-396 6,-396 0,-390 0,-384 0,-384 0,-372 0,-372 0,-366 6,-360 12,-360 12,-360 163.75,-360 163.75,-360 169.75,-360 175.75,-366 175.75,-372 175.75,-372 175.75,-384 175.75,-384 175.75,-390 169.75,-396 163.75,-396\"/>\n",
       "<text text-anchor=\"middle\" x=\"87.88\" y=\"-372.95\" font-family=\"Times,serif\" font-size=\"14.00\">Create Filter Value: approved</text>\n",
       "</a>\n",
       "</g>\n",
       "</g>\n",
       "<!-- ref_AppliedPTransform_Create&#45;Filter&#45;Value&#45;approved_12&#45;&gt;ref_AppliedPTransform_Filter&#45;Branch&#45;branch_1&#45;approved_17 -->\n",
       "<g id=\"edge5\" class=\"edge\">\n",
       "<title>ref_AppliedPTransform_Create-Filter-Value-approved_12-&gt;ref_AppliedPTransform_Filter-Branch-branch_1-approved_17</title>\n",
       "<path fill=\"none\" stroke=\"#ff570b\" stroke-dasharray=\"5,2\" d=\"M111.11,-359.7C122.75,-351.03 137.02,-340.4 149.7,-330.96\"/>\n",
       "<polygon fill=\"#ff570b\" stroke=\"#ff570b\" points=\"151.44,-334.03 157.37,-325.25 147.26,-328.42 151.44,-334.03\"/>\n",
       "</g>\n",
       "<!-- ref_AppliedPTransform_Join&#45;Terminate&#45;Nodes_26 -->\n",
       "<g id=\"node10\" class=\"node\">\n",
       "<title>ref_AppliedPTransform_Join-Terminate-Nodes_26</title>\n",
       "<g id=\"a_node10\"><a xlink:href=\"javascript:click('ref_AppliedPTransform_Join-Terminate-Nodes_26')\" xlink:title=\"Join Terminate Nodes\">\n",
       "<path fill=\"#fff6dd\" stroke=\"#ff570b\" d=\"M448.88,-180C448.88,-180 336.88,-180 336.88,-180 330.88,-180 324.88,-174 324.88,-168 324.88,-168 324.88,-156 324.88,-156 324.88,-150 330.88,-144 336.88,-144 336.88,-144 448.88,-144 448.88,-144 454.88,-144 460.88,-150 460.88,-156 460.88,-156 460.88,-168 460.88,-168 460.88,-174 454.88,-180 448.88,-180\"/>\n",
       "<text text-anchor=\"middle\" x=\"392.88\" y=\"-156.95\" font-family=\"Times,serif\" font-size=\"14.00\">Join Terminate Nodes</text>\n",
       "</a>\n",
       "</g>\n",
       "</g>\n",
       "<!-- ref_AppliedPTransform_Terminate&#45;approved_24&#45;&gt;ref_AppliedPTransform_Join&#45;Terminate&#45;Nodes_26 -->\n",
       "<g id=\"edge9\" class=\"edge\">\n",
       "<title>ref_AppliedPTransform_Terminate-approved_24-&gt;ref_AppliedPTransform_Join-Terminate-Nodes_26</title>\n",
       "<path fill=\"none\" stroke=\"#ff570b\" d=\"M260.83,-215.52C284.44,-206.13 313.75,-194.47 338.75,-184.53\"/>\n",
       "<polygon fill=\"#ff570b\" stroke=\"#ff570b\" points=\"339.77,-187.89 347.76,-180.94 337.18,-181.39 339.77,-187.89\"/>\n",
       "</g>\n",
       "<!-- ref_AppliedPTransform_Create&#45;Filter&#45;Value&#45;denied_18 -->\n",
       "<g id=\"node8\" class=\"node\">\n",
       "<title>ref_AppliedPTransform_Create-Filter-Value-denied_18</title>\n",
       "<g id=\"a_node8\"><a xlink:href=\"javascript:click('ref_AppliedPTransform_Create-Filter-Value-denied_18')\" xlink:title=\"Create Filter Value: denied\">\n",
       "<path fill=\"#fff6dd\" stroke=\"#ff570b\" d=\"M473.63,-396C473.63,-396 336.13,-396 336.13,-396 330.13,-396 324.13,-390 324.13,-384 324.13,-384 324.13,-372 324.13,-372 324.13,-366 330.13,-360 336.13,-360 336.13,-360 473.63,-360 473.63,-360 479.63,-360 485.63,-366 485.63,-372 485.63,-372 485.63,-384 485.63,-384 485.63,-390 479.63,-396 473.63,-396\"/>\n",
       "<text text-anchor=\"middle\" x=\"404.88\" y=\"-372.95\" font-family=\"Times,serif\" font-size=\"14.00\">Create Filter Value: denied</text>\n",
       "</a>\n",
       "</g>\n",
       "</g>\n",
       "<!-- ref_AppliedPTransform_Create&#45;Filter&#45;Value&#45;denied_18&#45;&gt;ref_AppliedPTransform_Filter&#45;Branch&#45;branch_1&#45;denied_23 -->\n",
       "<g id=\"edge7\" class=\"edge\">\n",
       "<title>ref_AppliedPTransform_Create-Filter-Value-denied_18-&gt;ref_AppliedPTransform_Filter-Branch-branch_1-denied_23</title>\n",
       "<path fill=\"none\" stroke=\"#ff570b\" stroke-dasharray=\"5,2\" d=\"M401.91,-359.7C400.64,-352.32 399.14,-343.52 397.72,-335.25\"/>\n",
       "<polygon fill=\"#ff570b\" stroke=\"#ff570b\" points=\"401.2,-334.86 396.07,-325.59 394.31,-336.04 401.2,-334.86\"/>\n",
       "</g>\n",
       "<!-- ref_AppliedPTransform_Terminate&#45;denied_25&#45;&gt;ref_AppliedPTransform_Join&#45;Terminate&#45;Nodes_26 -->\n",
       "<g id=\"edge10\" class=\"edge\">\n",
       "<title>ref_AppliedPTransform_Terminate-denied_25-&gt;ref_AppliedPTransform_Join-Terminate-Nodes_26</title>\n",
       "<path fill=\"none\" stroke=\"#ff570b\" d=\"M392.88,-215.7C392.88,-208.41 392.88,-199.73 392.88,-191.54\"/>\n",
       "<polygon fill=\"#ff570b\" stroke=\"#ff570b\" points=\"396.38,-191.61 392.88,-181.61 389.38,-191.61 396.38,-191.61\"/>\n",
       "</g>\n",
       "<!-- ref_AppliedPTransform_Join&#45;Terminate&#45;Nodes_26&#45;&gt;ref_AppliedPTransform_Group&#45;Results_27 -->\n",
       "<g id=\"edge11\" class=\"edge\">\n",
       "<title>ref_AppliedPTransform_Join-Terminate-Nodes_26-&gt;ref_AppliedPTransform_Group-Results_27</title>\n",
       "<path fill=\"none\" stroke=\"#ff570b\" d=\"M407.71,-143.7C414.68,-135.56 423.14,-125.69 430.85,-116.7\"/>\n",
       "<polygon fill=\"#ff570b\" stroke=\"#ff570b\" points=\"433.38,-119.12 437.23,-109.25 428.07,-114.57 433.38,-119.12\"/>\n",
       "</g>\n",
       "</g>\n",
       "</svg>"
      ],
      "text/plain": [
       "<IPython.core.display.SVG object>"
      ]
     },
     "execution_count": 8,
     "metadata": {},
     "output_type": "execute_result"
    },
    {
     "name": "stdout",
     "output_type": "stream",
     "text": [
      "time: 4.26 s (started: 2024-12-22 22:00:27 -03:00)\n"
     ]
    }
   ],
   "source": [
    "output_image_path = \"dag.svg\"\n",
    "\n",
    "render_pipeline(builder, output_image_path, render_port=21111)"
   ]
  },
  {
   "cell_type": "code",
   "execution_count": 9,
   "id": "8",
   "metadata": {},
   "outputs": [
    {
     "data": {
      "text/html": [
       "<div>\n",
       "<style scoped>\n",
       "    .dataframe tbody tr th:only-of-type {\n",
       "        vertical-align: middle;\n",
       "    }\n",
       "\n",
       "    .dataframe tbody tr th {\n",
       "        vertical-align: top;\n",
       "    }\n",
       "\n",
       "    .dataframe thead th {\n",
       "        text-align: right;\n",
       "    }\n",
       "</style>\n",
       "<table border=\"1\" class=\"dataframe\">\n",
       "  <thead>\n",
       "    <tr style=\"text-align: right;\">\n",
       "      <th></th>\n",
       "      <th>backfill_id</th>\n",
       "      <th>key</th>\n",
       "      <th>status</th>\n",
       "      <th>input_node</th>\n",
       "    </tr>\n",
       "  </thead>\n",
       "  <tbody>\n",
       "    <tr>\n",
       "      <th>0</th>\n",
       "      <td>test-id</td>\n",
       "      <td>f0369ba55a60b5bc5bc8666a964c395c</td>\n",
       "      <td>DENIED</td>\n",
       "      <td>{'tax_id': '0', 'score': 81}</td>\n",
       "    </tr>\n",
       "    <tr>\n",
       "      <th>1</th>\n",
       "      <td>test-id</td>\n",
       "      <td>60a146574a1ec5f09a27e1f15ae95ded</td>\n",
       "      <td>APPROVED</td>\n",
       "      <td>{'tax_id': '1', 'score': 836}</td>\n",
       "    </tr>\n",
       "    <tr>\n",
       "      <th>2</th>\n",
       "      <td>test-id</td>\n",
       "      <td>761f36e599f6ca3cfb859271468973f2</td>\n",
       "      <td>DENIED</td>\n",
       "      <td>{'tax_id': '2', 'score': 48}</td>\n",
       "    </tr>\n",
       "    <tr>\n",
       "      <th>3</th>\n",
       "      <td>test-id</td>\n",
       "      <td>3254c1565be80b4fe68c057671204ff6</td>\n",
       "      <td>APPROVED</td>\n",
       "      <td>{'tax_id': '3', 'score': 952}</td>\n",
       "    </tr>\n",
       "    <tr>\n",
       "      <th>4</th>\n",
       "      <td>test-id</td>\n",
       "      <td>0e16afcc463ccb97987fd290aa35dc9d</td>\n",
       "      <td>APPROVED</td>\n",
       "      <td>{'tax_id': '4', 'score': 650}</td>\n",
       "    </tr>\n",
       "  </tbody>\n",
       "</table>\n",
       "</div>"
      ],
      "text/plain": [
       "  backfill_id                               key    status  \\\n",
       "0     test-id  f0369ba55a60b5bc5bc8666a964c395c    DENIED   \n",
       "1     test-id  60a146574a1ec5f09a27e1f15ae95ded  APPROVED   \n",
       "2     test-id  761f36e599f6ca3cfb859271468973f2    DENIED   \n",
       "3     test-id  3254c1565be80b4fe68c057671204ff6  APPROVED   \n",
       "4     test-id  0e16afcc463ccb97987fd290aa35dc9d  APPROVED   \n",
       "\n",
       "                      input_node  \n",
       "0   {'tax_id': '0', 'score': 81}  \n",
       "1  {'tax_id': '1', 'score': 836}  \n",
       "2   {'tax_id': '2', 'score': 48}  \n",
       "3  {'tax_id': '3', 'score': 952}  \n",
       "4  {'tax_id': '4', 'score': 650}  "
      ]
     },
     "execution_count": 9,
     "metadata": {},
     "output_type": "execute_result"
    },
    {
     "name": "stdout",
     "output_type": "stream",
     "text": [
      "time: 2.99 s (started: 2024-12-22 22:00:31 -03:00)\n"
     ]
    }
   ],
   "source": [
    "result = run_local(builder)\n",
    "\n",
    "result.head()"
   ]
  },
  {
   "cell_type": "code",
   "execution_count": null,
   "id": "9",
   "metadata": {},
   "outputs": [],
   "source": []
  }
 ],
 "metadata": {
  "kernelspec": {
   "display_name": "Python 3 (ipykernel)",
   "language": "python",
   "name": "python3"
  },
  "language_info": {
   "codemirror_mode": {
    "name": "ipython",
    "version": 3
   },
   "file_extension": ".py",
   "mimetype": "text/x-python",
   "name": "python",
   "nbconvert_exporter": "python",
   "pygments_lexer": "ipython3",
   "version": "3.12.7"
  }
 },
 "nbformat": 4,
 "nbformat_minor": 5
}
