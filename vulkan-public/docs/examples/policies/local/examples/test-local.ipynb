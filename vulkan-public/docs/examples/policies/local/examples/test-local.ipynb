{
 "cells": [
  {
   "cell_type": "code",
   "execution_count": null,
   "id": "0",
   "metadata": {},
   "outputs": [],
   "source": [
    "%load_ext autotime\n",
    "%load_ext autoreload\n",
    "%autoreload 2"
   ]
  },
  {
   "cell_type": "code",
   "execution_count": null,
   "id": "1",
   "metadata": {},
   "outputs": [],
   "source": [
    "# Used to make our results easier to read\n",
    "from pprint import pprint\n",
    "\n",
    "import pandas as pd\n",
    "import requests\n",
    "from apache_beam.options.pipeline_options import PipelineOptions\n",
    "from IPython.display import SVG, Image, display\n",
    "from test_policy.policy import demo_policy as policy_definition\n",
    "from vulkan.beam.local.convert import build_beam_policy\n",
    "from vulkan.core.policy import Policy\n",
    "\n",
    "from vulkan_public.spec.dependency import INPUT_NODE"
   ]
  },
  {
   "cell_type": "code",
   "execution_count": null,
   "id": "2",
   "metadata": {},
   "outputs": [],
   "source": [
    "import os\n",
    "import platform\n",
    "import signal\n",
    "import socket\n",
    "import subprocess\n",
    "\n",
    "\n",
    "def is_server_running(host: str, port: int, timeout: float = 1.0) -> bool:\n",
    "    \"\"\"Check if a server is running on the given host and port.\n",
    "\n",
    "    Args:\n",
    "        host (str): The hostname or IP address of the server.\n",
    "        port (int): The port number to check.\n",
    "        timeout (float): The timeout for the connection in seconds (default is 1.0).\n",
    "\n",
    "    Returns:\n",
    "        bool: True if a server is running, False otherwise.\n",
    "    \"\"\"\n",
    "    with socket.socket(socket.AF_INET, socket.SOCK_STREAM) as sock:\n",
    "        sock.settimeout(timeout)  # Set timeout for the connection attempt\n",
    "        try:\n",
    "            sock.connect((host, port))\n",
    "            return True\n",
    "        except (socket.timeout, ConnectionRefusedError, OSError):\n",
    "            return False\n",
    "\n",
    "\n",
    "def render_pipeline(\n",
    "    pipeline_builder,\n",
    "    output_image_path: str,\n",
    "    render_port: int = -1,\n",
    "):\n",
    "    if render_port > 0:\n",
    "        busy = is_server_running(\"localhost\", render_port, timeout=1)\n",
    "        if busy:\n",
    "            msg = (\n",
    "                f\"There is already a server running on port {render_port}. \\n\"\n",
    "                \"Skipping starting a server for this render to avoid conflict.\"\n",
    "            )\n",
    "            print(msg)\n",
    "            render_port = -1\n",
    "\n",
    "    args = [\n",
    "        \"--runner=apache_beam.runners.render.RenderRunner\",\n",
    "        f\"--render_output={output_image_path}\",\n",
    "        f\"--render_port={render_port}\",\n",
    "    ]\n",
    "    options = PipelineOptions(args)\n",
    "\n",
    "    p = pipeline_builder.build(backfill_id=\"test-id\", pipeline_options=options)\n",
    "    p.run()\n",
    "    return SVG(output_image_path)"
   ]
  },
  {
   "cell_type": "code",
   "execution_count": null,
   "id": "3",
   "metadata": {},
   "outputs": [],
   "source": [
    "def run_local(pipeline_builder, run_id: str = \"test-id\"):\n",
    "    args = [\n",
    "        \"--runner=DirectRunner\",\n",
    "    ]\n",
    "    options = PipelineOptions(args)\n",
    "\n",
    "    p = pipeline_builder.build(backfill_id=run_id, pipeline_options=options)\n",
    "    run = p.run()\n",
    "\n",
    "    output_data = pd.read_parquet(pipeline_builder.output_path)\n",
    "\n",
    "    return output_data"
   ]
  },
  {
   "cell_type": "code",
   "execution_count": null,
   "id": "4",
   "metadata": {},
   "outputs": [],
   "source": [
    "df = pd.read_csv(\"simple_bkt_lg.csv\").iloc[0:1]\n",
    "df[\"month\"] = df[\"month\"].astype(str)\n",
    "df[\"tax_id\"] = df[\"tax_id\"].astype(str)\n",
    "\n",
    "df.to_parquet(\"input.parquet\")"
   ]
  },
  {
   "cell_type": "code",
   "execution_count": null,
   "id": "5",
   "metadata": {},
   "outputs": [],
   "source": [
    "policy = Policy.from_definition(policy_definition)"
   ]
  },
  {
   "cell_type": "code",
   "execution_count": null,
   "id": "6",
   "metadata": {},
   "outputs": [],
   "source": [
    "from vulkan_public.schemas import DataSourceSpec\n",
    "\n",
    "test_schema = {\n",
    "    \"name\": \"vendor\",\n",
    "    \"keys\": [\"tax_id\"],\n",
    "    \"request\": {\n",
    "        \"url\": \"https://jsonplaceholder.typicode.com/todos/1\",\n",
    "    },\n",
    "    \"caching\": {\n",
    "        \"enabled\": False,\n",
    "    },\n",
    "}\n",
    "\n",
    "data_sources = {\n",
    "    INPUT_NODE: \"input.parquet\",\n",
    "    \"vendor-name:api-name:v0.0.1\": DataSourceSpec.model_validate(test_schema),\n",
    "}\n",
    "config_variables = {\"SCORE_CUTOFF\": 500}\n",
    "\n",
    "builder = build_beam_policy(\n",
    "    policy,\n",
    "    data_sources=data_sources,\n",
    "    output_path=\"./output/\",\n",
    "    config_variables=config_variables,\n",
    ")"
   ]
  },
  {
   "cell_type": "raw",
   "id": "7",
   "metadata": {},
   "source": [
    "output_image_path = \"dag.svg\"\n",
    "\n",
    "render_pipeline(builder, output_image_path, render_port=21111)"
   ]
  },
  {
   "cell_type": "code",
   "execution_count": null,
   "id": "8",
   "metadata": {},
   "outputs": [],
   "source": [
    "import logging\n",
    "\n",
    "logger = logging.getLogger()\n",
    "logger.setLevel(logging.DEBUG)\n",
    "logging.debug(\"test\")\n",
    "\n",
    "result = run_local(builder)\n",
    "\n",
    "result.head()"
   ]
  },
  {
   "cell_type": "code",
   "execution_count": null,
   "id": "9",
   "metadata": {},
   "outputs": [],
   "source": []
  }
 ],
 "metadata": {
  "kernelspec": {
   "display_name": "Python 3 (ipykernel)",
   "language": "python",
   "name": "python3"
  },
  "language_info": {
   "codemirror_mode": {
    "name": "ipython",
    "version": 3
   },
   "file_extension": ".py",
   "mimetype": "text/x-python",
   "name": "python",
   "nbconvert_exporter": "python",
   "pygments_lexer": "ipython3",
   "version": "3.12.7"
  }
 },
 "nbformat": 4,
 "nbformat_minor": 5
}
