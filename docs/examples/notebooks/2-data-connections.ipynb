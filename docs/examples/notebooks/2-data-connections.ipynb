{
 "cells": [
  {
   "cell_type": "markdown",
   "id": "0",
   "metadata": {},
   "source": [
    "# Policy with data connections\n",
    "\n",
    "This notebook will show how to create a policy that performs API calls to external systems"
   ]
  },
  {
   "cell_type": "code",
   "execution_count": null,
   "id": "1",
   "metadata": {},
   "outputs": [],
   "source": [
    "%load_ext autotime\n",
    "%load_ext autoreload\n",
    "%autoreload 2"
   ]
  },
  {
   "cell_type": "code",
   "execution_count": null,
   "id": "2",
   "metadata": {},
   "outputs": [],
   "source": [
    "from lineart_sdk import Lineart\n",
    "\n",
    "BASE_URL = \"http://localhost:6001\""
   ]
  },
  {
   "cell_type": "code",
   "execution_count": null,
   "id": "3",
   "metadata": {},
   "outputs": [],
   "source": [
    "with Lineart(server_url=BASE_URL) as client:\n",
    "    policy = client.policies.create(\n",
    "        name=\"DataConnectionsDemo\",\n",
    "        description=\"Demo policy with data connections\",\n",
    "    )\n",
    "    policy_id = policy.policy_id\n",
    "\n",
    "policy"
   ]
  },
  {
   "cell_type": "code",
   "execution_count": null,
   "id": "4",
   "metadata": {},
   "outputs": [],
   "source": [
    "from lineart_sdk.models import (\n",
    "    CachingOptions,\n",
    "    EnvVarConfig,\n",
    "    HTTPSource,\n",
    "    ResponseType,\n",
    "    RetryPolicy,\n",
    "    RunTimeParam,\n",
    ")\n",
    "\n",
    "api = \"my-api\"\n",
    "version = \"1.0\"\n",
    "MY_API_REF = f\"{api}-v{version}\"\n",
    "\n",
    "source = HTTPSource(\n",
    "    url=\"http://testdata:5000/\",\n",
    "    method=\"GET\",\n",
    "    headers={\"Content-Type\": \"application/json\"},\n",
    "    params={\"full\": EnvVarConfig(env=\"FULL\")},\n",
    "    body={\"tax_id\": RunTimeParam(param=\"tax_id\")},\n",
    "    retry=RetryPolicy(\n",
    "        max_retries=3,\n",
    "        backoff_factor=1,\n",
    "    ),\n",
    "    timeout=5,\n",
    "    response_type=ResponseType.JSON.value,\n",
    ")\n",
    "\n",
    "caching = CachingOptions(enabled=True, ttl=3600)\n",
    "\n",
    "\n",
    "with Lineart(server_url=BASE_URL) as client:\n",
    "    data_source = client.data_sources.create(\n",
    "        name=MY_API_REF,\n",
    "        description=\"Test data source\",\n",
    "        source=source,\n",
    "        caching=caching,\n",
    "        metadata={\"api\": api, \"version\": version},\n",
    "    )\n",
    "data_source"
   ]
  },
  {
   "cell_type": "code",
   "execution_count": null,
   "id": "5",
   "metadata": {},
   "outputs": [],
   "source": [
    "from vulkan.spec.dependency import INPUT_NODE, Dependency\n",
    "from vulkan.spec.nodes import BranchNode, ConnectionNode, DataInputNode, TerminateNode\n",
    "from vulkan.spec.policy import PolicyDefinition"
   ]
  },
  {
   "cell_type": "code",
   "execution_count": null,
   "id": "6",
   "metadata": {},
   "outputs": [],
   "source": [
    "def _format_name(name: str) -> str:\n",
    "    # Replace every character not in regex \"^[A-Za-z0-9_]+$\" with _\n",
    "    return \"\".join(c if c.isalnum() or c == \"_\" else \"_\" for c in name)\n",
    "\n",
    "\n",
    "# Format the data source name into a valid node name\n",
    "MY_API_DATA_INPUT = _format_name(MY_API_REF)"
   ]
  },
  {
   "cell_type": "code",
   "execution_count": null,
   "id": "7",
   "metadata": {},
   "outputs": [],
   "source": [
    "api = DataInputNode(\n",
    "    name=MY_API_DATA_INPUT,\n",
    "    data_source=MY_API_REF,\n",
    "    parameters={\"tax_id\": \"'{{inputs.tax_id}}'\"},\n",
    "    dependencies={\"inputs\": Dependency(INPUT_NODE)},\n",
    ")\n",
    "\n",
    "\n",
    "def make_decision(context, scores, **kwargs):\n",
    "    context.log.info(f\"Scores: {scores}\")\n",
    "    if scores[\"scr\"] > 600:\n",
    "        return \"approved\"\n",
    "    if scores[\"serasa\"] > 800:\n",
    "        return \"analysis\"\n",
    "    return \"denied\"\n",
    "\n",
    "\n",
    "decision = BranchNode(\n",
    "    name=\"decision\",\n",
    "    func=make_decision,\n",
    "    choices=[\"approved\", \"analysis\", \"denied\"],\n",
    "    dependencies={\"scores\": Dependency(api.name)},\n",
    ")\n",
    "\n",
    "output_data = {\"scores\": f\"{{{{{api.name}}}}}\"}\n",
    "\n",
    "approved = TerminateNode(\n",
    "    name=\"approved\",\n",
    "    return_status=\"approved\",\n",
    "    output_data=output_data,\n",
    "    dependencies={\"condition\": Dependency(\"decision\", \"approved\")},\n",
    ")\n",
    "\n",
    "analysis = TerminateNode(\n",
    "    name=\"analysis\",\n",
    "    return_status=\"analysis\",\n",
    "    output_data=output_data,\n",
    "    dependencies={\"condition\": Dependency(\"decision\", \"analysis\")},\n",
    ")\n",
    "\n",
    "denied = TerminateNode(\n",
    "    name=\"denied\",\n",
    "    return_status=\"denied\",\n",
    "    output_data=output_data,\n",
    "    dependencies={\"condition\": Dependency(\"decision\", \"denied\")},\n",
    ")\n",
    "\n",
    "policy_with_ds = PolicyDefinition(\n",
    "    nodes=[\n",
    "        api,\n",
    "        decision,\n",
    "        approved,\n",
    "        analysis,\n",
    "        denied,\n",
    "    ],\n",
    "    input_schema={\"tax_id\": \"str\"},\n",
    ")"
   ]
  },
  {
   "cell_type": "code",
   "execution_count": null,
   "id": "8",
   "metadata": {},
   "outputs": [],
   "source": [
    "# Uncomment and run to examine the policy structure\n",
    "# policy_with_ds.to_dict()"
   ]
  },
  {
   "cell_type": "code",
   "execution_count": null,
   "id": "9",
   "metadata": {},
   "outputs": [],
   "source": [
    "with Lineart(server_url=BASE_URL) as client:\n",
    "    version_name = \"v1\"\n",
    "    policy_version = client.policy_versions.create(\n",
    "        policy_id=policy_id, alias=version_name\n",
    "    )\n",
    "    policy_version_id = policy_version.policy_version_id\n",
    "\n",
    "policy_version"
   ]
  },
  {
   "cell_type": "code",
   "execution_count": null,
   "id": "10",
   "metadata": {},
   "outputs": [],
   "source": [
    "from lineart_sdk.models import WorkflowBase\n",
    "\n",
    "with Lineart(server_url=BASE_URL) as client:\n",
    "    policy_version = client.policy_versions.update(\n",
    "        policy_version_id=policy_version_id,\n",
    "        alias=version_name,\n",
    "        workflow=WorkflowBase(\n",
    "            spec=policy_with_ds.to_dict(),\n",
    "            requirements=[],\n",
    "        ),\n",
    "    )\n",
    "\n",
    "policy_version"
   ]
  },
  {
   "cell_type": "code",
   "execution_count": null,
   "id": "11",
   "metadata": {},
   "outputs": [],
   "source": [
    "with Lineart(server_url=BASE_URL) as lineart:\n",
    "    run = lineart.policy_versions.create_run(\n",
    "        policy_version_id=policy_version_id, input_data={\"tax_id\": \"1\"}\n",
    "    )\n",
    "\n",
    "run"
   ]
  },
  {
   "cell_type": "markdown",
   "id": "12",
   "metadata": {},
   "source": [
    "Substitute the Data Source with a ConnectionNode"
   ]
  },
  {
   "cell_type": "code",
   "execution_count": null,
   "id": "13",
   "metadata": {},
   "outputs": [],
   "source": [
    "api = ConnectionNode(\n",
    "    name=MY_API_DATA_INPUT,\n",
    "    url=\"http://testdata:5000\",\n",
    "    method=\"GET\",\n",
    "    headers={\"Content-Type\": \"application/json\"},\n",
    "    params={\"full\": True},\n",
    "    body={\"tax_id\": \"'{{inputs.tax_id}}'\"},\n",
    "    response_type=ResponseType.JSON.value,\n",
    "    dependencies={\"inputs\": Dependency(INPUT_NODE)},\n",
    ")\n",
    "\n",
    "policy_with_connection = PolicyDefinition(\n",
    "    nodes=[\n",
    "        api,\n",
    "        decision,\n",
    "        approved,\n",
    "        analysis,\n",
    "        denied,\n",
    "    ],\n",
    "    input_schema={\"tax_id\": \"str\"},\n",
    ")"
   ]
  },
  {
   "cell_type": "code",
   "execution_count": null,
   "id": "14",
   "metadata": {},
   "outputs": [],
   "source": [
    "# Uncomment and run to examine the policy structure\n",
    "# policy_with_connection.to_dict()"
   ]
  },
  {
   "cell_type": "code",
   "execution_count": null,
   "id": "15",
   "metadata": {},
   "outputs": [],
   "source": [
    "with Lineart(server_url=BASE_URL) as client:\n",
    "    version_name = \"v2\"\n",
    "    new_version = client.policy_versions.create(policy_id=policy_id, alias=version_name)\n",
    "    new_version_id = new_version.policy_version_id\n",
    "    new_version = client.policy_versions.update(\n",
    "        policy_version_id=new_version_id,\n",
    "        alias=version_name,\n",
    "        workflow=WorkflowBase(\n",
    "            spec=policy_with_connection.to_dict(),\n",
    "            requirements=[],\n",
    "        ),\n",
    "    )\n",
    "\n",
    "new_version"
   ]
  },
  {
   "cell_type": "code",
   "execution_count": null,
   "id": "16",
   "metadata": {},
   "outputs": [],
   "source": [
    "with Lineart(server_url=BASE_URL) as lineart:\n",
    "    run = lineart.policy_versions.create_run(\n",
    "        policy_version_id=new_version_id, input_data={\"tax_id\": \"1\"}\n",
    "    )\n",
    "\n",
    "run"
   ]
  },
  {
   "cell_type": "code",
   "execution_count": null,
   "id": "17",
   "metadata": {},
   "outputs": [],
   "source": []
  }
 ],
 "metadata": {
  "kernelspec": {
   "display_name": "one-ring",
   "language": "python",
   "name": "python3"
  },
  "language_info": {
   "codemirror_mode": {
    "name": "ipython",
    "version": 3
   },
   "file_extension": ".py",
   "mimetype": "text/x-python",
   "name": "python",
   "nbconvert_exporter": "python",
   "pygments_lexer": "ipython3",
   "version": "3.12.5"
  }
 },
 "nbformat": 4,
 "nbformat_minor": 5
}
