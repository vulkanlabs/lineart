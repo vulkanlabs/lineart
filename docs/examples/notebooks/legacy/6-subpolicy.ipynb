{
 "cells": [
  {
   "cell_type": "code",
   "execution_count": null,
   "id": "0",
   "metadata": {},
   "outputs": [],
   "source": [
    "%load_ext autotime\n",
    "%load_ext autoreload\n",
    "%autoreload 2"
   ]
  },
  {
   "cell_type": "code",
   "execution_count": null,
   "id": "1",
   "metadata": {},
   "outputs": [],
   "source": [
    "import numpy as np\n",
    "import pandas as pd\n",
    "\n",
    "from vulkan.core.policy import Policy\n",
    "from vulkan.runners.beam.local.runner import PolicyRunner\n",
    "from vulkan.schemas import DataSourceSpec\n",
    "from vulkan.spec.dependency import INPUT_NODE"
   ]
  },
  {
   "cell_type": "code",
   "execution_count": null,
   "id": "2",
   "metadata": {},
   "outputs": [],
   "source": [
    "import logging\n",
    "\n",
    "logger = logging.getLogger()\n",
    "logger.setLevel(\"ERROR\")"
   ]
  },
  {
   "cell_type": "markdown",
   "id": "3",
   "metadata": {},
   "source": [
    "## Preparations\n",
    "\n",
    "We'll create a Parquet file with our input data."
   ]
  },
  {
   "cell_type": "code",
   "execution_count": null,
   "id": "4",
   "metadata": {},
   "outputs": [],
   "source": [
    "df = pd.read_csv(\"../data/simple_bkt_lg.csv\")\n",
    "df[\"month\"] = df[\"month\"].astype(str)\n",
    "df[\"tax_id\"] = df[\"tax_id\"].astype(str)\n",
    "\n",
    "df.to_parquet(\"input.parquet\")"
   ]
  },
  {
   "cell_type": "markdown",
   "id": "5",
   "metadata": {},
   "source": [
    "## Define the sub-Policy"
   ]
  },
  {
   "cell_type": "code",
   "execution_count": null,
   "id": "6",
   "metadata": {},
   "outputs": [],
   "source": [
    "from enum import Enum\n",
    "\n",
    "from vulkan.spec.dependency import INPUT_NODE, Dependency\n",
    "from vulkan.spec.nodes import BranchNode, TerminateNode\n",
    "from vulkan.spec.policy import PolicyDefinition\n",
    "\n",
    "\n",
    "class Status(Enum):\n",
    "    APPROVED = \"APPROVED\"\n",
    "    DENIED = \"DENIED\"\n",
    "\n",
    "\n",
    "approved = TerminateNode(\n",
    "    name=\"approved\",\n",
    "    description=\"TerminateNode data branch\",\n",
    "    return_status=Status.APPROVED,\n",
    "    dependencies={\"condition\": Dependency(\"branch_1\", \"approved\")},\n",
    ")\n",
    "\n",
    "\n",
    "denied = TerminateNode(\n",
    "    name=\"denied\",\n",
    "    description=\"TerminateNode data branch\",\n",
    "    return_status=Status.DENIED,\n",
    "    dependencies={\"condition\": Dependency(\"branch_1\", \"denied\")},\n",
    ")\n",
    "\n",
    "\n",
    "# Branching node\n",
    "def branch_condition_1(context, scores, **kwargs):\n",
    "    context.log.info(f\"BranchNode data: {scores}\")\n",
    "    if scores[\"score\"] > context.env.get(\"SCORE_CUTOFF\", 500):\n",
    "        return \"approved\"\n",
    "    return \"denied\"\n",
    "\n",
    "\n",
    "branch_1 = BranchNode(\n",
    "    func=branch_condition_1,\n",
    "    name=\"branch_1\",\n",
    "    description=\"BranchNode data\",\n",
    "    dependencies={\"scores\": Dependency(INPUT_NODE)},\n",
    "    choices=[\"approved\", \"denied\"],\n",
    ")\n",
    "\n",
    "subpolicy = PolicyDefinition(\n",
    "    nodes=[\n",
    "        branch_1,\n",
    "        approved,\n",
    "        denied,\n",
    "    ],\n",
    "    config_variables=[\"SCORE_CUTOFF\"],\n",
    "    input_schema={\"tax_id\": \"str\", \"score\": \"int\"},\n",
    ")\n",
    "subpolicy.show()"
   ]
  },
  {
   "cell_type": "raw",
   "id": "7",
   "metadata": {},
   "source": [
    "runner = PolicyRunner(subpolicy, staging_path=\"./output/\")\n",
    "config_variables = {\"SCORE_CUTOFF\": 650}\n",
    "\n",
    "result = runner.run(\n",
    "    input_data={\"tax_id\": \"1\", \"score\": 651},\n",
    "    config_variables=config_variables,\n",
    ")\n",
    "\n",
    "print(\"Here are our results:\\n\")\n",
    "result.data"
   ]
  },
  {
   "cell_type": "code",
   "execution_count": null,
   "id": "8",
   "metadata": {},
   "outputs": [],
   "source": [
    "from vulkan.cli import client as vulkan\n",
    "from vulkan.cli.context import Context\n",
    "\n",
    "ctx = Context()"
   ]
  },
  {
   "cell_type": "code",
   "execution_count": null,
   "id": "9",
   "metadata": {},
   "outputs": [],
   "source": [
    "component = vulkan.component.create(ctx, \"comp1\", spec=subpolicy.to_dict())"
   ]
  },
  {
   "cell_type": "markdown",
   "id": "10",
   "metadata": {},
   "source": [
    "## Define the Main Policy"
   ]
  },
  {
   "cell_type": "code",
   "execution_count": null,
   "id": "11",
   "metadata": {},
   "outputs": [],
   "source": [
    "from vulkan.spec.nodes import ComponentNode\n",
    "\n",
    "component_node = ComponentNode(\n",
    "    name=\"subpolicy\",\n",
    "    dependencies={\"input_data\": Dependency(INPUT_NODE)},\n",
    "    component_id=component[\"component_id\"],\n",
    "    # definition=subpolicy.to_dict()\n",
    ")\n",
    "\n",
    "\n",
    "def main_branch(context, subpolicy_decision, **kwargs):\n",
    "    context.log.info(\n",
    "        f\"Main Branch Data: {subpolicy_decision} ({type(subpolicy_decision)})\"\n",
    "    )\n",
    "    if subpolicy_decision[\"status\"] == Status.APPROVED.value:\n",
    "        return \"denied\"\n",
    "    return \"approved\"\n",
    "\n",
    "\n",
    "branch_main = BranchNode(\n",
    "    func=main_branch,\n",
    "    name=\"branch_main\",\n",
    "    dependencies={\"subpolicy_decision\": Dependency(component_node.name)},\n",
    "    choices=[\"approved\", \"denied\"],\n",
    ")\n",
    "\n",
    "approved_main = TerminateNode(\n",
    "    name=\"approved_main\",\n",
    "    return_status=Status.APPROVED,\n",
    "    dependencies={\"condition\": Dependency(\"branch_main\", \"approved\")},\n",
    ")\n",
    "\n",
    "\n",
    "denied_main = TerminateNode(\n",
    "    name=\"denied_main\",\n",
    "    return_status=Status.DENIED,\n",
    "    dependencies={\"condition\": Dependency(\"branch_main\", \"denied\")},\n",
    ")\n",
    "\n",
    "\n",
    "policy_def = PolicyDefinition(\n",
    "    nodes=[\n",
    "        component_node,\n",
    "        branch_main,\n",
    "        approved_main,\n",
    "        denied_main,\n",
    "    ],\n",
    "    config_variables=[\"SCORE_CUTOFF\"],\n",
    "    input_schema={\"tax_id\": \"str\", \"score\": \"int\"},\n",
    ")\n",
    "policy_def.show()"
   ]
  },
  {
   "cell_type": "raw",
   "id": "12",
   "metadata": {},
   "source": [
    "runner = PolicyRunner(\n",
    "    subpolicy_node.policy_definition,\n",
    "    staging_path=\"./output/\",\n",
    ")\n",
    "\n",
    "config_variables = {\"SCORE_CUTOFF\": 650}\n",
    "\n",
    "result = runner.run(\n",
    "    input_data={\"tax_id\": \"1\", \"score\": 651},\n",
    "    config_variables=config_variables,\n",
    ")"
   ]
  },
  {
   "cell_type": "code",
   "execution_count": null,
   "id": "13",
   "metadata": {},
   "outputs": [],
   "source": [
    "policy = vulkan.policy.create_policy(ctx, \"policy\")\n",
    "version = vulkan.policy_version.create(\n",
    "    ctx, policy, version_name=\"v1\", spec=policy_def.to_dict()\n",
    ")"
   ]
  },
  {
   "cell_type": "code",
   "execution_count": null,
   "id": "14",
   "metadata": {},
   "outputs": [],
   "source": [
    "run_id, success = vulkan.run.trigger_run_by_policy_version_id(\n",
    "    ctx,\n",
    "    version[\"policy_version_id\"],\n",
    "    {\"tax_id\": \"1\", \"score\": 651},\n",
    "    config_variables={\"SCORE_CUTOFF\": 650},\n",
    ")\n",
    "\n",
    "if success:\n",
    "    results = vulkan.run.get(ctx, run_id)\n",
    "    print(results)"
   ]
  },
  {
   "cell_type": "markdown",
   "id": "15",
   "metadata": {},
   "source": [
    "## Run the Policy and SubPolicy Locally"
   ]
  },
  {
   "cell_type": "code",
   "execution_count": null,
   "id": "16",
   "metadata": {},
   "outputs": [],
   "source": [
    "runner = PolicyRunner(policy_def, staging_path=\"./output/\")\n",
    "config_variables = {\"SCORE_CUTOFF\": 650}\n",
    "\n",
    "result = runner.run(\n",
    "    input_data={\"tax_id\": \"1\", \"score\": 651},\n",
    "    config_variables=config_variables,\n",
    ")\n",
    "\n",
    "print(\"Here are our results:\\n\")\n",
    "result.data"
   ]
  },
  {
   "cell_type": "code",
   "execution_count": null,
   "id": "17",
   "metadata": {},
   "outputs": [],
   "source": [
    "p = Policy.from_definition(policy_def)\n",
    "p.show()"
   ]
  },
  {
   "cell_type": "markdown",
   "id": "18",
   "metadata": {},
   "source": [
    "### Running for a bunch of data\n",
    "\n",
    "We can run for 1 example, or for a bunch, just as easily.\n",
    "To run for a batch of data, we just need to pass the input data with a file.\n",
    "Let's pass in the input file we created at the beginning."
   ]
  },
  {
   "cell_type": "code",
   "execution_count": null,
   "id": "19",
   "metadata": {},
   "outputs": [],
   "source": [
    "%%time\n",
    "batch_results = runner.run_batch(\n",
    "    input_data_path=\"input.parquet\",\n",
    "    # data_sources=data_sources,\n",
    "    # config_variables=config_variables,\n",
    ")\n",
    "\n",
    "batch_results.data"
   ]
  },
  {
   "cell_type": "code",
   "execution_count": null,
   "id": "20",
   "metadata": {},
   "outputs": [],
   "source": []
  }
 ],
 "metadata": {
  "kernelspec": {
   "display_name": "Python 3 (ipykernel)",
   "language": "python",
   "name": "python3"
  },
  "language_info": {
   "codemirror_mode": {
    "name": "ipython",
    "version": 3
   },
   "file_extension": ".py",
   "mimetype": "text/x-python",
   "name": "python",
   "nbconvert_exporter": "python",
   "pygments_lexer": "ipython3",
   "version": "3.12.4"
  }
 },
 "nbformat": 4,
 "nbformat_minor": 5
}
