{
 "cells": [
  {
   "cell_type": "markdown",
   "id": "0",
   "metadata": {},
   "source": [
    "# Simple Policy\n",
    "\n",
    "This notebook will show you how to create and run a simple policy"
   ]
  },
  {
   "cell_type": "code",
   "execution_count": null,
   "id": "1",
   "metadata": {},
   "outputs": [],
   "source": [
    "from vulkan.spec.dependency import INPUT_NODE, Dependency\n",
    "from vulkan.spec.nodes import BranchNode, TerminateNode\n",
    "from vulkan.spec.policy import PolicyDefinition"
   ]
  },
  {
   "cell_type": "code",
   "execution_count": null,
   "id": "2",
   "metadata": {},
   "outputs": [],
   "source": [
    "from lineart import Lineart, models\n",
    "\n",
    "PROJECT_ID = None\n",
    "client = Lineart(project_id=PROJECT_ID)"
   ]
  },
  {
   "cell_type": "markdown",
   "id": "3",
   "metadata": {},
   "source": [
    "## Creating the Policy"
   ]
  },
  {
   "cell_type": "code",
   "execution_count": null,
   "id": "4",
   "metadata": {},
   "outputs": [],
   "source": [
    "policy = client.policies.create(\n",
    "    name=\"isEven\",\n",
    "    description=\"A simple policy that checks if a number is even\",\n",
    ")\n",
    "policy_id = policy.policy_id"
   ]
  },
  {
   "cell_type": "code",
   "execution_count": null,
   "id": "5",
   "metadata": {},
   "outputs": [],
   "source": [
    "def is_even_fn(input_node):\n",
    "    if input_node[\"number\"] % 2 == 0:\n",
    "        return \"even\"\n",
    "    return \"odd\"\n",
    "\n",
    "\n",
    "branch_node_1 = BranchNode(\n",
    "    name=\"branch_node_1\",\n",
    "    func=is_even_fn,\n",
    "    choices=[\"even\", \"odd\"],\n",
    "    dependencies={INPUT_NODE: Dependency(INPUT_NODE)},\n",
    ")\n",
    "\n",
    "is_even = TerminateNode(\n",
    "    name=\"is_even\",\n",
    "    return_status=\"Great\",\n",
    "    dependencies={\"condition\": Dependency(\"branch_node_1\", \"even\")},\n",
    ")\n",
    "\n",
    "is_odd = TerminateNode(\n",
    "    name=\"is_odd\",\n",
    "    return_status=\"Too_Bad\",\n",
    "    dependencies={\"condition\": Dependency(\"branch_node_1\", \"odd\")},\n",
    ")\n",
    "\n",
    "is_even = PolicyDefinition(\n",
    "    nodes=[\n",
    "        branch_node_1,\n",
    "        is_even,\n",
    "        is_odd,\n",
    "    ],\n",
    "    input_schema={\"number\": \"int\"},\n",
    ")"
   ]
  },
  {
   "cell_type": "markdown",
   "id": "6",
   "metadata": {},
   "source": [
    "Create the version `v1` and update it with the definition above"
   ]
  },
  {
   "cell_type": "code",
   "execution_count": null,
   "id": "7",
   "metadata": {},
   "outputs": [],
   "source": [
    "version_name = \"v1\"\n",
    "policy_version = client.policy_versions.create(policy_id=policy_id, alias=version_name)\n",
    "policy_version_id = policy_version.policy_version_id"
   ]
  },
  {
   "cell_type": "code",
   "execution_count": null,
   "id": "8",
   "metadata": {},
   "outputs": [],
   "source": [
    "models.WorkflowBase?"
   ]
  },
  {
   "cell_type": "code",
   "execution_count": null,
   "id": "9",
   "metadata": {},
   "outputs": [],
   "source": [
    "policy_version = client.policy_versions.update(\n",
    "    alias=version_name,\n",
    "    policy_version_id=policy_version_id,\n",
    "    workflow=models.WorkflowBase(\n",
    "        spec=is_even.to_dict(),\n",
    "        requirements=[],\n",
    "    ),\n",
    ")"
   ]
  },
  {
   "cell_type": "markdown",
   "id": "10",
   "metadata": {},
   "source": [
    "## Triggering a Run"
   ]
  },
  {
   "cell_type": "code",
   "execution_count": null,
   "id": "11",
   "metadata": {},
   "outputs": [],
   "source": [
    "from numpy.random import randint"
   ]
  },
  {
   "cell_type": "code",
   "execution_count": null,
   "id": "12",
   "metadata": {},
   "outputs": [],
   "source": [
    "run = client.policy_versions.create_run(\n",
    "    policy_version_id=policy_version_id, input_data={\"number\": randint(100)}\n",
    ")"
   ]
  },
  {
   "cell_type": "code",
   "execution_count": null,
   "id": "13",
   "metadata": {},
   "outputs": [],
   "source": [
    "run_data = client.runs.get_data(run_id=run.run_id)\n",
    "print(run_data.model_dump_json(indent=4))"
   ]
  },
  {
   "cell_type": "code",
   "execution_count": null,
   "id": "14",
   "metadata": {},
   "outputs": [],
   "source": []
  }
 ],
 "metadata": {
  "kernelspec": {
   "display_name": "Python 3 (ipykernel)",
   "language": "python",
   "name": "python3"
  },
  "language_info": {
   "codemirror_mode": {
    "name": "ipython",
    "version": 3
   },
   "file_extension": ".py",
   "mimetype": "text/x-python",
   "name": "python",
   "nbconvert_exporter": "python",
   "pygments_lexer": "ipython3",
   "version": "3.12.4"
  }
 },
 "nbformat": 4,
 "nbformat_minor": 5
}
