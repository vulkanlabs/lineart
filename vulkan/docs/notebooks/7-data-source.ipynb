{
 "cells": [
  {
   "cell_type": "code",
   "execution_count": null,
   "id": "0",
   "metadata": {},
   "outputs": [],
   "source": [
    "%load_ext autotime\n",
    "%load_ext autoreload\n",
    "%autoreload 2"
   ]
  },
  {
   "cell_type": "code",
   "execution_count": null,
   "id": "1",
   "metadata": {},
   "outputs": [],
   "source": [
    "import vulkan.cli.client as vulkan\n",
    "from vulkan.cli.context import Context\n",
    "from vulkan.data_source import HTTPSource, RetryPolicy\n",
    "from vulkan.schemas import CachingOptions, DataSourceSpec"
   ]
  },
  {
   "cell_type": "code",
   "execution_count": null,
   "id": "2",
   "metadata": {},
   "outputs": [],
   "source": [
    "ctx = Context()"
   ]
  },
  {
   "cell_type": "code",
   "execution_count": null,
   "id": "3",
   "metadata": {},
   "outputs": [],
   "source": [
    "ctx.server_url = \"http://localhost:6001\""
   ]
  },
  {
   "cell_type": "code",
   "execution_count": null,
   "id": "4",
   "metadata": {},
   "outputs": [],
   "source": [
    "policy_id = vulkan.policy.create_policy(\n",
    "    ctx,\n",
    "    name=\"demo_policy\",\n",
    "    description=\"Demo Policy\",\n",
    ")"
   ]
  },
  {
   "cell_type": "code",
   "execution_count": null,
   "id": "5",
   "metadata": {},
   "outputs": [],
   "source": [
    "api = \"my-api\"\n",
    "version = \"1.0\"\n",
    "MY_API_REF = f\"{api}-v{version}\"\n",
    "\n",
    "vulkan.data.create_data_source(\n",
    "    ctx,\n",
    "    config=DataSourceSpec(\n",
    "        name=MY_API_REF,\n",
    "        description=\"Test data source\",\n",
    "        keys=[],\n",
    "        source=HTTPSource(\n",
    "            url=\"http://testdata:5000/\",\n",
    "            headers={\"Content-Type\": \"application/json\"},\n",
    "            retry=RetryPolicy(\n",
    "                max_retries=3,\n",
    "                backoff_factor=1,\n",
    "            ),\n",
    "            body_schema={\"tax_id\": \"str\"},\n",
    "            timeout=5,\n",
    "        ),\n",
    "        caching=CachingOptions(\n",
    "            enabled=True,\n",
    "            ttl=3600,\n",
    "        ),\n",
    "        metadata={\n",
    "            \"api\": api,\n",
    "            \"version\": version,\n",
    "        },\n",
    "    ),\n",
    ")"
   ]
  },
  {
   "cell_type": "code",
   "execution_count": null,
   "id": "6",
   "metadata": {},
   "outputs": [],
   "source": [
    "from vulkan.spec.dependency import INPUT_NODE, Dependency\n",
    "from vulkan.spec.nodes import (\n",
    "    BranchNode,\n",
    "    DataInputNode,\n",
    "    TerminateNode,\n",
    "    TransformNode,\n",
    ")\n",
    "from vulkan.spec.policy import PolicyDefinition"
   ]
  },
  {
   "cell_type": "code",
   "execution_count": null,
   "id": "7",
   "metadata": {},
   "outputs": [],
   "source": [
    "def _format_name(name: str) -> str:\n",
    "    # Replace every character not in regex \"^[A-Za-z0-9_]+$\" with _\n",
    "    return \"\".join(c if c.isalnum() or c == \"_\" else \"_\" for c in name)\n",
    "\n",
    "\n",
    "# Format the data source name into a valid node name\n",
    "MY_API_DATA_INPUT = _format_name(MY_API_REF)"
   ]
  },
  {
   "cell_type": "code",
   "execution_count": null,
   "id": "8",
   "metadata": {},
   "outputs": [],
   "source": [
    "def prepare_request_body(inputs):\n",
    "    return {\"tax_id\": inputs[\"tax_id\"]}\n",
    "\n",
    "\n",
    "body = TransformNode(\n",
    "    name=\"api_request_body\",\n",
    "    func=prepare_request_body,\n",
    "    dependencies={\"inputs\": Dependency(INPUT_NODE)},\n",
    ")\n",
    "\n",
    "api = DataInputNode(\n",
    "    name=MY_API_DATA_INPUT,\n",
    "    data_source=MY_API_REF,\n",
    "    dependencies={\"body\": Dependency(body.name)},\n",
    ")\n",
    "\n",
    "\n",
    "def load_data(context, raw_data, **kwargs):\n",
    "    import json\n",
    "\n",
    "    context.log.info(f\"Raw data: {raw_data}\")\n",
    "    data = json.loads(raw_data)\n",
    "    context.log.info(f\"Data loaded: {data} ({type(data)})\")\n",
    "    return data\n",
    "\n",
    "\n",
    "process_data = TransformNode(\n",
    "    name=\"post_process_data\",\n",
    "    func=load_data,\n",
    "    dependencies={\"raw_data\": Dependency(api.name)},\n",
    ")\n",
    "\n",
    "\n",
    "def make_decision(context, scores, **kwargs):\n",
    "    context.log.info(f\"Scores: {scores}\")\n",
    "    if scores[\"scr\"] > 600:\n",
    "        return \"approved\"\n",
    "    if scores[\"serasa\"] > 800:\n",
    "        return \"analysis\"\n",
    "    return \"denied\"\n",
    "\n",
    "\n",
    "decision = BranchNode(\n",
    "    name=\"decision\",\n",
    "    func=make_decision,\n",
    "    choices=[\"approved\", \"analysis\", \"denied\"],\n",
    "    dependencies={\"scores\": Dependency(process_data.name)},\n",
    ")\n",
    "\n",
    "approved = TerminateNode(\n",
    "    name=\"approved\",\n",
    "    return_status=\"approved\",\n",
    "    dependencies={\"condition\": Dependency(\"decision\", \"approved\")},\n",
    ")\n",
    "\n",
    "analysis = TerminateNode(\n",
    "    name=\"analysis\",\n",
    "    return_status=\"analysis\",\n",
    "    dependencies={\"condition\": Dependency(\"decision\", \"analysis\")},\n",
    ")\n",
    "\n",
    "denied = TerminateNode(\n",
    "    name=\"denied\",\n",
    "    return_status=\"denied\",\n",
    "    dependencies={\"condition\": Dependency(\"decision\", \"denied\")},\n",
    ")\n",
    "\n",
    "demo_policy = PolicyDefinition(\n",
    "    nodes=[\n",
    "        body,\n",
    "        api,\n",
    "        process_data,\n",
    "        decision,\n",
    "        approved,\n",
    "        analysis,\n",
    "        denied,\n",
    "    ],\n",
    "    input_schema={\"tax_id\": \"str\"},\n",
    ")"
   ]
  },
  {
   "cell_type": "code",
   "execution_count": null,
   "id": "9",
   "metadata": {},
   "outputs": [],
   "source": [
    "policy_version = vulkan.policy_version.create(\n",
    "    ctx,\n",
    "    policy_id=policy_id,\n",
    "    version_name=\"v1\",\n",
    "    input_schema={\"tax_id\": \"str\"},\n",
    "    spec=demo_policy.to_dict(),\n",
    ")\n",
    "policy_version"
   ]
  },
  {
   "cell_type": "code",
   "execution_count": null,
   "id": "10",
   "metadata": {},
   "outputs": [],
   "source": [
    "vulkan.run.trigger_run_by_policy_version_id(\n",
    "    ctx, policy_version[\"policy_version_id\"], input_data={\"tax_id\": \"1\"}\n",
    ")"
   ]
  },
  {
   "cell_type": "code",
   "execution_count": null,
   "id": "11",
   "metadata": {},
   "outputs": [],
   "source": [
    "policy_version[\"policy_version_id\"]"
   ]
  },
  {
   "cell_type": "code",
   "execution_count": null,
   "id": "12",
   "metadata": {},
   "outputs": [],
   "source": []
  }
 ],
 "metadata": {
  "kernelspec": {
   "display_name": "Python 3 (ipykernel)",
   "language": "python",
   "name": "python3"
  },
  "language_info": {
   "codemirror_mode": {
    "name": "ipython",
    "version": 3
   },
   "file_extension": ".py",
   "mimetype": "text/x-python",
   "name": "python",
   "nbconvert_exporter": "python",
   "pygments_lexer": "ipython3",
   "version": "3.12.4"
  }
 },
 "nbformat": 4,
 "nbformat_minor": 5
}
