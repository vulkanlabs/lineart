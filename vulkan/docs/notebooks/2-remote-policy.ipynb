{
 "cells": [
  {
   "cell_type": "markdown",
   "id": "0",
   "metadata": {},
   "source": [
    "# Running remotely in Vulkan Engine\n",
    "\n",
    "Now that we've tested and run our policy locally, we can use Vulkan Engine to scale and serve it. \\\n",
    "The same code will run in the remote server, and it'll have the added benefits of scalability, monitoring and governance. \n",
    "\n",
    "This notebook will show you how to upload this policy to the server and run a backtest!"
   ]
  },
  {
   "cell_type": "code",
   "execution_count": null,
   "id": "1",
   "metadata": {},
   "outputs": [],
   "source": [
    "import os\n",
    "\n",
    "import pandas as pd\n",
    "\n",
    "from vulkan.cli import client as vulkan\n",
    "from vulkan.cli.context import Context\n",
    "from vulkan.spec.dependency import INPUT_NODE, Dependency\n",
    "from vulkan.spec.nodes import BranchNode, TerminateNode\n",
    "from vulkan.spec.policy import PolicyDefinition"
   ]
  },
  {
   "cell_type": "code",
   "execution_count": null,
   "id": "2",
   "metadata": {},
   "outputs": [],
   "source": [
    "ctx = Context()"
   ]
  },
  {
   "cell_type": "markdown",
   "id": "3",
   "metadata": {},
   "source": [
    "## Creating the Policy"
   ]
  },
  {
   "cell_type": "code",
   "execution_count": null,
   "id": "4",
   "metadata": {},
   "outputs": [],
   "source": [
    "policy_path = os.path.abspath(\"../examples/policies/local/\")\n",
    "print(f\"Creating a Policy based on {policy_path}\")\n",
    "\n",
    "policy_id = vulkan.policy.create_policy(ctx, name=\"IsEven\")"
   ]
  },
  {
   "cell_type": "code",
   "execution_count": null,
   "id": "5",
   "metadata": {},
   "outputs": [],
   "source": [
    "def is_even_fn(input_node):\n",
    "    if input_node[\"number\"] % 2 == 0:\n",
    "        return \"even\"\n",
    "    return \"odd\"\n",
    "\n",
    "\n",
    "branch_node_1 = BranchNode(\n",
    "    name=\"branch_node_1\",\n",
    "    func=is_even_fn,\n",
    "    choices=[\"even\", \"odd\"],\n",
    "    dependencies={INPUT_NODE: Dependency(INPUT_NODE)},\n",
    ")\n",
    "\n",
    "is_even = TerminateNode(\n",
    "    name=\"is_even\",\n",
    "    return_status=\"Great\",\n",
    "    dependencies={\"condition\": Dependency(\"branch_node_1\", \"even\")},\n",
    ")\n",
    "\n",
    "is_odd = TerminateNode(\n",
    "    name=\"is_odd\",\n",
    "    return_status=\"Too_Bad\",\n",
    "    dependencies={\"condition\": Dependency(\"branch_node_1\", \"odd\")},\n",
    ")\n",
    "\n",
    "is_even = PolicyDefinition(\n",
    "    nodes=[\n",
    "        branch_node_1,\n",
    "        is_even,\n",
    "        is_odd,\n",
    "    ],\n",
    "    input_schema={\"number\": \"int\"},\n",
    ")"
   ]
  },
  {
   "cell_type": "code",
   "execution_count": null,
   "id": "6",
   "metadata": {},
   "outputs": [],
   "source": [
    "policy_version = vulkan.policy_version.create(\n",
    "    ctx,\n",
    "    policy_id=policy_id,\n",
    "    version_name=\"v1\",\n",
    "    spec=is_even.to_dict(),\n",
    "    input_schema={\"number\": \"int\"},\n",
    ")"
   ]
  },
  {
   "cell_type": "markdown",
   "id": "7",
   "metadata": {},
   "source": [
    "## Running we can run our policy (both locally and remotely!)"
   ]
  },
  {
   "cell_type": "code",
   "execution_count": null,
   "id": "8",
   "metadata": {},
   "outputs": [],
   "source": [
    "from numpy.random import randint"
   ]
  },
  {
   "cell_type": "code",
   "execution_count": null,
   "id": "9",
   "metadata": {},
   "outputs": [],
   "source": [
    "run_id, ok = vulkan.run.trigger_run_by_policy_version_id(\n",
    "    ctx, policy_version[\"policy_version_id\"], {\"number\": randint(100)}\n",
    ")\n",
    "vulkan.run.get_run_data(ctx, run_id)"
   ]
  },
  {
   "cell_type": "code",
   "execution_count": null,
   "id": "10",
   "metadata": {},
   "outputs": [],
   "source": []
  }
 ],
 "metadata": {
  "kernelspec": {
   "display_name": "Python 3 (ipykernel)",
   "language": "python",
   "name": "python3"
  },
  "language_info": {
   "codemirror_mode": {
    "name": "ipython",
    "version": 3
   },
   "file_extension": ".py",
   "mimetype": "text/x-python",
   "name": "python",
   "nbconvert_exporter": "python",
   "pygments_lexer": "ipython3",
   "version": "3.12.4"
  }
 },
 "nbformat": 4,
 "nbformat_minor": 5
}
